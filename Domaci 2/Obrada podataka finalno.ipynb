{
 "cells": [
  {
   "cell_type": "code",
   "execution_count": 160,
   "id": "d8c63313",
   "metadata": {},
   "outputs": [],
   "source": [
    "#importovanje biblioteka\n",
    "import numpy as np\n",
    "import pandas as pd\n",
    "from scipy import stats\n",
    "import seaborn as sn\n",
    "import matplotlib.pyplot as plt\n",
    "\n",
    "sn.set(font_scale=0.8)"
   ]
  },
  {
   "cell_type": "code",
   "execution_count": 161,
   "id": "56c993a2",
   "metadata": {},
   "outputs": [],
   "source": [
    "df=pd.read_csv('bank-additional.csv',sep=';')"
   ]
  },
  {
   "cell_type": "markdown",
   "id": "3ad1ecd1",
   "metadata": {},
   "source": [
    "<b>UCITAVANJE DATASET-A</b>"
   ]
  },
  {
   "cell_type": "code",
   "execution_count": 162,
   "id": "4ca4952e",
   "metadata": {
    "scrolled": true
   },
   "outputs": [
    {
     "data": {
      "text/html": [
       "<div>\n",
       "<style scoped>\n",
       "    .dataframe tbody tr th:only-of-type {\n",
       "        vertical-align: middle;\n",
       "    }\n",
       "\n",
       "    .dataframe tbody tr th {\n",
       "        vertical-align: top;\n",
       "    }\n",
       "\n",
       "    .dataframe thead th {\n",
       "        text-align: right;\n",
       "    }\n",
       "</style>\n",
       "<table border=\"1\" class=\"dataframe\">\n",
       "  <thead>\n",
       "    <tr style=\"text-align: right;\">\n",
       "      <th></th>\n",
       "      <th>age</th>\n",
       "      <th>job</th>\n",
       "      <th>marital</th>\n",
       "      <th>education</th>\n",
       "      <th>default</th>\n",
       "      <th>housing</th>\n",
       "      <th>loan</th>\n",
       "      <th>contact</th>\n",
       "      <th>month</th>\n",
       "      <th>day_of_week</th>\n",
       "      <th>duration</th>\n",
       "      <th>campaign</th>\n",
       "      <th>pdays</th>\n",
       "      <th>previous</th>\n",
       "      <th>poutcome</th>\n",
       "      <th>emp.var.rate</th>\n",
       "      <th>cons.price.idx</th>\n",
       "      <th>cons.conf.idx</th>\n",
       "      <th>euribor3m</th>\n",
       "      <th>nr.employed</th>\n",
       "      <th>y</th>\n",
       "    </tr>\n",
       "  </thead>\n",
       "  <tbody>\n",
       "    <tr>\n",
       "      <th>0</th>\n",
       "      <td>30</td>\n",
       "      <td>blue-collar</td>\n",
       "      <td>married</td>\n",
       "      <td>basic.9y</td>\n",
       "      <td>no</td>\n",
       "      <td>yes</td>\n",
       "      <td>no</td>\n",
       "      <td>cellular</td>\n",
       "      <td>may</td>\n",
       "      <td>fri</td>\n",
       "      <td>487.0</td>\n",
       "      <td>2.0</td>\n",
       "      <td>999</td>\n",
       "      <td>0.0</td>\n",
       "      <td>nonexistent</td>\n",
       "      <td>-1.8</td>\n",
       "      <td>92.893</td>\n",
       "      <td>-46.2</td>\n",
       "      <td>1.313</td>\n",
       "      <td>5099.1</td>\n",
       "      <td>no</td>\n",
       "    </tr>\n",
       "    <tr>\n",
       "      <th>1</th>\n",
       "      <td>39</td>\n",
       "      <td>services</td>\n",
       "      <td>single</td>\n",
       "      <td>high.school</td>\n",
       "      <td>no</td>\n",
       "      <td>no</td>\n",
       "      <td>no</td>\n",
       "      <td>telephone</td>\n",
       "      <td>may</td>\n",
       "      <td>fri</td>\n",
       "      <td>346.0</td>\n",
       "      <td>4.0</td>\n",
       "      <td>999</td>\n",
       "      <td>0.0</td>\n",
       "      <td>nonexistent</td>\n",
       "      <td>1.1</td>\n",
       "      <td>93.994</td>\n",
       "      <td>-36.4</td>\n",
       "      <td>4.855</td>\n",
       "      <td>5191</td>\n",
       "      <td>no</td>\n",
       "    </tr>\n",
       "    <tr>\n",
       "      <th>2</th>\n",
       "      <td>25</td>\n",
       "      <td>services</td>\n",
       "      <td>married</td>\n",
       "      <td>high.school</td>\n",
       "      <td>no</td>\n",
       "      <td>yes</td>\n",
       "      <td>no</td>\n",
       "      <td>telephone</td>\n",
       "      <td>jun</td>\n",
       "      <td>wed</td>\n",
       "      <td>227.0</td>\n",
       "      <td>1.0</td>\n",
       "      <td>999</td>\n",
       "      <td>0.0</td>\n",
       "      <td>nonexistent</td>\n",
       "      <td>1.4</td>\n",
       "      <td>94.465</td>\n",
       "      <td>-41.8</td>\n",
       "      <td>4.962</td>\n",
       "      <td>5228.1</td>\n",
       "      <td>no</td>\n",
       "    </tr>\n",
       "    <tr>\n",
       "      <th>3</th>\n",
       "      <td>38</td>\n",
       "      <td>services</td>\n",
       "      <td>married</td>\n",
       "      <td>basic.9y</td>\n",
       "      <td>no</td>\n",
       "      <td>unknown</td>\n",
       "      <td>unknown</td>\n",
       "      <td>telephone</td>\n",
       "      <td>jun</td>\n",
       "      <td>fri</td>\n",
       "      <td>17.0</td>\n",
       "      <td>3.0</td>\n",
       "      <td>999</td>\n",
       "      <td>0.0</td>\n",
       "      <td>nonexistent</td>\n",
       "      <td>1.4</td>\n",
       "      <td>94.465</td>\n",
       "      <td>-41.8</td>\n",
       "      <td>4.959</td>\n",
       "      <td>5228.1</td>\n",
       "      <td>no</td>\n",
       "    </tr>\n",
       "    <tr>\n",
       "      <th>4</th>\n",
       "      <td>47</td>\n",
       "      <td>admin.</td>\n",
       "      <td>married</td>\n",
       "      <td>university.degree</td>\n",
       "      <td>no</td>\n",
       "      <td>yes</td>\n",
       "      <td>no</td>\n",
       "      <td>cellular</td>\n",
       "      <td>nov</td>\n",
       "      <td>mon</td>\n",
       "      <td>58.0</td>\n",
       "      <td>1.0</td>\n",
       "      <td>999</td>\n",
       "      <td>0.0</td>\n",
       "      <td>nonexistent</td>\n",
       "      <td>-0.1</td>\n",
       "      <td>93.200</td>\n",
       "      <td>-42.0</td>\n",
       "      <td>4.191</td>\n",
       "      <td>5195.8</td>\n",
       "      <td>no</td>\n",
       "    </tr>\n",
       "    <tr>\n",
       "      <th>5</th>\n",
       "      <td>32</td>\n",
       "      <td>services</td>\n",
       "      <td>single</td>\n",
       "      <td>university.degree</td>\n",
       "      <td>no</td>\n",
       "      <td>no</td>\n",
       "      <td>no</td>\n",
       "      <td>cellular</td>\n",
       "      <td>sep</td>\n",
       "      <td>thu</td>\n",
       "      <td>128.0</td>\n",
       "      <td>3.0</td>\n",
       "      <td>999</td>\n",
       "      <td>2.0</td>\n",
       "      <td>failure</td>\n",
       "      <td>-1.1</td>\n",
       "      <td>94.199</td>\n",
       "      <td>-37.5</td>\n",
       "      <td>0.884</td>\n",
       "      <td>4963.6</td>\n",
       "      <td>no</td>\n",
       "    </tr>\n",
       "    <tr>\n",
       "      <th>6</th>\n",
       "      <td>32</td>\n",
       "      <td>admin.</td>\n",
       "      <td>single</td>\n",
       "      <td>university.degree</td>\n",
       "      <td>no</td>\n",
       "      <td>yes</td>\n",
       "      <td>no</td>\n",
       "      <td>cellular</td>\n",
       "      <td>sep</td>\n",
       "      <td>mon</td>\n",
       "      <td>290.0</td>\n",
       "      <td>4.0</td>\n",
       "      <td>999</td>\n",
       "      <td>0.0</td>\n",
       "      <td>nonexistent</td>\n",
       "      <td>-1.1</td>\n",
       "      <td>94.199</td>\n",
       "      <td>-37.5</td>\n",
       "      <td>0.879</td>\n",
       "      <td>4963.6</td>\n",
       "      <td>no</td>\n",
       "    </tr>\n",
       "    <tr>\n",
       "      <th>7</th>\n",
       "      <td>41</td>\n",
       "      <td>entrepreneur</td>\n",
       "      <td>married</td>\n",
       "      <td>university.degree</td>\n",
       "      <td>unknown</td>\n",
       "      <td>yes</td>\n",
       "      <td>no</td>\n",
       "      <td>cellular</td>\n",
       "      <td>nov</td>\n",
       "      <td>mon</td>\n",
       "      <td>44.0</td>\n",
       "      <td>2.0</td>\n",
       "      <td>999</td>\n",
       "      <td>0.0</td>\n",
       "      <td>nonexistent</td>\n",
       "      <td>-0.1</td>\n",
       "      <td>93.200</td>\n",
       "      <td>-42.0</td>\n",
       "      <td>4.191</td>\n",
       "      <td>5195.8</td>\n",
       "      <td>no</td>\n",
       "    </tr>\n",
       "    <tr>\n",
       "      <th>8</th>\n",
       "      <td>31</td>\n",
       "      <td>services</td>\n",
       "      <td>divorced</td>\n",
       "      <td>professional.course</td>\n",
       "      <td>no</td>\n",
       "      <td>no</td>\n",
       "      <td>no</td>\n",
       "      <td>cellular</td>\n",
       "      <td>nov</td>\n",
       "      <td>tue</td>\n",
       "      <td>68.0</td>\n",
       "      <td>1.0</td>\n",
       "      <td>999</td>\n",
       "      <td>1.0</td>\n",
       "      <td>failure</td>\n",
       "      <td>-0.1</td>\n",
       "      <td>93.200</td>\n",
       "      <td>-42.0</td>\n",
       "      <td>4.153</td>\n",
       "      <td>5195.8</td>\n",
       "      <td>no</td>\n",
       "    </tr>\n",
       "    <tr>\n",
       "      <th>9</th>\n",
       "      <td>35</td>\n",
       "      <td>blue-collar</td>\n",
       "      <td>married</td>\n",
       "      <td>basic.9y</td>\n",
       "      <td>unknown</td>\n",
       "      <td>no</td>\n",
       "      <td>no</td>\n",
       "      <td>telephone</td>\n",
       "      <td>may</td>\n",
       "      <td>thu</td>\n",
       "      <td>NaN</td>\n",
       "      <td>1.0</td>\n",
       "      <td>999</td>\n",
       "      <td>0.0</td>\n",
       "      <td>nonexistent</td>\n",
       "      <td>1.1</td>\n",
       "      <td>93.994</td>\n",
       "      <td>-36.4</td>\n",
       "      <td>4.855</td>\n",
       "      <td>5191</td>\n",
       "      <td>no</td>\n",
       "    </tr>\n",
       "  </tbody>\n",
       "</table>\n",
       "</div>"
      ],
      "text/plain": [
       "   age           job   marital            education  default  housing  \\\n",
       "0   30   blue-collar   married             basic.9y       no      yes   \n",
       "1   39      services    single          high.school       no       no   \n",
       "2   25      services   married          high.school       no      yes   \n",
       "3   38      services   married             basic.9y       no  unknown   \n",
       "4   47        admin.   married    university.degree       no      yes   \n",
       "5   32      services    single    university.degree       no       no   \n",
       "6   32        admin.    single    university.degree       no      yes   \n",
       "7   41  entrepreneur   married    university.degree  unknown      yes   \n",
       "8   31      services  divorced  professional.course       no       no   \n",
       "9   35   blue-collar   married             basic.9y  unknown       no   \n",
       "\n",
       "      loan    contact month day_of_week  duration  campaign  pdays  previous  \\\n",
       "0       no   cellular   may         fri     487.0       2.0    999       0.0   \n",
       "1       no  telephone   may         fri     346.0       4.0    999       0.0   \n",
       "2       no  telephone   jun         wed     227.0       1.0    999       0.0   \n",
       "3  unknown  telephone   jun         fri      17.0       3.0    999       0.0   \n",
       "4       no   cellular   nov         mon      58.0       1.0    999       0.0   \n",
       "5       no   cellular   sep         thu     128.0       3.0    999       2.0   \n",
       "6       no   cellular   sep         mon     290.0       4.0    999       0.0   \n",
       "7       no   cellular   nov         mon      44.0       2.0    999       0.0   \n",
       "8       no   cellular   nov         tue      68.0       1.0    999       1.0   \n",
       "9       no  telephone   may         thu       NaN       1.0    999       0.0   \n",
       "\n",
       "      poutcome  emp.var.rate  cons.price.idx  cons.conf.idx  euribor3m  \\\n",
       "0  nonexistent          -1.8          92.893          -46.2      1.313   \n",
       "1  nonexistent           1.1          93.994          -36.4      4.855   \n",
       "2  nonexistent           1.4          94.465          -41.8      4.962   \n",
       "3  nonexistent           1.4          94.465          -41.8      4.959   \n",
       "4  nonexistent          -0.1          93.200          -42.0      4.191   \n",
       "5      failure          -1.1          94.199          -37.5      0.884   \n",
       "6  nonexistent          -1.1          94.199          -37.5      0.879   \n",
       "7  nonexistent          -0.1          93.200          -42.0      4.191   \n",
       "8      failure          -0.1          93.200          -42.0      4.153   \n",
       "9  nonexistent           1.1          93.994          -36.4      4.855   \n",
       "\n",
       "  nr.employed   y  \n",
       "0      5099.1  no  \n",
       "1        5191  no  \n",
       "2      5228.1  no  \n",
       "3      5228.1  no  \n",
       "4      5195.8  no  \n",
       "5      4963.6  no  \n",
       "6      4963.6  no  \n",
       "7      5195.8  no  \n",
       "8      5195.8  no  \n",
       "9        5191  no  "
      ]
     },
     "execution_count": 162,
     "metadata": {},
     "output_type": "execute_result"
    }
   ],
   "source": [
    "df.head(10)"
   ]
  },
  {
   "cell_type": "code",
   "execution_count": 163,
   "id": "12a45a36",
   "metadata": {},
   "outputs": [],
   "source": [
    "pd.set_option('display.max_columns', 21)"
   ]
  },
  {
   "cell_type": "code",
   "execution_count": 164,
   "id": "5981dc15",
   "metadata": {},
   "outputs": [
    {
     "data": {
      "text/html": [
       "<div>\n",
       "<style scoped>\n",
       "    .dataframe tbody tr th:only-of-type {\n",
       "        vertical-align: middle;\n",
       "    }\n",
       "\n",
       "    .dataframe tbody tr th {\n",
       "        vertical-align: top;\n",
       "    }\n",
       "\n",
       "    .dataframe thead th {\n",
       "        text-align: right;\n",
       "    }\n",
       "</style>\n",
       "<table border=\"1\" class=\"dataframe\">\n",
       "  <thead>\n",
       "    <tr style=\"text-align: right;\">\n",
       "      <th></th>\n",
       "      <th>age</th>\n",
       "      <th>job</th>\n",
       "      <th>marital</th>\n",
       "      <th>education</th>\n",
       "      <th>default</th>\n",
       "      <th>housing</th>\n",
       "      <th>loan</th>\n",
       "      <th>contact</th>\n",
       "      <th>month</th>\n",
       "      <th>day_of_week</th>\n",
       "      <th>duration</th>\n",
       "      <th>campaign</th>\n",
       "      <th>pdays</th>\n",
       "      <th>previous</th>\n",
       "      <th>poutcome</th>\n",
       "      <th>emp.var.rate</th>\n",
       "      <th>cons.price.idx</th>\n",
       "      <th>cons.conf.idx</th>\n",
       "      <th>euribor3m</th>\n",
       "      <th>nr.employed</th>\n",
       "      <th>y</th>\n",
       "    </tr>\n",
       "  </thead>\n",
       "  <tbody>\n",
       "    <tr>\n",
       "      <th>0</th>\n",
       "      <td>30</td>\n",
       "      <td>blue-collar</td>\n",
       "      <td>married</td>\n",
       "      <td>basic.9y</td>\n",
       "      <td>no</td>\n",
       "      <td>yes</td>\n",
       "      <td>no</td>\n",
       "      <td>cellular</td>\n",
       "      <td>may</td>\n",
       "      <td>fri</td>\n",
       "      <td>487.0</td>\n",
       "      <td>2.0</td>\n",
       "      <td>999</td>\n",
       "      <td>0.0</td>\n",
       "      <td>nonexistent</td>\n",
       "      <td>-1.8</td>\n",
       "      <td>92.893</td>\n",
       "      <td>-46.2</td>\n",
       "      <td>1.313</td>\n",
       "      <td>5099.1</td>\n",
       "      <td>no</td>\n",
       "    </tr>\n",
       "    <tr>\n",
       "      <th>1</th>\n",
       "      <td>39</td>\n",
       "      <td>services</td>\n",
       "      <td>single</td>\n",
       "      <td>high.school</td>\n",
       "      <td>no</td>\n",
       "      <td>no</td>\n",
       "      <td>no</td>\n",
       "      <td>telephone</td>\n",
       "      <td>may</td>\n",
       "      <td>fri</td>\n",
       "      <td>346.0</td>\n",
       "      <td>4.0</td>\n",
       "      <td>999</td>\n",
       "      <td>0.0</td>\n",
       "      <td>nonexistent</td>\n",
       "      <td>1.1</td>\n",
       "      <td>93.994</td>\n",
       "      <td>-36.4</td>\n",
       "      <td>4.855</td>\n",
       "      <td>5191</td>\n",
       "      <td>no</td>\n",
       "    </tr>\n",
       "    <tr>\n",
       "      <th>2</th>\n",
       "      <td>25</td>\n",
       "      <td>services</td>\n",
       "      <td>married</td>\n",
       "      <td>high.school</td>\n",
       "      <td>no</td>\n",
       "      <td>yes</td>\n",
       "      <td>no</td>\n",
       "      <td>telephone</td>\n",
       "      <td>jun</td>\n",
       "      <td>wed</td>\n",
       "      <td>227.0</td>\n",
       "      <td>1.0</td>\n",
       "      <td>999</td>\n",
       "      <td>0.0</td>\n",
       "      <td>nonexistent</td>\n",
       "      <td>1.4</td>\n",
       "      <td>94.465</td>\n",
       "      <td>-41.8</td>\n",
       "      <td>4.962</td>\n",
       "      <td>5228.1</td>\n",
       "      <td>no</td>\n",
       "    </tr>\n",
       "    <tr>\n",
       "      <th>3</th>\n",
       "      <td>38</td>\n",
       "      <td>services</td>\n",
       "      <td>married</td>\n",
       "      <td>basic.9y</td>\n",
       "      <td>no</td>\n",
       "      <td>unknown</td>\n",
       "      <td>unknown</td>\n",
       "      <td>telephone</td>\n",
       "      <td>jun</td>\n",
       "      <td>fri</td>\n",
       "      <td>17.0</td>\n",
       "      <td>3.0</td>\n",
       "      <td>999</td>\n",
       "      <td>0.0</td>\n",
       "      <td>nonexistent</td>\n",
       "      <td>1.4</td>\n",
       "      <td>94.465</td>\n",
       "      <td>-41.8</td>\n",
       "      <td>4.959</td>\n",
       "      <td>5228.1</td>\n",
       "      <td>no</td>\n",
       "    </tr>\n",
       "    <tr>\n",
       "      <th>4</th>\n",
       "      <td>47</td>\n",
       "      <td>admin.</td>\n",
       "      <td>married</td>\n",
       "      <td>university.degree</td>\n",
       "      <td>no</td>\n",
       "      <td>yes</td>\n",
       "      <td>no</td>\n",
       "      <td>cellular</td>\n",
       "      <td>nov</td>\n",
       "      <td>mon</td>\n",
       "      <td>58.0</td>\n",
       "      <td>1.0</td>\n",
       "      <td>999</td>\n",
       "      <td>0.0</td>\n",
       "      <td>nonexistent</td>\n",
       "      <td>-0.1</td>\n",
       "      <td>93.200</td>\n",
       "      <td>-42.0</td>\n",
       "      <td>4.191</td>\n",
       "      <td>5195.8</td>\n",
       "      <td>no</td>\n",
       "    </tr>\n",
       "  </tbody>\n",
       "</table>\n",
       "</div>"
      ],
      "text/plain": [
       "   age          job  marital          education default  housing     loan  \\\n",
       "0   30  blue-collar  married           basic.9y      no      yes       no   \n",
       "1   39     services   single        high.school      no       no       no   \n",
       "2   25     services  married        high.school      no      yes       no   \n",
       "3   38     services  married           basic.9y      no  unknown  unknown   \n",
       "4   47       admin.  married  university.degree      no      yes       no   \n",
       "\n",
       "     contact month day_of_week  duration  campaign  pdays  previous  \\\n",
       "0   cellular   may         fri     487.0       2.0    999       0.0   \n",
       "1  telephone   may         fri     346.0       4.0    999       0.0   \n",
       "2  telephone   jun         wed     227.0       1.0    999       0.0   \n",
       "3  telephone   jun         fri      17.0       3.0    999       0.0   \n",
       "4   cellular   nov         mon      58.0       1.0    999       0.0   \n",
       "\n",
       "      poutcome  emp.var.rate  cons.price.idx  cons.conf.idx  euribor3m  \\\n",
       "0  nonexistent          -1.8          92.893          -46.2      1.313   \n",
       "1  nonexistent           1.1          93.994          -36.4      4.855   \n",
       "2  nonexistent           1.4          94.465          -41.8      4.962   \n",
       "3  nonexistent           1.4          94.465          -41.8      4.959   \n",
       "4  nonexistent          -0.1          93.200          -42.0      4.191   \n",
       "\n",
       "  nr.employed   y  \n",
       "0      5099.1  no  \n",
       "1        5191  no  \n",
       "2      5228.1  no  \n",
       "3      5228.1  no  \n",
       "4      5195.8  no  "
      ]
     },
     "execution_count": 164,
     "metadata": {},
     "output_type": "execute_result"
    }
   ],
   "source": [
    "df.head()"
   ]
  },
  {
   "cell_type": "code",
   "execution_count": 165,
   "id": "72bc2a55",
   "metadata": {},
   "outputs": [],
   "source": [
    "#df.rename(columns = {'y':'deposit_subscription'}, inplace = True) #Promena naziva kolone koja predstavlja izlaznu varijablu u modelima"
   ]
  },
  {
   "cell_type": "code",
   "execution_count": 166,
   "id": "a51c5f1f",
   "metadata": {},
   "outputs": [],
   "source": [
    "df.columns = ['godine', 'tip_posla', 'bracni_status', 'obrazovanje','kasni_sa_isplatom',\n",
    "              'stambeni_kredit','licni_kredit/zajam','vrsta_kontakta','mesec_poslednjeg_poziva','dan_poslednjeg_poziva',\n",
    "              'trajanje_poslednjeg_poziva','puta_kontaktiran_u_kampanji','dana_od_poslednjeg_kontakta','puta_kontaktiran_u_proslosti','ishod_prethodnih_kampanja',\n",
    "             'stopa_varijabiliteta_zaposlenosti','indeks_potrosackih_cena','indeks_poverenja_kupca','euribor','broj_zaposlenih','orocio_depozit']"
   ]
  },
  {
   "cell_type": "code",
   "execution_count": 167,
   "id": "b0985729",
   "metadata": {},
   "outputs": [
    {
     "data": {
      "text/html": [
       "<div>\n",
       "<style scoped>\n",
       "    .dataframe tbody tr th:only-of-type {\n",
       "        vertical-align: middle;\n",
       "    }\n",
       "\n",
       "    .dataframe tbody tr th {\n",
       "        vertical-align: top;\n",
       "    }\n",
       "\n",
       "    .dataframe thead th {\n",
       "        text-align: right;\n",
       "    }\n",
       "</style>\n",
       "<table border=\"1\" class=\"dataframe\">\n",
       "  <thead>\n",
       "    <tr style=\"text-align: right;\">\n",
       "      <th></th>\n",
       "      <th>godine</th>\n",
       "      <th>tip_posla</th>\n",
       "      <th>bracni_status</th>\n",
       "      <th>obrazovanje</th>\n",
       "      <th>kasni_sa_isplatom</th>\n",
       "      <th>stambeni_kredit</th>\n",
       "      <th>licni_kredit/zajam</th>\n",
       "      <th>vrsta_kontakta</th>\n",
       "      <th>mesec_poslednjeg_poziva</th>\n",
       "      <th>dan_poslednjeg_poziva</th>\n",
       "      <th>trajanje_poslednjeg_poziva</th>\n",
       "      <th>puta_kontaktiran_u_kampanji</th>\n",
       "      <th>dana_od_poslednjeg_kontakta</th>\n",
       "      <th>puta_kontaktiran_u_proslosti</th>\n",
       "      <th>ishod_prethodnih_kampanja</th>\n",
       "      <th>stopa_varijabiliteta_zaposlenosti</th>\n",
       "      <th>indeks_potrosackih_cena</th>\n",
       "      <th>indeks_poverenja_kupca</th>\n",
       "      <th>euribor</th>\n",
       "      <th>broj_zaposlenih</th>\n",
       "      <th>orocio_depozit</th>\n",
       "    </tr>\n",
       "  </thead>\n",
       "  <tbody>\n",
       "    <tr>\n",
       "      <th>0</th>\n",
       "      <td>30</td>\n",
       "      <td>blue-collar</td>\n",
       "      <td>married</td>\n",
       "      <td>basic.9y</td>\n",
       "      <td>no</td>\n",
       "      <td>yes</td>\n",
       "      <td>no</td>\n",
       "      <td>cellular</td>\n",
       "      <td>may</td>\n",
       "      <td>fri</td>\n",
       "      <td>487.0</td>\n",
       "      <td>2.0</td>\n",
       "      <td>999</td>\n",
       "      <td>0.0</td>\n",
       "      <td>nonexistent</td>\n",
       "      <td>-1.8</td>\n",
       "      <td>92.893</td>\n",
       "      <td>-46.2</td>\n",
       "      <td>1.313</td>\n",
       "      <td>5099.1</td>\n",
       "      <td>no</td>\n",
       "    </tr>\n",
       "    <tr>\n",
       "      <th>1</th>\n",
       "      <td>39</td>\n",
       "      <td>services</td>\n",
       "      <td>single</td>\n",
       "      <td>high.school</td>\n",
       "      <td>no</td>\n",
       "      <td>no</td>\n",
       "      <td>no</td>\n",
       "      <td>telephone</td>\n",
       "      <td>may</td>\n",
       "      <td>fri</td>\n",
       "      <td>346.0</td>\n",
       "      <td>4.0</td>\n",
       "      <td>999</td>\n",
       "      <td>0.0</td>\n",
       "      <td>nonexistent</td>\n",
       "      <td>1.1</td>\n",
       "      <td>93.994</td>\n",
       "      <td>-36.4</td>\n",
       "      <td>4.855</td>\n",
       "      <td>5191</td>\n",
       "      <td>no</td>\n",
       "    </tr>\n",
       "    <tr>\n",
       "      <th>2</th>\n",
       "      <td>25</td>\n",
       "      <td>services</td>\n",
       "      <td>married</td>\n",
       "      <td>high.school</td>\n",
       "      <td>no</td>\n",
       "      <td>yes</td>\n",
       "      <td>no</td>\n",
       "      <td>telephone</td>\n",
       "      <td>jun</td>\n",
       "      <td>wed</td>\n",
       "      <td>227.0</td>\n",
       "      <td>1.0</td>\n",
       "      <td>999</td>\n",
       "      <td>0.0</td>\n",
       "      <td>nonexistent</td>\n",
       "      <td>1.4</td>\n",
       "      <td>94.465</td>\n",
       "      <td>-41.8</td>\n",
       "      <td>4.962</td>\n",
       "      <td>5228.1</td>\n",
       "      <td>no</td>\n",
       "    </tr>\n",
       "    <tr>\n",
       "      <th>3</th>\n",
       "      <td>38</td>\n",
       "      <td>services</td>\n",
       "      <td>married</td>\n",
       "      <td>basic.9y</td>\n",
       "      <td>no</td>\n",
       "      <td>unknown</td>\n",
       "      <td>unknown</td>\n",
       "      <td>telephone</td>\n",
       "      <td>jun</td>\n",
       "      <td>fri</td>\n",
       "      <td>17.0</td>\n",
       "      <td>3.0</td>\n",
       "      <td>999</td>\n",
       "      <td>0.0</td>\n",
       "      <td>nonexistent</td>\n",
       "      <td>1.4</td>\n",
       "      <td>94.465</td>\n",
       "      <td>-41.8</td>\n",
       "      <td>4.959</td>\n",
       "      <td>5228.1</td>\n",
       "      <td>no</td>\n",
       "    </tr>\n",
       "    <tr>\n",
       "      <th>4</th>\n",
       "      <td>47</td>\n",
       "      <td>admin.</td>\n",
       "      <td>married</td>\n",
       "      <td>university.degree</td>\n",
       "      <td>no</td>\n",
       "      <td>yes</td>\n",
       "      <td>no</td>\n",
       "      <td>cellular</td>\n",
       "      <td>nov</td>\n",
       "      <td>mon</td>\n",
       "      <td>58.0</td>\n",
       "      <td>1.0</td>\n",
       "      <td>999</td>\n",
       "      <td>0.0</td>\n",
       "      <td>nonexistent</td>\n",
       "      <td>-0.1</td>\n",
       "      <td>93.200</td>\n",
       "      <td>-42.0</td>\n",
       "      <td>4.191</td>\n",
       "      <td>5195.8</td>\n",
       "      <td>no</td>\n",
       "    </tr>\n",
       "    <tr>\n",
       "      <th>5</th>\n",
       "      <td>32</td>\n",
       "      <td>services</td>\n",
       "      <td>single</td>\n",
       "      <td>university.degree</td>\n",
       "      <td>no</td>\n",
       "      <td>no</td>\n",
       "      <td>no</td>\n",
       "      <td>cellular</td>\n",
       "      <td>sep</td>\n",
       "      <td>thu</td>\n",
       "      <td>128.0</td>\n",
       "      <td>3.0</td>\n",
       "      <td>999</td>\n",
       "      <td>2.0</td>\n",
       "      <td>failure</td>\n",
       "      <td>-1.1</td>\n",
       "      <td>94.199</td>\n",
       "      <td>-37.5</td>\n",
       "      <td>0.884</td>\n",
       "      <td>4963.6</td>\n",
       "      <td>no</td>\n",
       "    </tr>\n",
       "    <tr>\n",
       "      <th>6</th>\n",
       "      <td>32</td>\n",
       "      <td>admin.</td>\n",
       "      <td>single</td>\n",
       "      <td>university.degree</td>\n",
       "      <td>no</td>\n",
       "      <td>yes</td>\n",
       "      <td>no</td>\n",
       "      <td>cellular</td>\n",
       "      <td>sep</td>\n",
       "      <td>mon</td>\n",
       "      <td>290.0</td>\n",
       "      <td>4.0</td>\n",
       "      <td>999</td>\n",
       "      <td>0.0</td>\n",
       "      <td>nonexistent</td>\n",
       "      <td>-1.1</td>\n",
       "      <td>94.199</td>\n",
       "      <td>-37.5</td>\n",
       "      <td>0.879</td>\n",
       "      <td>4963.6</td>\n",
       "      <td>no</td>\n",
       "    </tr>\n",
       "    <tr>\n",
       "      <th>7</th>\n",
       "      <td>41</td>\n",
       "      <td>entrepreneur</td>\n",
       "      <td>married</td>\n",
       "      <td>university.degree</td>\n",
       "      <td>unknown</td>\n",
       "      <td>yes</td>\n",
       "      <td>no</td>\n",
       "      <td>cellular</td>\n",
       "      <td>nov</td>\n",
       "      <td>mon</td>\n",
       "      <td>44.0</td>\n",
       "      <td>2.0</td>\n",
       "      <td>999</td>\n",
       "      <td>0.0</td>\n",
       "      <td>nonexistent</td>\n",
       "      <td>-0.1</td>\n",
       "      <td>93.200</td>\n",
       "      <td>-42.0</td>\n",
       "      <td>4.191</td>\n",
       "      <td>5195.8</td>\n",
       "      <td>no</td>\n",
       "    </tr>\n",
       "    <tr>\n",
       "      <th>8</th>\n",
       "      <td>31</td>\n",
       "      <td>services</td>\n",
       "      <td>divorced</td>\n",
       "      <td>professional.course</td>\n",
       "      <td>no</td>\n",
       "      <td>no</td>\n",
       "      <td>no</td>\n",
       "      <td>cellular</td>\n",
       "      <td>nov</td>\n",
       "      <td>tue</td>\n",
       "      <td>68.0</td>\n",
       "      <td>1.0</td>\n",
       "      <td>999</td>\n",
       "      <td>1.0</td>\n",
       "      <td>failure</td>\n",
       "      <td>-0.1</td>\n",
       "      <td>93.200</td>\n",
       "      <td>-42.0</td>\n",
       "      <td>4.153</td>\n",
       "      <td>5195.8</td>\n",
       "      <td>no</td>\n",
       "    </tr>\n",
       "    <tr>\n",
       "      <th>9</th>\n",
       "      <td>35</td>\n",
       "      <td>blue-collar</td>\n",
       "      <td>married</td>\n",
       "      <td>basic.9y</td>\n",
       "      <td>unknown</td>\n",
       "      <td>no</td>\n",
       "      <td>no</td>\n",
       "      <td>telephone</td>\n",
       "      <td>may</td>\n",
       "      <td>thu</td>\n",
       "      <td>NaN</td>\n",
       "      <td>1.0</td>\n",
       "      <td>999</td>\n",
       "      <td>0.0</td>\n",
       "      <td>nonexistent</td>\n",
       "      <td>1.1</td>\n",
       "      <td>93.994</td>\n",
       "      <td>-36.4</td>\n",
       "      <td>4.855</td>\n",
       "      <td>5191</td>\n",
       "      <td>no</td>\n",
       "    </tr>\n",
       "    <tr>\n",
       "      <th>10</th>\n",
       "      <td>25</td>\n",
       "      <td>services</td>\n",
       "      <td>single</td>\n",
       "      <td>basic.6y</td>\n",
       "      <td>unknown</td>\n",
       "      <td>yes</td>\n",
       "      <td>no</td>\n",
       "      <td>cellular</td>\n",
       "      <td>jul</td>\n",
       "      <td>thu</td>\n",
       "      <td>301.0</td>\n",
       "      <td>1.0</td>\n",
       "      <td>999</td>\n",
       "      <td>0.0</td>\n",
       "      <td>nonexistent</td>\n",
       "      <td>1.4</td>\n",
       "      <td>93.918</td>\n",
       "      <td>-42.7</td>\n",
       "      <td>4.958</td>\n",
       "      <td>5228.1</td>\n",
       "      <td>no</td>\n",
       "    </tr>\n",
       "    <tr>\n",
       "      <th>11</th>\n",
       "      <td>36</td>\n",
       "      <td>self-employed</td>\n",
       "      <td>single</td>\n",
       "      <td>basic.4y</td>\n",
       "      <td>no</td>\n",
       "      <td>no</td>\n",
       "      <td>no</td>\n",
       "      <td>cellular</td>\n",
       "      <td>jul</td>\n",
       "      <td>thu</td>\n",
       "      <td>148.0</td>\n",
       "      <td>1.0</td>\n",
       "      <td>999</td>\n",
       "      <td>0.0</td>\n",
       "      <td>nonexistent</td>\n",
       "      <td>1.4</td>\n",
       "      <td>93.918</td>\n",
       "      <td>-42.7</td>\n",
       "      <td>4.968</td>\n",
       "      <td>5228.1</td>\n",
       "      <td>no</td>\n",
       "    </tr>\n",
       "    <tr>\n",
       "      <th>12</th>\n",
       "      <td>36</td>\n",
       "      <td>admin.</td>\n",
       "      <td>married</td>\n",
       "      <td>high.school</td>\n",
       "      <td>no</td>\n",
       "      <td>no</td>\n",
       "      <td>no</td>\n",
       "      <td>telephone</td>\n",
       "      <td>may</td>\n",
       "      <td>wed</td>\n",
       "      <td>97.0</td>\n",
       "      <td>2.0</td>\n",
       "      <td>999</td>\n",
       "      <td>0.0</td>\n",
       "      <td>nonexistent</td>\n",
       "      <td>1.1</td>\n",
       "      <td>93.994</td>\n",
       "      <td>-36.4</td>\n",
       "      <td>4.859</td>\n",
       "      <td>5191</td>\n",
       "      <td>no</td>\n",
       "    </tr>\n",
       "    <tr>\n",
       "      <th>13</th>\n",
       "      <td>47</td>\n",
       "      <td>blue-collar</td>\n",
       "      <td>married</td>\n",
       "      <td>basic.4y</td>\n",
       "      <td>no</td>\n",
       "      <td>yes</td>\n",
       "      <td>no</td>\n",
       "      <td>telephone</td>\n",
       "      <td>jun</td>\n",
       "      <td>thu</td>\n",
       "      <td>211.0</td>\n",
       "      <td>2.0</td>\n",
       "      <td>999</td>\n",
       "      <td>0.0</td>\n",
       "      <td>nonexistent</td>\n",
       "      <td>1.4</td>\n",
       "      <td>94.465</td>\n",
       "      <td>-41.8</td>\n",
       "      <td>4.958</td>\n",
       "      <td>5228.1</td>\n",
       "      <td>no</td>\n",
       "    </tr>\n",
       "    <tr>\n",
       "      <th>14</th>\n",
       "      <td>29</td>\n",
       "      <td>admin.</td>\n",
       "      <td>single</td>\n",
       "      <td>high.school</td>\n",
       "      <td>no</td>\n",
       "      <td>no</td>\n",
       "      <td>no</td>\n",
       "      <td>cellular</td>\n",
       "      <td>may</td>\n",
       "      <td>fri</td>\n",
       "      <td>553.0</td>\n",
       "      <td>2.0</td>\n",
       "      <td>999</td>\n",
       "      <td>0.0</td>\n",
       "      <td>nonexistent</td>\n",
       "      <td>-1.8</td>\n",
       "      <td>92.893</td>\n",
       "      <td>-46.2</td>\n",
       "      <td>1.313</td>\n",
       "      <td>5099.1</td>\n",
       "      <td>no</td>\n",
       "    </tr>\n",
       "    <tr>\n",
       "      <th>15</th>\n",
       "      <td>27</td>\n",
       "      <td>services</td>\n",
       "      <td>single</td>\n",
       "      <td>university.degree</td>\n",
       "      <td>no</td>\n",
       "      <td>no</td>\n",
       "      <td>no</td>\n",
       "      <td>cellular</td>\n",
       "      <td>jul</td>\n",
       "      <td>wed</td>\n",
       "      <td>698.0</td>\n",
       "      <td>2.0</td>\n",
       "      <td>999</td>\n",
       "      <td>0.0</td>\n",
       "      <td>nonexistent</td>\n",
       "      <td>1.4</td>\n",
       "      <td>93.918</td>\n",
       "      <td>-42.7</td>\n",
       "      <td>4.963</td>\n",
       "      <td>5228.1</td>\n",
       "      <td>no</td>\n",
       "    </tr>\n",
       "    <tr>\n",
       "      <th>16</th>\n",
       "      <td>44</td>\n",
       "      <td>admin.</td>\n",
       "      <td>divorced</td>\n",
       "      <td>university.degree</td>\n",
       "      <td>no</td>\n",
       "      <td>no</td>\n",
       "      <td>no</td>\n",
       "      <td>cellular</td>\n",
       "      <td>jul</td>\n",
       "      <td>wed</td>\n",
       "      <td>191.0</td>\n",
       "      <td>6.0</td>\n",
       "      <td>999</td>\n",
       "      <td>0.0</td>\n",
       "      <td>nonexistent</td>\n",
       "      <td>1.4</td>\n",
       "      <td>93.918</td>\n",
       "      <td>-42.7</td>\n",
       "      <td>4.957</td>\n",
       "      <td>5228.1</td>\n",
       "      <td>no</td>\n",
       "    </tr>\n",
       "    <tr>\n",
       "      <th>17</th>\n",
       "      <td>46</td>\n",
       "      <td>admin.</td>\n",
       "      <td>divorced</td>\n",
       "      <td>university.degree</td>\n",
       "      <td>no</td>\n",
       "      <td>yes</td>\n",
       "      <td>no</td>\n",
       "      <td>telephone</td>\n",
       "      <td>jul</td>\n",
       "      <td>mon</td>\n",
       "      <td>59.0</td>\n",
       "      <td>4.0</td>\n",
       "      <td>999</td>\n",
       "      <td>0.0</td>\n",
       "      <td>nonexistent</td>\n",
       "      <td>1.4</td>\n",
       "      <td>93.918</td>\n",
       "      <td>-42.7</td>\n",
       "      <td>4.962</td>\n",
       "      <td>5228.1</td>\n",
       "      <td>no</td>\n",
       "    </tr>\n",
       "    <tr>\n",
       "      <th>18</th>\n",
       "      <td>45</td>\n",
       "      <td>entrepreneur</td>\n",
       "      <td>married</td>\n",
       "      <td>university.degree</td>\n",
       "      <td>unknown</td>\n",
       "      <td>yes</td>\n",
       "      <td>yes</td>\n",
       "      <td>cellular</td>\n",
       "      <td>aug</td>\n",
       "      <td>mon</td>\n",
       "      <td>38.0</td>\n",
       "      <td>2.0</td>\n",
       "      <td>999</td>\n",
       "      <td>0.0</td>\n",
       "      <td>nonexistent</td>\n",
       "      <td>1.4</td>\n",
       "      <td>93.444</td>\n",
       "      <td>-36.1</td>\n",
       "      <td>4.965</td>\n",
       "      <td>5228.1</td>\n",
       "      <td>no</td>\n",
       "    </tr>\n",
       "    <tr>\n",
       "      <th>19</th>\n",
       "      <td>50</td>\n",
       "      <td>blue-collar</td>\n",
       "      <td>married</td>\n",
       "      <td>basic.4y</td>\n",
       "      <td>no</td>\n",
       "      <td>no</td>\n",
       "      <td>yes</td>\n",
       "      <td>cellular</td>\n",
       "      <td>jul</td>\n",
       "      <td>tue</td>\n",
       "      <td>849.0</td>\n",
       "      <td>1.0</td>\n",
       "      <td>999</td>\n",
       "      <td>0.0</td>\n",
       "      <td>nonexistent</td>\n",
       "      <td>1.4</td>\n",
       "      <td>93.918</td>\n",
       "      <td>-42.7</td>\n",
       "      <td>4.961</td>\n",
       "      <td>5228.1</td>\n",
       "      <td>yes</td>\n",
       "    </tr>\n",
       "  </tbody>\n",
       "</table>\n",
       "</div>"
      ],
      "text/plain": [
       "    godine      tip_posla bracni_status          obrazovanje  \\\n",
       "0       30    blue-collar       married             basic.9y   \n",
       "1       39       services        single          high.school   \n",
       "2       25       services       married          high.school   \n",
       "3       38       services       married             basic.9y   \n",
       "4       47         admin.       married    university.degree   \n",
       "5       32       services        single    university.degree   \n",
       "6       32         admin.        single    university.degree   \n",
       "7       41   entrepreneur       married    university.degree   \n",
       "8       31       services      divorced  professional.course   \n",
       "9       35    blue-collar       married             basic.9y   \n",
       "10      25       services        single             basic.6y   \n",
       "11      36  self-employed        single             basic.4y   \n",
       "12      36         admin.       married          high.school   \n",
       "13      47    blue-collar       married             basic.4y   \n",
       "14      29         admin.        single          high.school   \n",
       "15      27       services        single    university.degree   \n",
       "16      44         admin.      divorced    university.degree   \n",
       "17      46         admin.      divorced    university.degree   \n",
       "18      45   entrepreneur       married    university.degree   \n",
       "19      50    blue-collar       married             basic.4y   \n",
       "\n",
       "   kasni_sa_isplatom stambeni_kredit licni_kredit/zajam vrsta_kontakta  \\\n",
       "0                 no             yes                 no       cellular   \n",
       "1                 no              no                 no      telephone   \n",
       "2                 no             yes                 no      telephone   \n",
       "3                 no         unknown            unknown      telephone   \n",
       "4                 no             yes                 no       cellular   \n",
       "5                 no              no                 no       cellular   \n",
       "6                 no             yes                 no       cellular   \n",
       "7            unknown             yes                 no       cellular   \n",
       "8                 no              no                 no       cellular   \n",
       "9            unknown              no                 no      telephone   \n",
       "10           unknown             yes                 no       cellular   \n",
       "11                no              no                 no       cellular   \n",
       "12                no              no                 no      telephone   \n",
       "13                no             yes                 no      telephone   \n",
       "14                no              no                 no       cellular   \n",
       "15                no              no                 no       cellular   \n",
       "16                no              no                 no       cellular   \n",
       "17                no             yes                 no      telephone   \n",
       "18           unknown             yes                yes       cellular   \n",
       "19                no              no                yes       cellular   \n",
       "\n",
       "   mesec_poslednjeg_poziva dan_poslednjeg_poziva  trajanje_poslednjeg_poziva  \\\n",
       "0                      may                   fri                       487.0   \n",
       "1                      may                   fri                       346.0   \n",
       "2                      jun                   wed                       227.0   \n",
       "3                      jun                   fri                        17.0   \n",
       "4                      nov                   mon                        58.0   \n",
       "5                      sep                   thu                       128.0   \n",
       "6                      sep                   mon                       290.0   \n",
       "7                      nov                   mon                        44.0   \n",
       "8                      nov                   tue                        68.0   \n",
       "9                      may                   thu                         NaN   \n",
       "10                     jul                   thu                       301.0   \n",
       "11                     jul                   thu                       148.0   \n",
       "12                     may                   wed                        97.0   \n",
       "13                     jun                   thu                       211.0   \n",
       "14                     may                   fri                       553.0   \n",
       "15                     jul                   wed                       698.0   \n",
       "16                     jul                   wed                       191.0   \n",
       "17                     jul                   mon                        59.0   \n",
       "18                     aug                   mon                        38.0   \n",
       "19                     jul                   tue                       849.0   \n",
       "\n",
       "    puta_kontaktiran_u_kampanji  dana_od_poslednjeg_kontakta  \\\n",
       "0                           2.0                          999   \n",
       "1                           4.0                          999   \n",
       "2                           1.0                          999   \n",
       "3                           3.0                          999   \n",
       "4                           1.0                          999   \n",
       "5                           3.0                          999   \n",
       "6                           4.0                          999   \n",
       "7                           2.0                          999   \n",
       "8                           1.0                          999   \n",
       "9                           1.0                          999   \n",
       "10                          1.0                          999   \n",
       "11                          1.0                          999   \n",
       "12                          2.0                          999   \n",
       "13                          2.0                          999   \n",
       "14                          2.0                          999   \n",
       "15                          2.0                          999   \n",
       "16                          6.0                          999   \n",
       "17                          4.0                          999   \n",
       "18                          2.0                          999   \n",
       "19                          1.0                          999   \n",
       "\n",
       "    puta_kontaktiran_u_proslosti ishod_prethodnih_kampanja  \\\n",
       "0                            0.0               nonexistent   \n",
       "1                            0.0               nonexistent   \n",
       "2                            0.0               nonexistent   \n",
       "3                            0.0               nonexistent   \n",
       "4                            0.0               nonexistent   \n",
       "5                            2.0                   failure   \n",
       "6                            0.0               nonexistent   \n",
       "7                            0.0               nonexistent   \n",
       "8                            1.0                   failure   \n",
       "9                            0.0               nonexistent   \n",
       "10                           0.0               nonexistent   \n",
       "11                           0.0               nonexistent   \n",
       "12                           0.0               nonexistent   \n",
       "13                           0.0               nonexistent   \n",
       "14                           0.0               nonexistent   \n",
       "15                           0.0               nonexistent   \n",
       "16                           0.0               nonexistent   \n",
       "17                           0.0               nonexistent   \n",
       "18                           0.0               nonexistent   \n",
       "19                           0.0               nonexistent   \n",
       "\n",
       "    stopa_varijabiliteta_zaposlenosti  indeks_potrosackih_cena  \\\n",
       "0                                -1.8                   92.893   \n",
       "1                                 1.1                   93.994   \n",
       "2                                 1.4                   94.465   \n",
       "3                                 1.4                   94.465   \n",
       "4                                -0.1                   93.200   \n",
       "5                                -1.1                   94.199   \n",
       "6                                -1.1                   94.199   \n",
       "7                                -0.1                   93.200   \n",
       "8                                -0.1                   93.200   \n",
       "9                                 1.1                   93.994   \n",
       "10                                1.4                   93.918   \n",
       "11                                1.4                   93.918   \n",
       "12                                1.1                   93.994   \n",
       "13                                1.4                   94.465   \n",
       "14                               -1.8                   92.893   \n",
       "15                                1.4                   93.918   \n",
       "16                                1.4                   93.918   \n",
       "17                                1.4                   93.918   \n",
       "18                                1.4                   93.444   \n",
       "19                                1.4                   93.918   \n",
       "\n",
       "    indeks_poverenja_kupca  euribor broj_zaposlenih orocio_depozit  \n",
       "0                    -46.2    1.313          5099.1             no  \n",
       "1                    -36.4    4.855            5191             no  \n",
       "2                    -41.8    4.962          5228.1             no  \n",
       "3                    -41.8    4.959          5228.1             no  \n",
       "4                    -42.0    4.191          5195.8             no  \n",
       "5                    -37.5    0.884          4963.6             no  \n",
       "6                    -37.5    0.879          4963.6             no  \n",
       "7                    -42.0    4.191          5195.8             no  \n",
       "8                    -42.0    4.153          5195.8             no  \n",
       "9                    -36.4    4.855            5191             no  \n",
       "10                   -42.7    4.958          5228.1             no  \n",
       "11                   -42.7    4.968          5228.1             no  \n",
       "12                   -36.4    4.859            5191             no  \n",
       "13                   -41.8    4.958          5228.1             no  \n",
       "14                   -46.2    1.313          5099.1             no  \n",
       "15                   -42.7    4.963          5228.1             no  \n",
       "16                   -42.7    4.957          5228.1             no  \n",
       "17                   -42.7    4.962          5228.1             no  \n",
       "18                   -36.1    4.965          5228.1             no  \n",
       "19                   -42.7    4.961          5228.1            yes  "
      ]
     },
     "execution_count": 167,
     "metadata": {},
     "output_type": "execute_result"
    }
   ],
   "source": [
    "df.head(20)"
   ]
  },
  {
   "cell_type": "markdown",
   "id": "67aa1469",
   "metadata": {},
   "source": [
    "<b>ANALIZA SKUPA PODATAKA</b>"
   ]
  },
  {
   "cell_type": "markdown",
   "id": "46dc773c",
   "metadata": {},
   "source": [
    "<b>Odredjivanje tipova podataka atributa</b>"
   ]
  },
  {
   "cell_type": "code",
   "execution_count": 168,
   "id": "fddd5242",
   "metadata": {},
   "outputs": [
    {
     "name": "stdout",
     "output_type": "stream",
     "text": [
      "Skup podataka ima 4119 redova i 21 kolonu\n"
     ]
    }
   ],
   "source": [
    "a, b = df.shape\n",
    "print ('Skup podataka ima {} redova i {} kolonu'.format(a,b))\n",
    "\n",
    "#Promeni imena kolonama da bi se bolje razumeo dataset!!!!!!!"
   ]
  },
  {
   "cell_type": "code",
   "execution_count": 169,
   "id": "5f2686c3",
   "metadata": {},
   "outputs": [
    {
     "name": "stdout",
     "output_type": "stream",
     "text": [
      "<class 'pandas.core.frame.DataFrame'>\n",
      "RangeIndex: 4119 entries, 0 to 4118\n",
      "Data columns (total 21 columns):\n",
      " #   Column                             Non-Null Count  Dtype  \n",
      "---  ------                             --------------  -----  \n",
      " 0   godine                             4119 non-null   int64  \n",
      " 1   tip_posla                          4119 non-null   object \n",
      " 2   bracni_status                      4119 non-null   object \n",
      " 3   obrazovanje                        4119 non-null   object \n",
      " 4   kasni_sa_isplatom                  4119 non-null   object \n",
      " 5   stambeni_kredit                    4119 non-null   object \n",
      " 6   licni_kredit/zajam                 4119 non-null   object \n",
      " 7   vrsta_kontakta                     4119 non-null   object \n",
      " 8   mesec_poslednjeg_poziva            4119 non-null   object \n",
      " 9   dan_poslednjeg_poziva              4119 non-null   object \n",
      " 10  trajanje_poslednjeg_poziva         4116 non-null   float64\n",
      " 11  puta_kontaktiran_u_kampanji        4114 non-null   float64\n",
      " 12  dana_od_poslednjeg_kontakta        4119 non-null   int64  \n",
      " 13  puta_kontaktiran_u_proslosti       4117 non-null   float64\n",
      " 14  ishod_prethodnih_kampanja          4119 non-null   object \n",
      " 15  stopa_varijabiliteta_zaposlenosti  4116 non-null   float64\n",
      " 16  indeks_potrosackih_cena            4117 non-null   float64\n",
      " 17  indeks_poverenja_kupca             4117 non-null   float64\n",
      " 18  euribor                            4117 non-null   float64\n",
      " 19  broj_zaposlenih                    4118 non-null   object \n",
      " 20  orocio_depozit                     4118 non-null   object \n",
      "dtypes: float64(7), int64(2), object(12)\n",
      "memory usage: 675.9+ KB\n"
     ]
    }
   ],
   "source": [
    "df.info()"
   ]
  },
  {
   "cell_type": "markdown",
   "id": "caa8dee2",
   "metadata": {},
   "source": [
    "Bitno je napomenuti da su varijable od <b>stopa_varijabiliteta_zaposlenosti</b> zakljucno sa <b>broj_zaposlenih</b> socio-ekonomski pokazatelji i da se mere za razlicite vremenske periode.Euribor se meri na <b>dnevnom</b> (iako je vrednost za tromesecje),indeks potrosackih cena i poverenja kupca se na <b>mesecnom</b>,a stopa varijabiliteta zaposlenosti na <b>tromesecnom</b> nivou."
   ]
  },
  {
   "cell_type": "code",
   "execution_count": 170,
   "id": "db24dc5d",
   "metadata": {},
   "outputs": [
    {
     "data": {
      "text/plain": [
       "godine                                 int64\n",
       "tip_posla                             object\n",
       "bracni_status                         object\n",
       "obrazovanje                           object\n",
       "kasni_sa_isplatom                     object\n",
       "stambeni_kredit                       object\n",
       "licni_kredit/zajam                    object\n",
       "vrsta_kontakta                        object\n",
       "mesec_poslednjeg_poziva               object\n",
       "dan_poslednjeg_poziva                 object\n",
       "trajanje_poslednjeg_poziva           float64\n",
       "puta_kontaktiran_u_kampanji          float64\n",
       "dana_od_poslednjeg_kontakta            int64\n",
       "puta_kontaktiran_u_proslosti         float64\n",
       "ishod_prethodnih_kampanja             object\n",
       "stopa_varijabiliteta_zaposlenosti    float64\n",
       "indeks_potrosackih_cena              float64\n",
       "indeks_poverenja_kupca               float64\n",
       "euribor                              float64\n",
       "broj_zaposlenih                       object\n",
       "orocio_depozit                        object\n",
       "dtype: object"
      ]
     },
     "execution_count": 170,
     "metadata": {},
     "output_type": "execute_result"
    }
   ],
   "source": [
    "df.dtypes"
   ]
  },
  {
   "cell_type": "markdown",
   "id": "20812f0b",
   "metadata": {},
   "source": [
    "Vidimo da je promenljiva <b>broj_zaposlenih</b> object tipa,iako se iz dokumantacije i intuitivno moze zakljuciti da bi trebalo da je brojevnog tipa,pa idemo u detaljniji pregled te kolone"
   ]
  },
  {
   "cell_type": "code",
   "execution_count": 171,
   "id": "bfae0699",
   "metadata": {},
   "outputs": [
    {
     "data": {
      "text/html": [
       "<div>\n",
       "<style scoped>\n",
       "    .dataframe tbody tr th:only-of-type {\n",
       "        vertical-align: middle;\n",
       "    }\n",
       "\n",
       "    .dataframe tbody tr th {\n",
       "        vertical-align: top;\n",
       "    }\n",
       "\n",
       "    .dataframe thead th {\n",
       "        text-align: right;\n",
       "    }\n",
       "</style>\n",
       "<table border=\"1\" class=\"dataframe\">\n",
       "  <thead>\n",
       "    <tr style=\"text-align: right;\">\n",
       "      <th></th>\n",
       "      <th>godine</th>\n",
       "      <th>tip_posla</th>\n",
       "      <th>bracni_status</th>\n",
       "      <th>obrazovanje</th>\n",
       "      <th>kasni_sa_isplatom</th>\n",
       "      <th>stambeni_kredit</th>\n",
       "      <th>licni_kredit/zajam</th>\n",
       "      <th>vrsta_kontakta</th>\n",
       "      <th>mesec_poslednjeg_poziva</th>\n",
       "      <th>dan_poslednjeg_poziva</th>\n",
       "      <th>trajanje_poslednjeg_poziva</th>\n",
       "      <th>puta_kontaktiran_u_kampanji</th>\n",
       "      <th>dana_od_poslednjeg_kontakta</th>\n",
       "      <th>puta_kontaktiran_u_proslosti</th>\n",
       "      <th>ishod_prethodnih_kampanja</th>\n",
       "      <th>stopa_varijabiliteta_zaposlenosti</th>\n",
       "      <th>indeks_potrosackih_cena</th>\n",
       "      <th>indeks_poverenja_kupca</th>\n",
       "      <th>euribor</th>\n",
       "      <th>broj_zaposlenih</th>\n",
       "      <th>orocio_depozit</th>\n",
       "    </tr>\n",
       "  </thead>\n",
       "  <tbody>\n",
       "    <tr>\n",
       "      <th>775</th>\n",
       "      <td>36</td>\n",
       "      <td>admin.</td>\n",
       "      <td>married</td>\n",
       "      <td>university.degree</td>\n",
       "      <td>no</td>\n",
       "      <td>no</td>\n",
       "      <td>no</td>\n",
       "      <td>cellular</td>\n",
       "      <td>may</td>\n",
       "      <td>tue</td>\n",
       "      <td>65.0</td>\n",
       "      <td>1.0</td>\n",
       "      <td>999</td>\n",
       "      <td>1.0</td>\n",
       "      <td>failure</td>\n",
       "      <td>-1.8</td>\n",
       "      <td>92.893</td>\n",
       "      <td>-46.200</td>\n",
       "      <td>1.266</td>\n",
       "      <td>5099.1</td>\n",
       "      <td>no</td>\n",
       "    </tr>\n",
       "    <tr>\n",
       "      <th>776</th>\n",
       "      <td>29</td>\n",
       "      <td>technician</td>\n",
       "      <td>single</td>\n",
       "      <td>university.degree</td>\n",
       "      <td>no</td>\n",
       "      <td>yes</td>\n",
       "      <td>yes</td>\n",
       "      <td>cellular</td>\n",
       "      <td>nov</td>\n",
       "      <td>thu</td>\n",
       "      <td>281.0</td>\n",
       "      <td>2.0</td>\n",
       "      <td>999</td>\n",
       "      <td>0.0</td>\n",
       "      <td>nonexistent</td>\n",
       "      <td>-0.1</td>\n",
       "      <td>93.200</td>\n",
       "      <td>-42.000</td>\n",
       "      <td>4.076</td>\n",
       "      <td>5195.8</td>\n",
       "      <td>no</td>\n",
       "    </tr>\n",
       "    <tr>\n",
       "      <th>777</th>\n",
       "      <td>30</td>\n",
       "      <td>admin.</td>\n",
       "      <td>single</td>\n",
       "      <td>high.school</td>\n",
       "      <td>no</td>\n",
       "      <td>unknown</td>\n",
       "      <td>unknown</td>\n",
       "      <td>cellular</td>\n",
       "      <td>nov</td>\n",
       "      <td>tue</td>\n",
       "      <td>229.0</td>\n",
       "      <td>2.0</td>\n",
       "      <td>999</td>\n",
       "      <td>0.0</td>\n",
       "      <td>nonexistent</td>\n",
       "      <td>-0.1</td>\n",
       "      <td>93.200</td>\n",
       "      <td>-42.000</td>\n",
       "      <td>4.153</td>\n",
       "      <td>5195.8</td>\n",
       "      <td>no</td>\n",
       "    </tr>\n",
       "    <tr>\n",
       "      <th>778</th>\n",
       "      <td>24</td>\n",
       "      <td>student</td>\n",
       "      <td>married</td>\n",
       "      <td>university.degree</td>\n",
       "      <td>no</td>\n",
       "      <td>no</td>\n",
       "      <td>no</td>\n",
       "      <td>cellular</td>\n",
       "      <td>jul</td>\n",
       "      <td>tue</td>\n",
       "      <td>114.0</td>\n",
       "      <td>1.0</td>\n",
       "      <td>999</td>\n",
       "      <td>0.0</td>\n",
       "      <td>nonexistent</td>\n",
       "      <td>1.4</td>\n",
       "      <td>93.918</td>\n",
       "      <td>-42.700</td>\n",
       "      <td>4.961</td>\n",
       "      <td>5228.1</td>\n",
       "      <td>no</td>\n",
       "    </tr>\n",
       "    <tr>\n",
       "      <th>779</th>\n",
       "      <td>47</td>\n",
       "      <td>admin.</td>\n",
       "      <td>single</td>\n",
       "      <td>university.degree</td>\n",
       "      <td>no</td>\n",
       "      <td>yes</td>\n",
       "      <td>no</td>\n",
       "      <td>cellular</td>\n",
       "      <td>jun</td>\n",
       "      <td>mon</td>\n",
       "      <td>243.0</td>\n",
       "      <td>4.0</td>\n",
       "      <td>999</td>\n",
       "      <td>0.0</td>\n",
       "      <td>nonexistent</td>\n",
       "      <td>-2.9</td>\n",
       "      <td>92.963</td>\n",
       "      <td>-40.800</td>\n",
       "      <td>1.281</td>\n",
       "      <td>5076.2</td>\n",
       "      <td>yes</td>\n",
       "    </tr>\n",
       "    <tr>\n",
       "      <th>780</th>\n",
       "      <td>32</td>\n",
       "      <td>blue-collar</td>\n",
       "      <td>married</td>\n",
       "      <td>basic.4y</td>\n",
       "      <td>no</td>\n",
       "      <td>no</td>\n",
       "      <td>yes</td>\n",
       "      <td>cellular</td>\n",
       "      <td>may</td>\n",
       "      <td>thu</td>\n",
       "      <td>80.0</td>\n",
       "      <td>4.0</td>\n",
       "      <td>999</td>\n",
       "      <td>0.0</td>\n",
       "      <td>nonexistent</td>\n",
       "      <td>-1.8</td>\n",
       "      <td>92.893</td>\n",
       "      <td>1.266</td>\n",
       "      <td>5099.100</td>\n",
       "      <td>no</td>\n",
       "      <td>NaN</td>\n",
       "    </tr>\n",
       "    <tr>\n",
       "      <th>781</th>\n",
       "      <td>34</td>\n",
       "      <td>technician</td>\n",
       "      <td>single</td>\n",
       "      <td>professional.course</td>\n",
       "      <td>no</td>\n",
       "      <td>no</td>\n",
       "      <td>no</td>\n",
       "      <td>cellular</td>\n",
       "      <td>aug</td>\n",
       "      <td>mon</td>\n",
       "      <td>468.0</td>\n",
       "      <td>1.0</td>\n",
       "      <td>999</td>\n",
       "      <td>0.0</td>\n",
       "      <td>nonexistent</td>\n",
       "      <td>1.4</td>\n",
       "      <td>93.444</td>\n",
       "      <td>-36.100</td>\n",
       "      <td>4.965</td>\n",
       "      <td>5228.1</td>\n",
       "      <td>no</td>\n",
       "    </tr>\n",
       "  </tbody>\n",
       "</table>\n",
       "</div>"
      ],
      "text/plain": [
       "     godine    tip_posla bracni_status          obrazovanje kasni_sa_isplatom  \\\n",
       "775      36       admin.       married    university.degree                no   \n",
       "776      29   technician        single    university.degree                no   \n",
       "777      30       admin.        single          high.school                no   \n",
       "778      24      student       married    university.degree                no   \n",
       "779      47       admin.        single    university.degree                no   \n",
       "780      32  blue-collar       married             basic.4y                no   \n",
       "781      34   technician        single  professional.course                no   \n",
       "\n",
       "    stambeni_kredit licni_kredit/zajam vrsta_kontakta mesec_poslednjeg_poziva  \\\n",
       "775              no                 no       cellular                     may   \n",
       "776             yes                yes       cellular                     nov   \n",
       "777         unknown            unknown       cellular                     nov   \n",
       "778              no                 no       cellular                     jul   \n",
       "779             yes                 no       cellular                     jun   \n",
       "780              no                yes       cellular                     may   \n",
       "781              no                 no       cellular                     aug   \n",
       "\n",
       "    dan_poslednjeg_poziva  trajanje_poslednjeg_poziva  \\\n",
       "775                   tue                        65.0   \n",
       "776                   thu                       281.0   \n",
       "777                   tue                       229.0   \n",
       "778                   tue                       114.0   \n",
       "779                   mon                       243.0   \n",
       "780                   thu                        80.0   \n",
       "781                   mon                       468.0   \n",
       "\n",
       "     puta_kontaktiran_u_kampanji  dana_od_poslednjeg_kontakta  \\\n",
       "775                          1.0                          999   \n",
       "776                          2.0                          999   \n",
       "777                          2.0                          999   \n",
       "778                          1.0                          999   \n",
       "779                          4.0                          999   \n",
       "780                          4.0                          999   \n",
       "781                          1.0                          999   \n",
       "\n",
       "     puta_kontaktiran_u_proslosti ishod_prethodnih_kampanja  \\\n",
       "775                           1.0                   failure   \n",
       "776                           0.0               nonexistent   \n",
       "777                           0.0               nonexistent   \n",
       "778                           0.0               nonexistent   \n",
       "779                           0.0               nonexistent   \n",
       "780                           0.0               nonexistent   \n",
       "781                           0.0               nonexistent   \n",
       "\n",
       "     stopa_varijabiliteta_zaposlenosti  indeks_potrosackih_cena  \\\n",
       "775                               -1.8                   92.893   \n",
       "776                               -0.1                   93.200   \n",
       "777                               -0.1                   93.200   \n",
       "778                                1.4                   93.918   \n",
       "779                               -2.9                   92.963   \n",
       "780                               -1.8                   92.893   \n",
       "781                                1.4                   93.444   \n",
       "\n",
       "     indeks_poverenja_kupca   euribor broj_zaposlenih orocio_depozit  \n",
       "775                 -46.200     1.266          5099.1             no  \n",
       "776                 -42.000     4.076          5195.8             no  \n",
       "777                 -42.000     4.153          5195.8             no  \n",
       "778                 -42.700     4.961          5228.1             no  \n",
       "779                 -40.800     1.281          5076.2            yes  \n",
       "780                   1.266  5099.100              no            NaN  \n",
       "781                 -36.100     4.965          5228.1             no  "
      ]
     },
     "execution_count": 171,
     "metadata": {},
     "output_type": "execute_result"
    }
   ],
   "source": [
    "df.iloc[775:782]"
   ]
  },
  {
   "cell_type": "code",
   "execution_count": 172,
   "id": "3a56fd45",
   "metadata": {},
   "outputs": [],
   "source": [
    "df.iloc[780, 20] = 'no'\n",
    "df.iloc[780, 19] = df.iloc[780, 18]\n",
    "df.iloc[780, 18] = df.iloc[780, 17]\n",
    "df.iloc[780,17] = np.NaN"
   ]
  },
  {
   "cell_type": "code",
   "execution_count": 173,
   "id": "ea4c4b24",
   "metadata": {},
   "outputs": [
    {
     "data": {
      "text/html": [
       "<div>\n",
       "<style scoped>\n",
       "    .dataframe tbody tr th:only-of-type {\n",
       "        vertical-align: middle;\n",
       "    }\n",
       "\n",
       "    .dataframe tbody tr th {\n",
       "        vertical-align: top;\n",
       "    }\n",
       "\n",
       "    .dataframe thead th {\n",
       "        text-align: right;\n",
       "    }\n",
       "</style>\n",
       "<table border=\"1\" class=\"dataframe\">\n",
       "  <thead>\n",
       "    <tr style=\"text-align: right;\">\n",
       "      <th></th>\n",
       "      <th>godine</th>\n",
       "      <th>tip_posla</th>\n",
       "      <th>bracni_status</th>\n",
       "      <th>obrazovanje</th>\n",
       "      <th>kasni_sa_isplatom</th>\n",
       "      <th>stambeni_kredit</th>\n",
       "      <th>licni_kredit/zajam</th>\n",
       "      <th>vrsta_kontakta</th>\n",
       "      <th>mesec_poslednjeg_poziva</th>\n",
       "      <th>dan_poslednjeg_poziva</th>\n",
       "      <th>trajanje_poslednjeg_poziva</th>\n",
       "      <th>puta_kontaktiran_u_kampanji</th>\n",
       "      <th>dana_od_poslednjeg_kontakta</th>\n",
       "      <th>puta_kontaktiran_u_proslosti</th>\n",
       "      <th>ishod_prethodnih_kampanja</th>\n",
       "      <th>stopa_varijabiliteta_zaposlenosti</th>\n",
       "      <th>indeks_potrosackih_cena</th>\n",
       "      <th>indeks_poverenja_kupca</th>\n",
       "      <th>euribor</th>\n",
       "      <th>broj_zaposlenih</th>\n",
       "      <th>orocio_depozit</th>\n",
       "    </tr>\n",
       "  </thead>\n",
       "  <tbody>\n",
       "    <tr>\n",
       "      <th>775</th>\n",
       "      <td>36</td>\n",
       "      <td>admin.</td>\n",
       "      <td>married</td>\n",
       "      <td>university.degree</td>\n",
       "      <td>no</td>\n",
       "      <td>no</td>\n",
       "      <td>no</td>\n",
       "      <td>cellular</td>\n",
       "      <td>may</td>\n",
       "      <td>tue</td>\n",
       "      <td>65.0</td>\n",
       "      <td>1.0</td>\n",
       "      <td>999</td>\n",
       "      <td>1.0</td>\n",
       "      <td>failure</td>\n",
       "      <td>-1.8</td>\n",
       "      <td>92.893</td>\n",
       "      <td>-46.2</td>\n",
       "      <td>1.266</td>\n",
       "      <td>5099.1</td>\n",
       "      <td>no</td>\n",
       "    </tr>\n",
       "    <tr>\n",
       "      <th>776</th>\n",
       "      <td>29</td>\n",
       "      <td>technician</td>\n",
       "      <td>single</td>\n",
       "      <td>university.degree</td>\n",
       "      <td>no</td>\n",
       "      <td>yes</td>\n",
       "      <td>yes</td>\n",
       "      <td>cellular</td>\n",
       "      <td>nov</td>\n",
       "      <td>thu</td>\n",
       "      <td>281.0</td>\n",
       "      <td>2.0</td>\n",
       "      <td>999</td>\n",
       "      <td>0.0</td>\n",
       "      <td>nonexistent</td>\n",
       "      <td>-0.1</td>\n",
       "      <td>93.200</td>\n",
       "      <td>-42.0</td>\n",
       "      <td>4.076</td>\n",
       "      <td>5195.8</td>\n",
       "      <td>no</td>\n",
       "    </tr>\n",
       "    <tr>\n",
       "      <th>777</th>\n",
       "      <td>30</td>\n",
       "      <td>admin.</td>\n",
       "      <td>single</td>\n",
       "      <td>high.school</td>\n",
       "      <td>no</td>\n",
       "      <td>unknown</td>\n",
       "      <td>unknown</td>\n",
       "      <td>cellular</td>\n",
       "      <td>nov</td>\n",
       "      <td>tue</td>\n",
       "      <td>229.0</td>\n",
       "      <td>2.0</td>\n",
       "      <td>999</td>\n",
       "      <td>0.0</td>\n",
       "      <td>nonexistent</td>\n",
       "      <td>-0.1</td>\n",
       "      <td>93.200</td>\n",
       "      <td>-42.0</td>\n",
       "      <td>4.153</td>\n",
       "      <td>5195.8</td>\n",
       "      <td>no</td>\n",
       "    </tr>\n",
       "    <tr>\n",
       "      <th>778</th>\n",
       "      <td>24</td>\n",
       "      <td>student</td>\n",
       "      <td>married</td>\n",
       "      <td>university.degree</td>\n",
       "      <td>no</td>\n",
       "      <td>no</td>\n",
       "      <td>no</td>\n",
       "      <td>cellular</td>\n",
       "      <td>jul</td>\n",
       "      <td>tue</td>\n",
       "      <td>114.0</td>\n",
       "      <td>1.0</td>\n",
       "      <td>999</td>\n",
       "      <td>0.0</td>\n",
       "      <td>nonexistent</td>\n",
       "      <td>1.4</td>\n",
       "      <td>93.918</td>\n",
       "      <td>-42.7</td>\n",
       "      <td>4.961</td>\n",
       "      <td>5228.1</td>\n",
       "      <td>no</td>\n",
       "    </tr>\n",
       "    <tr>\n",
       "      <th>779</th>\n",
       "      <td>47</td>\n",
       "      <td>admin.</td>\n",
       "      <td>single</td>\n",
       "      <td>university.degree</td>\n",
       "      <td>no</td>\n",
       "      <td>yes</td>\n",
       "      <td>no</td>\n",
       "      <td>cellular</td>\n",
       "      <td>jun</td>\n",
       "      <td>mon</td>\n",
       "      <td>243.0</td>\n",
       "      <td>4.0</td>\n",
       "      <td>999</td>\n",
       "      <td>0.0</td>\n",
       "      <td>nonexistent</td>\n",
       "      <td>-2.9</td>\n",
       "      <td>92.963</td>\n",
       "      <td>-40.8</td>\n",
       "      <td>1.281</td>\n",
       "      <td>5076.2</td>\n",
       "      <td>yes</td>\n",
       "    </tr>\n",
       "    <tr>\n",
       "      <th>780</th>\n",
       "      <td>32</td>\n",
       "      <td>blue-collar</td>\n",
       "      <td>married</td>\n",
       "      <td>basic.4y</td>\n",
       "      <td>no</td>\n",
       "      <td>no</td>\n",
       "      <td>yes</td>\n",
       "      <td>cellular</td>\n",
       "      <td>may</td>\n",
       "      <td>thu</td>\n",
       "      <td>80.0</td>\n",
       "      <td>4.0</td>\n",
       "      <td>999</td>\n",
       "      <td>0.0</td>\n",
       "      <td>nonexistent</td>\n",
       "      <td>-1.8</td>\n",
       "      <td>92.893</td>\n",
       "      <td>NaN</td>\n",
       "      <td>1.266</td>\n",
       "      <td>5099.1</td>\n",
       "      <td>no</td>\n",
       "    </tr>\n",
       "    <tr>\n",
       "      <th>781</th>\n",
       "      <td>34</td>\n",
       "      <td>technician</td>\n",
       "      <td>single</td>\n",
       "      <td>professional.course</td>\n",
       "      <td>no</td>\n",
       "      <td>no</td>\n",
       "      <td>no</td>\n",
       "      <td>cellular</td>\n",
       "      <td>aug</td>\n",
       "      <td>mon</td>\n",
       "      <td>468.0</td>\n",
       "      <td>1.0</td>\n",
       "      <td>999</td>\n",
       "      <td>0.0</td>\n",
       "      <td>nonexistent</td>\n",
       "      <td>1.4</td>\n",
       "      <td>93.444</td>\n",
       "      <td>-36.1</td>\n",
       "      <td>4.965</td>\n",
       "      <td>5228.1</td>\n",
       "      <td>no</td>\n",
       "    </tr>\n",
       "  </tbody>\n",
       "</table>\n",
       "</div>"
      ],
      "text/plain": [
       "     godine    tip_posla bracni_status          obrazovanje kasni_sa_isplatom  \\\n",
       "775      36       admin.       married    university.degree                no   \n",
       "776      29   technician        single    university.degree                no   \n",
       "777      30       admin.        single          high.school                no   \n",
       "778      24      student       married    university.degree                no   \n",
       "779      47       admin.        single    university.degree                no   \n",
       "780      32  blue-collar       married             basic.4y                no   \n",
       "781      34   technician        single  professional.course                no   \n",
       "\n",
       "    stambeni_kredit licni_kredit/zajam vrsta_kontakta mesec_poslednjeg_poziva  \\\n",
       "775              no                 no       cellular                     may   \n",
       "776             yes                yes       cellular                     nov   \n",
       "777         unknown            unknown       cellular                     nov   \n",
       "778              no                 no       cellular                     jul   \n",
       "779             yes                 no       cellular                     jun   \n",
       "780              no                yes       cellular                     may   \n",
       "781              no                 no       cellular                     aug   \n",
       "\n",
       "    dan_poslednjeg_poziva  trajanje_poslednjeg_poziva  \\\n",
       "775                   tue                        65.0   \n",
       "776                   thu                       281.0   \n",
       "777                   tue                       229.0   \n",
       "778                   tue                       114.0   \n",
       "779                   mon                       243.0   \n",
       "780                   thu                        80.0   \n",
       "781                   mon                       468.0   \n",
       "\n",
       "     puta_kontaktiran_u_kampanji  dana_od_poslednjeg_kontakta  \\\n",
       "775                          1.0                          999   \n",
       "776                          2.0                          999   \n",
       "777                          2.0                          999   \n",
       "778                          1.0                          999   \n",
       "779                          4.0                          999   \n",
       "780                          4.0                          999   \n",
       "781                          1.0                          999   \n",
       "\n",
       "     puta_kontaktiran_u_proslosti ishod_prethodnih_kampanja  \\\n",
       "775                           1.0                   failure   \n",
       "776                           0.0               nonexistent   \n",
       "777                           0.0               nonexistent   \n",
       "778                           0.0               nonexistent   \n",
       "779                           0.0               nonexistent   \n",
       "780                           0.0               nonexistent   \n",
       "781                           0.0               nonexistent   \n",
       "\n",
       "     stopa_varijabiliteta_zaposlenosti  indeks_potrosackih_cena  \\\n",
       "775                               -1.8                   92.893   \n",
       "776                               -0.1                   93.200   \n",
       "777                               -0.1                   93.200   \n",
       "778                                1.4                   93.918   \n",
       "779                               -2.9                   92.963   \n",
       "780                               -1.8                   92.893   \n",
       "781                                1.4                   93.444   \n",
       "\n",
       "     indeks_poverenja_kupca  euribor broj_zaposlenih orocio_depozit  \n",
       "775                   -46.2    1.266          5099.1             no  \n",
       "776                   -42.0    4.076          5195.8             no  \n",
       "777                   -42.0    4.153          5195.8             no  \n",
       "778                   -42.7    4.961          5228.1             no  \n",
       "779                   -40.8    1.281          5076.2            yes  \n",
       "780                     NaN    1.266          5099.1             no  \n",
       "781                   -36.1    4.965          5228.1             no  "
      ]
     },
     "execution_count": 173,
     "metadata": {},
     "output_type": "execute_result"
    }
   ],
   "source": [
    "df.iloc[775:782]"
   ]
  },
  {
   "cell_type": "markdown",
   "id": "e26861c9",
   "metadata": {},
   "source": [
    "Nakon sto je ovo ispravljeno sada mozemo da konvertujemo kolonu u brojevni tip i nastavimo sa daljim radom"
   ]
  },
  {
   "cell_type": "code",
   "execution_count": 174,
   "id": "0545afb7",
   "metadata": {},
   "outputs": [],
   "source": [
    "df['broj_zaposlenih']=df['broj_zaposlenih'].astype('float64')"
   ]
  },
  {
   "cell_type": "code",
   "execution_count": 175,
   "id": "2fdd3ca5",
   "metadata": {},
   "outputs": [
    {
     "data": {
      "text/plain": [
       "godine                                 int64\n",
       "tip_posla                             object\n",
       "bracni_status                         object\n",
       "obrazovanje                           object\n",
       "kasni_sa_isplatom                     object\n",
       "stambeni_kredit                       object\n",
       "licni_kredit/zajam                    object\n",
       "vrsta_kontakta                        object\n",
       "mesec_poslednjeg_poziva               object\n",
       "dan_poslednjeg_poziva                 object\n",
       "trajanje_poslednjeg_poziva           float64\n",
       "puta_kontaktiran_u_kampanji          float64\n",
       "dana_od_poslednjeg_kontakta            int64\n",
       "puta_kontaktiran_u_proslosti         float64\n",
       "ishod_prethodnih_kampanja             object\n",
       "stopa_varijabiliteta_zaposlenosti    float64\n",
       "indeks_potrosackih_cena              float64\n",
       "indeks_poverenja_kupca               float64\n",
       "euribor                              float64\n",
       "broj_zaposlenih                      float64\n",
       "orocio_depozit                        object\n",
       "dtype: object"
      ]
     },
     "execution_count": 175,
     "metadata": {},
     "output_type": "execute_result"
    }
   ],
   "source": [
    "df.dtypes"
   ]
  },
  {
   "cell_type": "markdown",
   "id": "4dfed897",
   "metadata": {},
   "source": [
    "<b>Raspodele vrednosti</b>"
   ]
  },
  {
   "cell_type": "markdown",
   "id": "33d99e19",
   "metadata": {},
   "source": [
    "Kako bismo odredili raspodelu numerickih varijabli mozemo da koristimo histograme za vizuelizaciju svake promenljive pojedinacno, a za finija i preciznija merenja pokrecemo <b>Sapirov test</b> koji nam govori da li data varijabla ima <b>normalnu raspodelu</b> "
   ]
  },
  {
   "cell_type": "code",
   "execution_count": 176,
   "id": "af09e402",
   "metadata": {},
   "outputs": [],
   "source": [
    "lista_numerickih=[\"godine\",\"trajanje_poslednjeg_poziva\",\"puta_kontaktiran_u_kampanji\"\n",
    "                  ,\"dana_od_poslednjeg_kontakta\",\"puta_kontaktiran_u_proslosti\",\"ishod_prethodnih_kampanja\",\n",
    "                  \"stopa_varijabiliteta_zaposlenosti\",\"indeks_potrosackih_cena\",\"indeks_poverenja_kupca\"]"
   ]
  },
  {
   "cell_type": "code",
   "execution_count": 177,
   "id": "fe64ea42",
   "metadata": {},
   "outputs": [
    {
     "data": {
      "text/html": [
       "<div>\n",
       "<style scoped>\n",
       "    .dataframe tbody tr th:only-of-type {\n",
       "        vertical-align: middle;\n",
       "    }\n",
       "\n",
       "    .dataframe tbody tr th {\n",
       "        vertical-align: top;\n",
       "    }\n",
       "\n",
       "    .dataframe thead th {\n",
       "        text-align: right;\n",
       "    }\n",
       "</style>\n",
       "<table border=\"1\" class=\"dataframe\">\n",
       "  <thead>\n",
       "    <tr style=\"text-align: right;\">\n",
       "      <th></th>\n",
       "      <th>godine</th>\n",
       "      <th>tip_posla</th>\n",
       "      <th>bracni_status</th>\n",
       "      <th>obrazovanje</th>\n",
       "      <th>kasni_sa_isplatom</th>\n",
       "      <th>stambeni_kredit</th>\n",
       "      <th>licni_kredit/zajam</th>\n",
       "      <th>vrsta_kontakta</th>\n",
       "      <th>mesec_poslednjeg_poziva</th>\n",
       "      <th>dan_poslednjeg_poziva</th>\n",
       "      <th>trajanje_poslednjeg_poziva</th>\n",
       "      <th>puta_kontaktiran_u_kampanji</th>\n",
       "      <th>dana_od_poslednjeg_kontakta</th>\n",
       "      <th>puta_kontaktiran_u_proslosti</th>\n",
       "      <th>ishod_prethodnih_kampanja</th>\n",
       "      <th>stopa_varijabiliteta_zaposlenosti</th>\n",
       "      <th>indeks_potrosackih_cena</th>\n",
       "      <th>indeks_poverenja_kupca</th>\n",
       "      <th>euribor</th>\n",
       "      <th>broj_zaposlenih</th>\n",
       "      <th>orocio_depozit</th>\n",
       "    </tr>\n",
       "  </thead>\n",
       "  <tbody>\n",
       "    <tr>\n",
       "      <th>0</th>\n",
       "      <td>30</td>\n",
       "      <td>blue-collar</td>\n",
       "      <td>married</td>\n",
       "      <td>basic.9y</td>\n",
       "      <td>no</td>\n",
       "      <td>yes</td>\n",
       "      <td>no</td>\n",
       "      <td>cellular</td>\n",
       "      <td>may</td>\n",
       "      <td>fri</td>\n",
       "      <td>487.0</td>\n",
       "      <td>2.0</td>\n",
       "      <td>999</td>\n",
       "      <td>0.0</td>\n",
       "      <td>nonexistent</td>\n",
       "      <td>-1.8</td>\n",
       "      <td>92.893</td>\n",
       "      <td>-46.2</td>\n",
       "      <td>1.313</td>\n",
       "      <td>5099.1</td>\n",
       "      <td>no</td>\n",
       "    </tr>\n",
       "    <tr>\n",
       "      <th>1</th>\n",
       "      <td>39</td>\n",
       "      <td>services</td>\n",
       "      <td>single</td>\n",
       "      <td>high.school</td>\n",
       "      <td>no</td>\n",
       "      <td>no</td>\n",
       "      <td>no</td>\n",
       "      <td>telephone</td>\n",
       "      <td>may</td>\n",
       "      <td>fri</td>\n",
       "      <td>346.0</td>\n",
       "      <td>4.0</td>\n",
       "      <td>999</td>\n",
       "      <td>0.0</td>\n",
       "      <td>nonexistent</td>\n",
       "      <td>1.1</td>\n",
       "      <td>93.994</td>\n",
       "      <td>-36.4</td>\n",
       "      <td>4.855</td>\n",
       "      <td>5191.0</td>\n",
       "      <td>no</td>\n",
       "    </tr>\n",
       "    <tr>\n",
       "      <th>2</th>\n",
       "      <td>25</td>\n",
       "      <td>services</td>\n",
       "      <td>married</td>\n",
       "      <td>high.school</td>\n",
       "      <td>no</td>\n",
       "      <td>yes</td>\n",
       "      <td>no</td>\n",
       "      <td>telephone</td>\n",
       "      <td>jun</td>\n",
       "      <td>wed</td>\n",
       "      <td>227.0</td>\n",
       "      <td>1.0</td>\n",
       "      <td>999</td>\n",
       "      <td>0.0</td>\n",
       "      <td>nonexistent</td>\n",
       "      <td>1.4</td>\n",
       "      <td>94.465</td>\n",
       "      <td>-41.8</td>\n",
       "      <td>4.962</td>\n",
       "      <td>5228.1</td>\n",
       "      <td>no</td>\n",
       "    </tr>\n",
       "    <tr>\n",
       "      <th>3</th>\n",
       "      <td>38</td>\n",
       "      <td>services</td>\n",
       "      <td>married</td>\n",
       "      <td>basic.9y</td>\n",
       "      <td>no</td>\n",
       "      <td>unknown</td>\n",
       "      <td>unknown</td>\n",
       "      <td>telephone</td>\n",
       "      <td>jun</td>\n",
       "      <td>fri</td>\n",
       "      <td>17.0</td>\n",
       "      <td>3.0</td>\n",
       "      <td>999</td>\n",
       "      <td>0.0</td>\n",
       "      <td>nonexistent</td>\n",
       "      <td>1.4</td>\n",
       "      <td>94.465</td>\n",
       "      <td>-41.8</td>\n",
       "      <td>4.959</td>\n",
       "      <td>5228.1</td>\n",
       "      <td>no</td>\n",
       "    </tr>\n",
       "    <tr>\n",
       "      <th>4</th>\n",
       "      <td>47</td>\n",
       "      <td>admin.</td>\n",
       "      <td>married</td>\n",
       "      <td>university.degree</td>\n",
       "      <td>no</td>\n",
       "      <td>yes</td>\n",
       "      <td>no</td>\n",
       "      <td>cellular</td>\n",
       "      <td>nov</td>\n",
       "      <td>mon</td>\n",
       "      <td>58.0</td>\n",
       "      <td>1.0</td>\n",
       "      <td>999</td>\n",
       "      <td>0.0</td>\n",
       "      <td>nonexistent</td>\n",
       "      <td>-0.1</td>\n",
       "      <td>93.200</td>\n",
       "      <td>-42.0</td>\n",
       "      <td>4.191</td>\n",
       "      <td>5195.8</td>\n",
       "      <td>no</td>\n",
       "    </tr>\n",
       "  </tbody>\n",
       "</table>\n",
       "</div>"
      ],
      "text/plain": [
       "   godine    tip_posla bracni_status        obrazovanje kasni_sa_isplatom  \\\n",
       "0      30  blue-collar       married           basic.9y                no   \n",
       "1      39     services        single        high.school                no   \n",
       "2      25     services       married        high.school                no   \n",
       "3      38     services       married           basic.9y                no   \n",
       "4      47       admin.       married  university.degree                no   \n",
       "\n",
       "  stambeni_kredit licni_kredit/zajam vrsta_kontakta mesec_poslednjeg_poziva  \\\n",
       "0             yes                 no       cellular                     may   \n",
       "1              no                 no      telephone                     may   \n",
       "2             yes                 no      telephone                     jun   \n",
       "3         unknown            unknown      telephone                     jun   \n",
       "4             yes                 no       cellular                     nov   \n",
       "\n",
       "  dan_poslednjeg_poziva  trajanje_poslednjeg_poziva  \\\n",
       "0                   fri                       487.0   \n",
       "1                   fri                       346.0   \n",
       "2                   wed                       227.0   \n",
       "3                   fri                        17.0   \n",
       "4                   mon                        58.0   \n",
       "\n",
       "   puta_kontaktiran_u_kampanji  dana_od_poslednjeg_kontakta  \\\n",
       "0                          2.0                          999   \n",
       "1                          4.0                          999   \n",
       "2                          1.0                          999   \n",
       "3                          3.0                          999   \n",
       "4                          1.0                          999   \n",
       "\n",
       "   puta_kontaktiran_u_proslosti ishod_prethodnih_kampanja  \\\n",
       "0                           0.0               nonexistent   \n",
       "1                           0.0               nonexistent   \n",
       "2                           0.0               nonexistent   \n",
       "3                           0.0               nonexistent   \n",
       "4                           0.0               nonexistent   \n",
       "\n",
       "   stopa_varijabiliteta_zaposlenosti  indeks_potrosackih_cena  \\\n",
       "0                               -1.8                   92.893   \n",
       "1                                1.1                   93.994   \n",
       "2                                1.4                   94.465   \n",
       "3                                1.4                   94.465   \n",
       "4                               -0.1                   93.200   \n",
       "\n",
       "   indeks_poverenja_kupca  euribor  broj_zaposlenih orocio_depozit  \n",
       "0                   -46.2    1.313           5099.1             no  \n",
       "1                   -36.4    4.855           5191.0             no  \n",
       "2                   -41.8    4.962           5228.1             no  \n",
       "3                   -41.8    4.959           5228.1             no  \n",
       "4                   -42.0    4.191           5195.8             no  "
      ]
     },
     "execution_count": 177,
     "metadata": {},
     "output_type": "execute_result"
    }
   ],
   "source": [
    "df.head()"
   ]
  },
  {
   "cell_type": "code",
   "execution_count": 178,
   "id": "31dbb141",
   "metadata": {},
   "outputs": [
    {
     "data": {
      "text/plain": [
       "godine                                 int64\n",
       "trajanje_poslednjeg_poziva           float64\n",
       "puta_kontaktiran_u_kampanji          float64\n",
       "dana_od_poslednjeg_kontakta            int64\n",
       "puta_kontaktiran_u_proslosti         float64\n",
       "ishod_prethodnih_kampanja             object\n",
       "stopa_varijabiliteta_zaposlenosti    float64\n",
       "indeks_potrosackih_cena              float64\n",
       "indeks_poverenja_kupca               float64\n",
       "dtype: object"
      ]
     },
     "execution_count": 178,
     "metadata": {},
     "output_type": "execute_result"
    }
   ],
   "source": [
    "df[lista_numerickih].dtypes"
   ]
  },
  {
   "cell_type": "markdown",
   "id": "a3571883",
   "metadata": {},
   "source": [
    "<b>Nedostajuce vrednosti</b>"
   ]
  },
  {
   "cell_type": "code",
   "execution_count": 179,
   "id": "d6a8fd23",
   "metadata": {},
   "outputs": [
    {
     "data": {
      "text/plain": [
       "godine                               0\n",
       "tip_posla                            0\n",
       "bracni_status                        0\n",
       "obrazovanje                          0\n",
       "kasni_sa_isplatom                    0\n",
       "stambeni_kredit                      0\n",
       "licni_kredit/zajam                   0\n",
       "vrsta_kontakta                       0\n",
       "mesec_poslednjeg_poziva              0\n",
       "dan_poslednjeg_poziva                0\n",
       "trajanje_poslednjeg_poziva           3\n",
       "puta_kontaktiran_u_kampanji          5\n",
       "dana_od_poslednjeg_kontakta          0\n",
       "puta_kontaktiran_u_proslosti         2\n",
       "ishod_prethodnih_kampanja            0\n",
       "stopa_varijabiliteta_zaposlenosti    3\n",
       "indeks_potrosackih_cena              2\n",
       "indeks_poverenja_kupca               3\n",
       "euribor                              2\n",
       "broj_zaposlenih                      1\n",
       "orocio_depozit                       0\n",
       "dtype: int64"
      ]
     },
     "execution_count": 179,
     "metadata": {},
     "output_type": "execute_result"
    }
   ],
   "source": [
    "df.isna().sum()"
   ]
  },
  {
   "cell_type": "markdown",
   "id": "daf614b7",
   "metadata": {},
   "source": [
    "Analizom tipova podataka mozemo da utvrdimo da ima 8 numerickih,a 12 object(string/kategorickih varijabli).Izlazna promenljiva je takodje kategoricka. Sto se tice nedostajucih vrednosti na prvi pogled vidimo da varijable <b>trajanje_poslednjeg_poziva(3),puta_kontaktiran_u_kampanji(5),puta_kontaktiran_u_proslosti(2),stopa_varijabiliteta_zaposlenosti(3),indeks_potrosackih_cena(2),indeks_poverenja_kupca(3),euribor(2),broj_zaposlenih(1)</b> imaju nedostajuce vrednosti.Sve varijable sem <b>broj_zaposlenih</b> su numerickog tipa,a bitno je napomenuti da je u fajlu <b>bank-additional-names.txt</b> naznaceno da se vrednosti <b>'unknown'</b> kod kategorickih varijabli takodje smatraju za nedostajuce,pa cemo dalje njih analizirati."
   ]
  },
  {
   "cell_type": "code",
   "execution_count": 180,
   "id": "a091a76e",
   "metadata": {},
   "outputs": [
    {
     "data": {
      "text/plain": [
       "godine                                 0\n",
       "tip_posla                             39\n",
       "bracni_status                         11\n",
       "obrazovanje                          167\n",
       "kasni_sa_isplatom                    803\n",
       "stambeni_kredit                      105\n",
       "licni_kredit/zajam                   105\n",
       "vrsta_kontakta                         0\n",
       "mesec_poslednjeg_poziva                0\n",
       "dan_poslednjeg_poziva                  0\n",
       "trajanje_poslednjeg_poziva             0\n",
       "puta_kontaktiran_u_kampanji            0\n",
       "dana_od_poslednjeg_kontakta            0\n",
       "puta_kontaktiran_u_proslosti           0\n",
       "ishod_prethodnih_kampanja              0\n",
       "stopa_varijabiliteta_zaposlenosti      0\n",
       "indeks_potrosackih_cena                0\n",
       "indeks_poverenja_kupca                 0\n",
       "euribor                                0\n",
       "broj_zaposlenih                        0\n",
       "orocio_depozit                         0\n",
       "dtype: int64"
      ]
     },
     "execution_count": 180,
     "metadata": {},
     "output_type": "execute_result"
    }
   ],
   "source": [
    "df[df==\"unknown\"].count()"
   ]
  },
  {
   "cell_type": "markdown",
   "id": "136a7429",
   "metadata": {},
   "source": [
    "Varijabla <b>tip_posla</b> ima 39,<b>bracni_status</b> 11,<b>obrazovanje</b> 167,<b>kasni_sa_isplatom</b> 803,a <b>stambeni_kredit</b> i <b>licni_kredit/zajam</b> po 105 nedostajucih vrednosti."
   ]
  },
  {
   "cell_type": "code",
   "execution_count": 181,
   "id": "3bcea9a2",
   "metadata": {},
   "outputs": [],
   "source": [
    "#df['tip_posla'] = df['tip_posla'].replace('unknown',math.nan)\n",
    "#df['bracni_status'] = df['bracni_status'].replace('unknown',math.nan)\n",
    "#df['obrazovanje'] = df['obrazovanje'].replace('unknown',math.nan)\n",
    "#df['kasni_sa_isplatom'] = df['kasni_sa_isplatom'].replace('unknown',math.nan)\n",
    "#df['stambeni_kredit'] = df['stambeni_kredit'].replace('unknown',math.nan)\n",
    "#df['licni_kredit/zajam'] = df['licni_kredit/zajam'].replace('unknown',math.nan)"
   ]
  },
  {
   "cell_type": "markdown",
   "id": "9726c28f",
   "metadata": {},
   "source": [
    "<b>Deskriptivne statistike</b>"
   ]
  },
  {
   "cell_type": "code",
   "execution_count": 182,
   "id": "44acea75",
   "metadata": {},
   "outputs": [
    {
     "data": {
      "text/html": [
       "<div>\n",
       "<style scoped>\n",
       "    .dataframe tbody tr th:only-of-type {\n",
       "        vertical-align: middle;\n",
       "    }\n",
       "\n",
       "    .dataframe tbody tr th {\n",
       "        vertical-align: top;\n",
       "    }\n",
       "\n",
       "    .dataframe thead th {\n",
       "        text-align: right;\n",
       "    }\n",
       "</style>\n",
       "<table border=\"1\" class=\"dataframe\">\n",
       "  <thead>\n",
       "    <tr style=\"text-align: right;\">\n",
       "      <th></th>\n",
       "      <th>godine</th>\n",
       "      <th>trajanje_poslednjeg_poziva</th>\n",
       "      <th>puta_kontaktiran_u_kampanji</th>\n",
       "      <th>dana_od_poslednjeg_kontakta</th>\n",
       "      <th>puta_kontaktiran_u_proslosti</th>\n",
       "      <th>stopa_varijabiliteta_zaposlenosti</th>\n",
       "      <th>indeks_potrosackih_cena</th>\n",
       "      <th>indeks_poverenja_kupca</th>\n",
       "      <th>euribor</th>\n",
       "      <th>broj_zaposlenih</th>\n",
       "    </tr>\n",
       "  </thead>\n",
       "  <tbody>\n",
       "    <tr>\n",
       "      <th>count</th>\n",
       "      <td>4119.000000</td>\n",
       "      <td>4116.000000</td>\n",
       "      <td>4114.000000</td>\n",
       "      <td>4119.000000</td>\n",
       "      <td>4117.000000</td>\n",
       "      <td>4116.000000</td>\n",
       "      <td>4117.000000</td>\n",
       "      <td>4116.000000</td>\n",
       "      <td>4117.000000</td>\n",
       "      <td>4118.000000</td>\n",
       "    </tr>\n",
       "    <tr>\n",
       "      <th>mean</th>\n",
       "      <td>40.113620</td>\n",
       "      <td>256.869048</td>\n",
       "      <td>2.534273</td>\n",
       "      <td>960.422190</td>\n",
       "      <td>0.190430</td>\n",
       "      <td>0.084694</td>\n",
       "      <td>93.579540</td>\n",
       "      <td>-40.496501</td>\n",
       "      <td>3.620753</td>\n",
       "      <td>5166.466731</td>\n",
       "    </tr>\n",
       "    <tr>\n",
       "      <th>std</th>\n",
       "      <td>10.313362</td>\n",
       "      <td>254.763913</td>\n",
       "      <td>2.566673</td>\n",
       "      <td>191.922786</td>\n",
       "      <td>0.541904</td>\n",
       "      <td>1.563361</td>\n",
       "      <td>0.579442</td>\n",
       "      <td>4.594520</td>\n",
       "      <td>1.733796</td>\n",
       "      <td>73.670589</td>\n",
       "    </tr>\n",
       "    <tr>\n",
       "      <th>min</th>\n",
       "      <td>18.000000</td>\n",
       "      <td>0.000000</td>\n",
       "      <td>1.000000</td>\n",
       "      <td>0.000000</td>\n",
       "      <td>0.000000</td>\n",
       "      <td>-3.400000</td>\n",
       "      <td>92.201000</td>\n",
       "      <td>-50.800000</td>\n",
       "      <td>0.635000</td>\n",
       "      <td>4963.600000</td>\n",
       "    </tr>\n",
       "    <tr>\n",
       "      <th>25%</th>\n",
       "      <td>32.000000</td>\n",
       "      <td>103.000000</td>\n",
       "      <td>1.000000</td>\n",
       "      <td>999.000000</td>\n",
       "      <td>0.000000</td>\n",
       "      <td>-1.800000</td>\n",
       "      <td>93.075000</td>\n",
       "      <td>-42.700000</td>\n",
       "      <td>1.334000</td>\n",
       "      <td>5099.100000</td>\n",
       "    </tr>\n",
       "    <tr>\n",
       "      <th>50%</th>\n",
       "      <td>38.000000</td>\n",
       "      <td>181.000000</td>\n",
       "      <td>2.000000</td>\n",
       "      <td>999.000000</td>\n",
       "      <td>0.000000</td>\n",
       "      <td>1.100000</td>\n",
       "      <td>93.749000</td>\n",
       "      <td>-41.800000</td>\n",
       "      <td>4.857000</td>\n",
       "      <td>5191.000000</td>\n",
       "    </tr>\n",
       "    <tr>\n",
       "      <th>75%</th>\n",
       "      <td>47.000000</td>\n",
       "      <td>317.250000</td>\n",
       "      <td>3.000000</td>\n",
       "      <td>999.000000</td>\n",
       "      <td>0.000000</td>\n",
       "      <td>1.400000</td>\n",
       "      <td>93.994000</td>\n",
       "      <td>-36.400000</td>\n",
       "      <td>4.961000</td>\n",
       "      <td>5228.100000</td>\n",
       "    </tr>\n",
       "    <tr>\n",
       "      <th>max</th>\n",
       "      <td>88.000000</td>\n",
       "      <td>3643.000000</td>\n",
       "      <td>35.000000</td>\n",
       "      <td>999.000000</td>\n",
       "      <td>6.000000</td>\n",
       "      <td>1.400000</td>\n",
       "      <td>94.767000</td>\n",
       "      <td>-26.900000</td>\n",
       "      <td>5.045000</td>\n",
       "      <td>5228.100000</td>\n",
       "    </tr>\n",
       "  </tbody>\n",
       "</table>\n",
       "</div>"
      ],
      "text/plain": [
       "            godine  trajanje_poslednjeg_poziva  puta_kontaktiran_u_kampanji  \\\n",
       "count  4119.000000                 4116.000000                  4114.000000   \n",
       "mean     40.113620                  256.869048                     2.534273   \n",
       "std      10.313362                  254.763913                     2.566673   \n",
       "min      18.000000                    0.000000                     1.000000   \n",
       "25%      32.000000                  103.000000                     1.000000   \n",
       "50%      38.000000                  181.000000                     2.000000   \n",
       "75%      47.000000                  317.250000                     3.000000   \n",
       "max      88.000000                 3643.000000                    35.000000   \n",
       "\n",
       "       dana_od_poslednjeg_kontakta  puta_kontaktiran_u_proslosti  \\\n",
       "count                  4119.000000                   4117.000000   \n",
       "mean                    960.422190                      0.190430   \n",
       "std                     191.922786                      0.541904   \n",
       "min                       0.000000                      0.000000   \n",
       "25%                     999.000000                      0.000000   \n",
       "50%                     999.000000                      0.000000   \n",
       "75%                     999.000000                      0.000000   \n",
       "max                     999.000000                      6.000000   \n",
       "\n",
       "       stopa_varijabiliteta_zaposlenosti  indeks_potrosackih_cena  \\\n",
       "count                        4116.000000              4117.000000   \n",
       "mean                            0.084694                93.579540   \n",
       "std                             1.563361                 0.579442   \n",
       "min                            -3.400000                92.201000   \n",
       "25%                            -1.800000                93.075000   \n",
       "50%                             1.100000                93.749000   \n",
       "75%                             1.400000                93.994000   \n",
       "max                             1.400000                94.767000   \n",
       "\n",
       "       indeks_poverenja_kupca      euribor  broj_zaposlenih  \n",
       "count             4116.000000  4117.000000      4118.000000  \n",
       "mean               -40.496501     3.620753      5166.466731  \n",
       "std                  4.594520     1.733796        73.670589  \n",
       "min                -50.800000     0.635000      4963.600000  \n",
       "25%                -42.700000     1.334000      5099.100000  \n",
       "50%                -41.800000     4.857000      5191.000000  \n",
       "75%                -36.400000     4.961000      5228.100000  \n",
       "max                -26.900000     5.045000      5228.100000  "
      ]
     },
     "execution_count": 182,
     "metadata": {},
     "output_type": "execute_result"
    }
   ],
   "source": [
    "df.describe()"
   ]
  },
  {
   "cell_type": "code",
   "execution_count": 183,
   "id": "c19d30d5",
   "metadata": {},
   "outputs": [
    {
     "data": {
      "text/html": [
       "<div>\n",
       "<style scoped>\n",
       "    .dataframe tbody tr th:only-of-type {\n",
       "        vertical-align: middle;\n",
       "    }\n",
       "\n",
       "    .dataframe tbody tr th {\n",
       "        vertical-align: top;\n",
       "    }\n",
       "\n",
       "    .dataframe thead th {\n",
       "        text-align: right;\n",
       "    }\n",
       "</style>\n",
       "<table border=\"1\" class=\"dataframe\">\n",
       "  <thead>\n",
       "    <tr style=\"text-align: right;\">\n",
       "      <th></th>\n",
       "      <th>tip_posla</th>\n",
       "      <th>bracni_status</th>\n",
       "      <th>obrazovanje</th>\n",
       "      <th>kasni_sa_isplatom</th>\n",
       "      <th>stambeni_kredit</th>\n",
       "      <th>licni_kredit/zajam</th>\n",
       "      <th>vrsta_kontakta</th>\n",
       "      <th>mesec_poslednjeg_poziva</th>\n",
       "      <th>dan_poslednjeg_poziva</th>\n",
       "      <th>ishod_prethodnih_kampanja</th>\n",
       "      <th>orocio_depozit</th>\n",
       "    </tr>\n",
       "  </thead>\n",
       "  <tbody>\n",
       "    <tr>\n",
       "      <th>count</th>\n",
       "      <td>4119</td>\n",
       "      <td>4119</td>\n",
       "      <td>4119</td>\n",
       "      <td>4119</td>\n",
       "      <td>4119</td>\n",
       "      <td>4119</td>\n",
       "      <td>4119</td>\n",
       "      <td>4119</td>\n",
       "      <td>4119</td>\n",
       "      <td>4119</td>\n",
       "      <td>4119</td>\n",
       "    </tr>\n",
       "    <tr>\n",
       "      <th>unique</th>\n",
       "      <td>12</td>\n",
       "      <td>4</td>\n",
       "      <td>8</td>\n",
       "      <td>3</td>\n",
       "      <td>3</td>\n",
       "      <td>3</td>\n",
       "      <td>2</td>\n",
       "      <td>10</td>\n",
       "      <td>5</td>\n",
       "      <td>3</td>\n",
       "      <td>2</td>\n",
       "    </tr>\n",
       "    <tr>\n",
       "      <th>top</th>\n",
       "      <td>admin.</td>\n",
       "      <td>married</td>\n",
       "      <td>university.degree</td>\n",
       "      <td>no</td>\n",
       "      <td>yes</td>\n",
       "      <td>no</td>\n",
       "      <td>cellular</td>\n",
       "      <td>may</td>\n",
       "      <td>thu</td>\n",
       "      <td>nonexistent</td>\n",
       "      <td>no</td>\n",
       "    </tr>\n",
       "    <tr>\n",
       "      <th>freq</th>\n",
       "      <td>1012</td>\n",
       "      <td>2509</td>\n",
       "      <td>1264</td>\n",
       "      <td>3315</td>\n",
       "      <td>2175</td>\n",
       "      <td>3349</td>\n",
       "      <td>2652</td>\n",
       "      <td>1378</td>\n",
       "      <td>860</td>\n",
       "      <td>3523</td>\n",
       "      <td>3668</td>\n",
       "    </tr>\n",
       "  </tbody>\n",
       "</table>\n",
       "</div>"
      ],
      "text/plain": [
       "       tip_posla bracni_status        obrazovanje kasni_sa_isplatom  \\\n",
       "count       4119          4119               4119              4119   \n",
       "unique        12             4                  8                 3   \n",
       "top       admin.       married  university.degree                no   \n",
       "freq        1012          2509               1264              3315   \n",
       "\n",
       "       stambeni_kredit licni_kredit/zajam vrsta_kontakta  \\\n",
       "count             4119               4119           4119   \n",
       "unique               3                  3              2   \n",
       "top                yes                 no       cellular   \n",
       "freq              2175               3349           2652   \n",
       "\n",
       "       mesec_poslednjeg_poziva dan_poslednjeg_poziva  \\\n",
       "count                     4119                  4119   \n",
       "unique                      10                     5   \n",
       "top                        may                   thu   \n",
       "freq                      1378                   860   \n",
       "\n",
       "       ishod_prethodnih_kampanja orocio_depozit  \n",
       "count                       4119           4119  \n",
       "unique                         3              2  \n",
       "top                  nonexistent             no  \n",
       "freq                        3523           3668  "
      ]
     },
     "execution_count": 183,
     "metadata": {},
     "output_type": "execute_result"
    }
   ],
   "source": [
    "df.describe(include=['object'])"
   ]
  },
  {
   "cell_type": "markdown",
   "id": "e29b3c72",
   "metadata": {},
   "source": [
    "Na osnovu pregleda statistika za kategoricke varijable mozemo zakljuciti da u odnosu na velicinu naseg dataset-a nijedna nema previse unique vrednosti,pa ce moci da se radi njihovo sredjivanje i kvantifikacija u daljem radu u delu za sredjivanje dataset-a tako da bude pogodan za prediktivno modelovanje."
   ]
  },
  {
   "cell_type": "code",
   "execution_count": 184,
   "id": "1f9299dc",
   "metadata": {},
   "outputs": [
    {
     "name": "stdout",
     "output_type": "stream",
     "text": [
      "no     3668\n",
      "yes     451\n",
      "Name: orocio_depozit, dtype: int64\n"
     ]
    },
    {
     "data": {
      "text/plain": [
       "no     0.890507\n",
       "yes    0.109493\n",
       "Name: orocio_depozit, dtype: float64"
      ]
     },
     "execution_count": 184,
     "metadata": {},
     "output_type": "execute_result"
    }
   ],
   "source": [
    "print(df['orocio_depozit'].value_counts())\n",
    "df['orocio_depozit'].value_counts()/np.size(df['orocio_depozit']) \n",
    "#Procenti za izlaznu varijablu IZBACI RED SA NEDOSTAJUCOM VREDNOSCU"
   ]
  },
  {
   "cell_type": "markdown",
   "id": "a7dbc260",
   "metadata": {},
   "source": [
    "Moze se primetiti da je raspodela vrednosti za izlaznu promenljivu veoma neuravnotezena i da skoro 90% instacni u dataset-u ima vrednost <b>NO</b>"
   ]
  },
  {
   "cell_type": "markdown",
   "id": "88dfd8af",
   "metadata": {},
   "source": [
    "<b>Korelacije</b>"
   ]
  },
  {
   "cell_type": "code",
   "execution_count": 185,
   "id": "379fb66c",
   "metadata": {},
   "outputs": [
    {
     "data": {
      "text/html": [
       "<div>\n",
       "<style scoped>\n",
       "    .dataframe tbody tr th:only-of-type {\n",
       "        vertical-align: middle;\n",
       "    }\n",
       "\n",
       "    .dataframe tbody tr th {\n",
       "        vertical-align: top;\n",
       "    }\n",
       "\n",
       "    .dataframe thead th {\n",
       "        text-align: right;\n",
       "    }\n",
       "</style>\n",
       "<table border=\"1\" class=\"dataframe\">\n",
       "  <thead>\n",
       "    <tr style=\"text-align: right;\">\n",
       "      <th></th>\n",
       "      <th>godine</th>\n",
       "      <th>trajanje_poslednjeg_poziva</th>\n",
       "      <th>puta_kontaktiran_u_kampanji</th>\n",
       "      <th>dana_od_poslednjeg_kontakta</th>\n",
       "      <th>puta_kontaktiran_u_proslosti</th>\n",
       "      <th>stopa_varijabiliteta_zaposlenosti</th>\n",
       "      <th>indeks_potrosackih_cena</th>\n",
       "      <th>indeks_poverenja_kupca</th>\n",
       "      <th>euribor</th>\n",
       "      <th>broj_zaposlenih</th>\n",
       "    </tr>\n",
       "  </thead>\n",
       "  <tbody>\n",
       "    <tr>\n",
       "      <th>godine</th>\n",
       "      <td>1.000000</td>\n",
       "      <td>0.041518</td>\n",
       "      <td>-0.014027</td>\n",
       "      <td>-0.043425</td>\n",
       "      <td>0.050709</td>\n",
       "      <td>-0.018516</td>\n",
       "      <td>-0.000245</td>\n",
       "      <td>0.098175</td>\n",
       "      <td>-0.014934</td>\n",
       "      <td>-0.041977</td>\n",
       "    </tr>\n",
       "    <tr>\n",
       "      <th>trajanje_poslednjeg_poziva</th>\n",
       "      <td>0.041518</td>\n",
       "      <td>1.000000</td>\n",
       "      <td>-0.084864</td>\n",
       "      <td>-0.046941</td>\n",
       "      <td>0.025650</td>\n",
       "      <td>-0.028231</td>\n",
       "      <td>0.016422</td>\n",
       "      <td>-0.034736</td>\n",
       "      <td>-0.032022</td>\n",
       "      <td>-0.043875</td>\n",
       "    </tr>\n",
       "    <tr>\n",
       "      <th>puta_kontaktiran_u_kampanji</th>\n",
       "      <td>-0.014027</td>\n",
       "      <td>-0.084864</td>\n",
       "      <td>1.000000</td>\n",
       "      <td>0.058578</td>\n",
       "      <td>-0.091208</td>\n",
       "      <td>0.175731</td>\n",
       "      <td>0.144740</td>\n",
       "      <td>0.006844</td>\n",
       "      <td>0.159059</td>\n",
       "      <td>0.160706</td>\n",
       "    </tr>\n",
       "    <tr>\n",
       "      <th>dana_od_poslednjeg_kontakta</th>\n",
       "      <td>-0.043425</td>\n",
       "      <td>-0.046941</td>\n",
       "      <td>0.058578</td>\n",
       "      <td>1.000000</td>\n",
       "      <td>-0.587930</td>\n",
       "      <td>0.270708</td>\n",
       "      <td>0.058420</td>\n",
       "      <td>-0.092012</td>\n",
       "      <td>0.301449</td>\n",
       "      <td>0.381977</td>\n",
       "    </tr>\n",
       "    <tr>\n",
       "      <th>puta_kontaktiran_u_proslosti</th>\n",
       "      <td>0.050709</td>\n",
       "      <td>0.025650</td>\n",
       "      <td>-0.091208</td>\n",
       "      <td>-0.587930</td>\n",
       "      <td>1.000000</td>\n",
       "      <td>-0.415220</td>\n",
       "      <td>-0.164824</td>\n",
       "      <td>-0.051690</td>\n",
       "      <td>-0.458748</td>\n",
       "      <td>-0.514794</td>\n",
       "    </tr>\n",
       "    <tr>\n",
       "      <th>stopa_varijabiliteta_zaposlenosti</th>\n",
       "      <td>-0.018516</td>\n",
       "      <td>-0.028231</td>\n",
       "      <td>0.175731</td>\n",
       "      <td>0.270708</td>\n",
       "      <td>-0.415220</td>\n",
       "      <td>1.000000</td>\n",
       "      <td>0.755721</td>\n",
       "      <td>0.194261</td>\n",
       "      <td>0.970359</td>\n",
       "      <td>0.897526</td>\n",
       "    </tr>\n",
       "    <tr>\n",
       "      <th>indeks_potrosackih_cena</th>\n",
       "      <td>-0.000245</td>\n",
       "      <td>0.016422</td>\n",
       "      <td>0.144740</td>\n",
       "      <td>0.058420</td>\n",
       "      <td>-0.164824</td>\n",
       "      <td>0.755721</td>\n",
       "      <td>1.000000</td>\n",
       "      <td>0.045269</td>\n",
       "      <td>0.657008</td>\n",
       "      <td>0.472383</td>\n",
       "    </tr>\n",
       "    <tr>\n",
       "      <th>indeks_poverenja_kupca</th>\n",
       "      <td>0.098175</td>\n",
       "      <td>-0.034736</td>\n",
       "      <td>0.006844</td>\n",
       "      <td>-0.092012</td>\n",
       "      <td>-0.051690</td>\n",
       "      <td>0.194261</td>\n",
       "      <td>0.045269</td>\n",
       "      <td>1.000000</td>\n",
       "      <td>0.276124</td>\n",
       "      <td>0.106835</td>\n",
       "    </tr>\n",
       "    <tr>\n",
       "      <th>euribor</th>\n",
       "      <td>-0.014934</td>\n",
       "      <td>-0.032022</td>\n",
       "      <td>0.159059</td>\n",
       "      <td>0.301449</td>\n",
       "      <td>-0.458748</td>\n",
       "      <td>0.970359</td>\n",
       "      <td>0.657008</td>\n",
       "      <td>0.276124</td>\n",
       "      <td>1.000000</td>\n",
       "      <td>0.942587</td>\n",
       "    </tr>\n",
       "    <tr>\n",
       "      <th>broj_zaposlenih</th>\n",
       "      <td>-0.041977</td>\n",
       "      <td>-0.043875</td>\n",
       "      <td>0.160706</td>\n",
       "      <td>0.381977</td>\n",
       "      <td>-0.514794</td>\n",
       "      <td>0.897526</td>\n",
       "      <td>0.472383</td>\n",
       "      <td>0.106835</td>\n",
       "      <td>0.942587</td>\n",
       "      <td>1.000000</td>\n",
       "    </tr>\n",
       "  </tbody>\n",
       "</table>\n",
       "</div>"
      ],
      "text/plain": [
       "                                     godine  trajanje_poslednjeg_poziva  \\\n",
       "godine                             1.000000                    0.041518   \n",
       "trajanje_poslednjeg_poziva         0.041518                    1.000000   \n",
       "puta_kontaktiran_u_kampanji       -0.014027                   -0.084864   \n",
       "dana_od_poslednjeg_kontakta       -0.043425                   -0.046941   \n",
       "puta_kontaktiran_u_proslosti       0.050709                    0.025650   \n",
       "stopa_varijabiliteta_zaposlenosti -0.018516                   -0.028231   \n",
       "indeks_potrosackih_cena           -0.000245                    0.016422   \n",
       "indeks_poverenja_kupca             0.098175                   -0.034736   \n",
       "euribor                           -0.014934                   -0.032022   \n",
       "broj_zaposlenih                   -0.041977                   -0.043875   \n",
       "\n",
       "                                   puta_kontaktiran_u_kampanji  \\\n",
       "godine                                               -0.014027   \n",
       "trajanje_poslednjeg_poziva                           -0.084864   \n",
       "puta_kontaktiran_u_kampanji                           1.000000   \n",
       "dana_od_poslednjeg_kontakta                           0.058578   \n",
       "puta_kontaktiran_u_proslosti                         -0.091208   \n",
       "stopa_varijabiliteta_zaposlenosti                     0.175731   \n",
       "indeks_potrosackih_cena                               0.144740   \n",
       "indeks_poverenja_kupca                                0.006844   \n",
       "euribor                                               0.159059   \n",
       "broj_zaposlenih                                       0.160706   \n",
       "\n",
       "                                   dana_od_poslednjeg_kontakta  \\\n",
       "godine                                               -0.043425   \n",
       "trajanje_poslednjeg_poziva                           -0.046941   \n",
       "puta_kontaktiran_u_kampanji                           0.058578   \n",
       "dana_od_poslednjeg_kontakta                           1.000000   \n",
       "puta_kontaktiran_u_proslosti                         -0.587930   \n",
       "stopa_varijabiliteta_zaposlenosti                     0.270708   \n",
       "indeks_potrosackih_cena                               0.058420   \n",
       "indeks_poverenja_kupca                               -0.092012   \n",
       "euribor                                               0.301449   \n",
       "broj_zaposlenih                                       0.381977   \n",
       "\n",
       "                                   puta_kontaktiran_u_proslosti  \\\n",
       "godine                                                 0.050709   \n",
       "trajanje_poslednjeg_poziva                             0.025650   \n",
       "puta_kontaktiran_u_kampanji                           -0.091208   \n",
       "dana_od_poslednjeg_kontakta                           -0.587930   \n",
       "puta_kontaktiran_u_proslosti                           1.000000   \n",
       "stopa_varijabiliteta_zaposlenosti                     -0.415220   \n",
       "indeks_potrosackih_cena                               -0.164824   \n",
       "indeks_poverenja_kupca                                -0.051690   \n",
       "euribor                                               -0.458748   \n",
       "broj_zaposlenih                                       -0.514794   \n",
       "\n",
       "                                   stopa_varijabiliteta_zaposlenosti  \\\n",
       "godine                                                     -0.018516   \n",
       "trajanje_poslednjeg_poziva                                 -0.028231   \n",
       "puta_kontaktiran_u_kampanji                                 0.175731   \n",
       "dana_od_poslednjeg_kontakta                                 0.270708   \n",
       "puta_kontaktiran_u_proslosti                               -0.415220   \n",
       "stopa_varijabiliteta_zaposlenosti                           1.000000   \n",
       "indeks_potrosackih_cena                                     0.755721   \n",
       "indeks_poverenja_kupca                                      0.194261   \n",
       "euribor                                                     0.970359   \n",
       "broj_zaposlenih                                             0.897526   \n",
       "\n",
       "                                   indeks_potrosackih_cena  \\\n",
       "godine                                           -0.000245   \n",
       "trajanje_poslednjeg_poziva                        0.016422   \n",
       "puta_kontaktiran_u_kampanji                       0.144740   \n",
       "dana_od_poslednjeg_kontakta                       0.058420   \n",
       "puta_kontaktiran_u_proslosti                     -0.164824   \n",
       "stopa_varijabiliteta_zaposlenosti                 0.755721   \n",
       "indeks_potrosackih_cena                           1.000000   \n",
       "indeks_poverenja_kupca                            0.045269   \n",
       "euribor                                           0.657008   \n",
       "broj_zaposlenih                                   0.472383   \n",
       "\n",
       "                                   indeks_poverenja_kupca   euribor  \\\n",
       "godine                                           0.098175 -0.014934   \n",
       "trajanje_poslednjeg_poziva                      -0.034736 -0.032022   \n",
       "puta_kontaktiran_u_kampanji                      0.006844  0.159059   \n",
       "dana_od_poslednjeg_kontakta                     -0.092012  0.301449   \n",
       "puta_kontaktiran_u_proslosti                    -0.051690 -0.458748   \n",
       "stopa_varijabiliteta_zaposlenosti                0.194261  0.970359   \n",
       "indeks_potrosackih_cena                          0.045269  0.657008   \n",
       "indeks_poverenja_kupca                           1.000000  0.276124   \n",
       "euribor                                          0.276124  1.000000   \n",
       "broj_zaposlenih                                  0.106835  0.942587   \n",
       "\n",
       "                                   broj_zaposlenih  \n",
       "godine                                   -0.041977  \n",
       "trajanje_poslednjeg_poziva               -0.043875  \n",
       "puta_kontaktiran_u_kampanji               0.160706  \n",
       "dana_od_poslednjeg_kontakta               0.381977  \n",
       "puta_kontaktiran_u_proslosti             -0.514794  \n",
       "stopa_varijabiliteta_zaposlenosti         0.897526  \n",
       "indeks_potrosackih_cena                   0.472383  \n",
       "indeks_poverenja_kupca                    0.106835  \n",
       "euribor                                   0.942587  \n",
       "broj_zaposlenih                           1.000000  "
      ]
     },
     "execution_count": 185,
     "metadata": {},
     "output_type": "execute_result"
    }
   ],
   "source": [
    "df.corr(numeric_only=True)"
   ]
  },
  {
   "cell_type": "code",
   "execution_count": 186,
   "id": "13508548",
   "metadata": {},
   "outputs": [],
   "source": [
    "matrica=df.corr(numeric_only=True)"
   ]
  },
  {
   "cell_type": "code",
   "execution_count": 187,
   "id": "9491836b",
   "metadata": {
    "scrolled": true
   },
   "outputs": [
    {
     "data": {
      "image/png": "[encoded data removed]",
      "text/plain": [
       "<Figure size 640x480 with 2 Axes>"
      ]
     },
     "metadata": {},
     "output_type": "display_data"
    }
   ],
   "source": [
    "mask = np.triu(np.ones_like(matrica, dtype=bool))\n",
    "sn.heatmap(round(matrica,3), annot=True,vmax=1,vmin=-1,center=0,cmap='vlag',mask=mask)\n",
    "plt.show()"
   ]
  },
  {
   "cell_type": "markdown",
   "id": "62b8b6dc",
   "metadata": {},
   "source": [
    "Sa matrice korelacije moze se uociti sledece:postoji visoka korelacija izmedju atributa <b>puta_kontaktiran_u_proslosti</b> i <b>dana_od_poslednjeg_kontakta</b> koja iznosi <b>-0,59</b>,<b>indeks_potrosackih_cena</b> i <b>stopa_varijabiliteta_zaposlenosti</b> koja iznosi <b>0,76</b>,<b>euribor</b> i <b>stopa_varijabiliteta_zaposlenosti</b> koja iznosi <b>0,97</b>,<b>euribor</b> i <b>indeks_potrosackih_cena</b> koji iznosi <b>0,66</b>,<b>broj_zaposlenih</b> i <b>puta_kontaktiran_u_proslosti</b> koji iznosi <b>-0,52</b>,<b>broj_zaposlenih</b> i <b>stopa_varijabiliteta_zaposlenosti</b> koji iznosi <b>0,9</b> i na kraju izmedju promenljivih <b>broj_zaposlenih</b> i <b>euribor</b> koji iznosi <b>0,94</b>"
   ]
  },
  {
   "cell_type": "markdown",
   "id": "327f61ae",
   "metadata": {},
   "source": [
    "<b>Vizualizacije podataka i raspodele promenljivih</b>"
   ]
  },
  {
   "cell_type": "code",
   "execution_count": 188,
   "id": "d732d375",
   "metadata": {},
   "outputs": [],
   "source": [
    "lista_numerickih1=['godine','trajanje_poslednjeg_poziva','puta_kontaktiran_u_kampanji','dana_od_poslednjeg_kontakta']"
   ]
  },
  {
   "cell_type": "code",
   "execution_count": 189,
   "id": "956c7ef2",
   "metadata": {},
   "outputs": [
    {
     "data": {
      "text/plain": [
       "<Axes: >"
      ]
     },
     "execution_count": 189,
     "metadata": {},
     "output_type": "execute_result"
    },
    {
     "data": {
      "image/png": "[encoded data removed]",
      "text/plain": [
       "<Figure size 640x480 with 1 Axes>"
      ]
     },
     "metadata": {},
     "output_type": "display_data"
    }
   ],
   "source": [
    "df['godine'].plot(kind='box')"
   ]
  },
  {
   "cell_type": "code",
   "execution_count": 190,
   "id": "48b0d1b7",
   "metadata": {},
   "outputs": [
    {
     "data": {
      "text/plain": [
       "array([[<Axes: title={'center': 'godine'}>,\n",
       "        <Axes: title={'center': 'trajanje_poslednjeg_poziva'}>],\n",
       "       [<Axes: title={'center': 'puta_kontaktiran_u_kampanji'}>,\n",
       "        <Axes: title={'center': 'dana_od_poslednjeg_kontakta'}>]],\n",
       "      dtype=object)"
      ]
     },
     "execution_count": 190,
     "metadata": {},
     "output_type": "execute_result"
    },
    {
     "data": {
      "image/png": "[encoded data removed]",
      "text/plain": [
       "<Figure size 1500x900 with 4 Axes>"
      ]
     },
     "metadata": {},
     "output_type": "display_data"
    }
   ],
   "source": [
    "df[lista_numerickih1].hist(figsize=(15, 9))"
   ]
  },
  {
   "cell_type": "code",
   "execution_count": 191,
   "id": "33819ab5",
   "metadata": {},
   "outputs": [],
   "source": [
    "#ZAKLJUCAK ZA GRAFOVE"
   ]
  },
  {
   "cell_type": "code",
   "execution_count": 192,
   "id": "c3d381ff",
   "metadata": {},
   "outputs": [],
   "source": [
    "lista_numerickih2=['puta_kontaktiran_u_proslosti','ishod_prethodnih_kampanja','stopa_varijabiliteta_zaposlenosti','indeks_potrosackih_cena','indeks_poverenja_kupca']"
   ]
  },
  {
   "cell_type": "code",
   "execution_count": 193,
   "id": "01786f46",
   "metadata": {},
   "outputs": [
    {
     "data": {
      "text/plain": [
       "array([[<Axes: title={'center': 'puta_kontaktiran_u_proslosti'}>,\n",
       "        <Axes: title={'center': 'stopa_varijabiliteta_zaposlenosti'}>],\n",
       "       [<Axes: title={'center': 'indeks_potrosackih_cena'}>,\n",
       "        <Axes: title={'center': 'indeks_poverenja_kupca'}>]], dtype=object)"
      ]
     },
     "execution_count": 193,
     "metadata": {},
     "output_type": "execute_result"
    },
    {
     "data": {
      "image/png": "[encoded data removed]",
      "text/plain": [
       "<Figure size 1500x900 with 4 Axes>"
      ]
     },
     "metadata": {},
     "output_type": "display_data"
    }
   ],
   "source": [
    "df[lista_numerickih2].hist(figsize=(15, 9))"
   ]
  },
  {
   "cell_type": "code",
   "execution_count": 194,
   "id": "c839c619",
   "metadata": {},
   "outputs": [],
   "source": [
    "#ZAKLJUCAK ZA GRAFOVE"
   ]
  },
  {
   "cell_type": "code",
   "execution_count": 195,
   "id": "3878bd0a",
   "metadata": {},
   "outputs": [
    {
     "data": {
      "text/plain": [
       "<Axes: >"
      ]
     },
     "execution_count": 195,
     "metadata": {},
     "output_type": "execute_result"
    },
    {
     "data": {
      "image/png": "[encoded data removed]",
      "text/plain": [
       "<Figure size 1500x900 with 1 Axes>"
      ]
     },
     "metadata": {},
     "output_type": "display_data"
    }
   ],
   "source": [
    "df['euribor'].hist(figsize=(15, 9))"
   ]
  },
  {
   "cell_type": "code",
   "execution_count": 196,
   "id": "e68d9816",
   "metadata": {},
   "outputs": [
    {
     "data": {
      "text/plain": [
       "<Axes: >"
      ]
     },
     "execution_count": 196,
     "metadata": {},
     "output_type": "execute_result"
    },
    {
     "data": {
      "image/png": "[encoded data removed]",
      "text/plain": [
       "<Figure size 1500x900 with 1 Axes>"
      ]
     },
     "metadata": {},
     "output_type": "display_data"
    }
   ],
   "source": [
    "df['broj_zaposlenih'].hist(figsize=(15, 9))"
   ]
  },
  {
   "cell_type": "code",
   "execution_count": 197,
   "id": "e54f6453",
   "metadata": {},
   "outputs": [],
   "source": [
    "#ZAKLJUCAK ZA GRAFOVE"
   ]
  },
  {
   "cell_type": "code",
   "execution_count": 198,
   "id": "c31475b3",
   "metadata": {},
   "outputs": [
    {
     "data": {
      "text/plain": [
       "<Axes: >"
      ]
     },
     "execution_count": 198,
     "metadata": {},
     "output_type": "execute_result"
    },
    {
     "data": {
      "image/png": "[encoded data removed]",
      "text/plain": [
       "<Figure size 640x480 with 1 Axes>"
      ]
     },
     "metadata": {},
     "output_type": "display_data"
    }
   ],
   "source": [
    "sn.violinplot(df['godine'])"
   ]
  },
  {
   "cell_type": "code",
   "execution_count": 199,
   "id": "c2145881",
   "metadata": {},
   "outputs": [],
   "source": [
    "#ZAKLJUCAK ZA GRAFOVE"
   ]
  },
  {
   "cell_type": "code",
   "execution_count": 200,
   "id": "1f3f91d9",
   "metadata": {},
   "outputs": [],
   "source": [
    "lista_str=['tip_posla', 'bracni_status', 'obrazovanje','kasni_sa_isplatom',\n",
    "              'stambeni_kredit','licni_kredit/zajam','vrsta_kontakta','mesec_poslednjeg_poziva','dan_poslednjeg_poziva','']"
   ]
  },
  {
   "cell_type": "code",
   "execution_count": 201,
   "id": "c785138c",
   "metadata": {},
   "outputs": [
    {
     "data": {
      "text/plain": [
       "<Axes: xlabel='obrazovanje', ylabel='count'>"
      ]
     },
     "execution_count": 201,
     "metadata": {},
     "output_type": "execute_result"
    },
    {
     "data": {
      "image/png": "[encoded data removed]",
      "text/plain": [
       "<Figure size 1800x1100 with 3 Axes>"
      ]
     },
     "metadata": {},
     "output_type": "display_data"
    }
   ],
   "source": [
    "fig, axes = plt.subplots(3, 1, figsize=(18, 11))\n",
    "fig.suptitle('Vertikalni pod-plotovi 1')\n",
    "sn.countplot(x='tip_posla', data=df, ax=axes[0])\n",
    "sn.countplot(x='bracni_status', data=df, ax=axes[1])\n",
    "sn.countplot(x='obrazovanje', data=df, ax=axes[2])"
   ]
  },
  {
   "cell_type": "code",
   "execution_count": 202,
   "id": "644a5546",
   "metadata": {},
   "outputs": [],
   "source": [
    "#ZAKLUCAK"
   ]
  },
  {
   "cell_type": "code",
   "execution_count": 203,
   "id": "4d396c7f",
   "metadata": {},
   "outputs": [
    {
     "data": {
      "text/plain": [
       "<Axes: xlabel='licni_kredit/zajam', ylabel='count'>"
      ]
     },
     "execution_count": 203,
     "metadata": {},
     "output_type": "execute_result"
    },
    {
     "data": {
      "image/png": "[encoded data removed]",
      "text/plain": [
       "<Figure size 1800x1100 with 3 Axes>"
      ]
     },
     "metadata": {},
     "output_type": "display_data"
    }
   ],
   "source": [
    "fig, axes = plt.subplots(3, 1, figsize=(18, 11))\n",
    "fig.suptitle('Vertikalni pod-plotovi 2')\n",
    "sn.countplot(x='kasni_sa_isplatom', data=df, ax=axes[0])\n",
    "sn.countplot(x='stambeni_kredit', data=df, ax=axes[1])\n",
    "sn.countplot(x='licni_kredit/zajam', data=df, ax=axes[2])"
   ]
  },
  {
   "cell_type": "code",
   "execution_count": 204,
   "id": "7c0b12a4",
   "metadata": {},
   "outputs": [],
   "source": [
    "#ZAKLUCAK"
   ]
  },
  {
   "cell_type": "code",
   "execution_count": 205,
   "id": "dbfb249e",
   "metadata": {},
   "outputs": [
    {
     "data": {
      "text/plain": [
       "<Axes: xlabel='ishod_prethodnih_kampanja', ylabel='count'>"
      ]
     },
     "execution_count": 205,
     "metadata": {},
     "output_type": "execute_result"
    },
    {
     "data": {
      "image/png": "[encoded data removed]",
      "text/plain": [
       "<Figure size 1800x1100 with 4 Axes>"
      ]
     },
     "metadata": {},
     "output_type": "display_data"
    }
   ],
   "source": [
    "fig, axes = plt.subplots(4, 1, figsize=(18, 11))\n",
    "fig.suptitle('Vertikalni pod-plotovi 3')\n",
    "sn.countplot(x='vrsta_kontakta', data=df, ax=axes[0])\n",
    "sn.countplot(x='mesec_poslednjeg_poziva', data=df, ax=axes[1])\n",
    "sn.countplot(x='dan_poslednjeg_poziva', data=df, ax=axes[2])\n",
    "sn.countplot(x='ishod_prethodnih_kampanja', data=df, ax=axes[3])"
   ]
  },
  {
   "cell_type": "code",
   "execution_count": 206,
   "id": "a3fec911",
   "metadata": {},
   "outputs": [],
   "source": [
    "#ZAKLJUCAK"
   ]
  },
  {
   "cell_type": "code",
   "execution_count": 207,
   "id": "351dbdaa",
   "metadata": {},
   "outputs": [],
   "source": [
    "#KOMBINOVANI PLOTOVI"
   ]
  },
  {
   "cell_type": "markdown",
   "id": "5685e129",
   "metadata": {},
   "source": [
    "<b>PRIPREMA SKUPA PODATAKA ZA PREDIKTIVNO MODELOVANJE</b>"
   ]
  },
  {
   "cell_type": "markdown",
   "id": "aacfe31f",
   "metadata": {},
   "source": [
    "<b>Sredjivanje nedostajucih vrednosti</b>"
   ]
  },
  {
   "cell_type": "markdown",
   "id": "c2718d4d",
   "metadata": {},
   "source": [
    "U dokumentaciji je navadeno da kolona <b>trajanje_poslednjeg_poziva</b> u velikoj meri utice na izlaznu varijablu (ako je trajanje=0,izlaz='no'),pa se savetuje da se ona izbaci radi preciznosti modela"
   ]
  },
  {
   "cell_type": "code",
   "execution_count": 208,
   "id": "247a1408",
   "metadata": {},
   "outputs": [],
   "source": [
    "df = df.drop('trajanje_poslednjeg_poziva', axis = 1)"
   ]
  },
  {
   "cell_type": "code",
   "execution_count": 209,
   "id": "23e5ebdc",
   "metadata": {},
   "outputs": [
    {
     "data": {
      "text/html": [
       "<div>\n",
       "<style scoped>\n",
       "    .dataframe tbody tr th:only-of-type {\n",
       "        vertical-align: middle;\n",
       "    }\n",
       "\n",
       "    .dataframe tbody tr th {\n",
       "        vertical-align: top;\n",
       "    }\n",
       "\n",
       "    .dataframe thead th {\n",
       "        text-align: right;\n",
       "    }\n",
       "</style>\n",
       "<table border=\"1\" class=\"dataframe\">\n",
       "  <thead>\n",
       "    <tr style=\"text-align: right;\">\n",
       "      <th></th>\n",
       "      <th>godine</th>\n",
       "      <th>tip_posla</th>\n",
       "      <th>bracni_status</th>\n",
       "      <th>obrazovanje</th>\n",
       "      <th>kasni_sa_isplatom</th>\n",
       "      <th>stambeni_kredit</th>\n",
       "      <th>licni_kredit/zajam</th>\n",
       "      <th>vrsta_kontakta</th>\n",
       "      <th>mesec_poslednjeg_poziva</th>\n",
       "      <th>dan_poslednjeg_poziva</th>\n",
       "      <th>puta_kontaktiran_u_kampanji</th>\n",
       "      <th>dana_od_poslednjeg_kontakta</th>\n",
       "      <th>puta_kontaktiran_u_proslosti</th>\n",
       "      <th>ishod_prethodnih_kampanja</th>\n",
       "      <th>stopa_varijabiliteta_zaposlenosti</th>\n",
       "      <th>indeks_potrosackih_cena</th>\n",
       "      <th>indeks_poverenja_kupca</th>\n",
       "      <th>euribor</th>\n",
       "      <th>broj_zaposlenih</th>\n",
       "      <th>orocio_depozit</th>\n",
       "    </tr>\n",
       "  </thead>\n",
       "  <tbody>\n",
       "    <tr>\n",
       "      <th>0</th>\n",
       "      <td>30</td>\n",
       "      <td>blue-collar</td>\n",
       "      <td>married</td>\n",
       "      <td>basic.9y</td>\n",
       "      <td>no</td>\n",
       "      <td>yes</td>\n",
       "      <td>no</td>\n",
       "      <td>cellular</td>\n",
       "      <td>may</td>\n",
       "      <td>fri</td>\n",
       "      <td>2.0</td>\n",
       "      <td>999</td>\n",
       "      <td>0.0</td>\n",
       "      <td>nonexistent</td>\n",
       "      <td>-1.8</td>\n",
       "      <td>92.893</td>\n",
       "      <td>-46.2</td>\n",
       "      <td>1.313</td>\n",
       "      <td>5099.1</td>\n",
       "      <td>no</td>\n",
       "    </tr>\n",
       "    <tr>\n",
       "      <th>1</th>\n",
       "      <td>39</td>\n",
       "      <td>services</td>\n",
       "      <td>single</td>\n",
       "      <td>high.school</td>\n",
       "      <td>no</td>\n",
       "      <td>no</td>\n",
       "      <td>no</td>\n",
       "      <td>telephone</td>\n",
       "      <td>may</td>\n",
       "      <td>fri</td>\n",
       "      <td>4.0</td>\n",
       "      <td>999</td>\n",
       "      <td>0.0</td>\n",
       "      <td>nonexistent</td>\n",
       "      <td>1.1</td>\n",
       "      <td>93.994</td>\n",
       "      <td>-36.4</td>\n",
       "      <td>4.855</td>\n",
       "      <td>5191.0</td>\n",
       "      <td>no</td>\n",
       "    </tr>\n",
       "    <tr>\n",
       "      <th>2</th>\n",
       "      <td>25</td>\n",
       "      <td>services</td>\n",
       "      <td>married</td>\n",
       "      <td>high.school</td>\n",
       "      <td>no</td>\n",
       "      <td>yes</td>\n",
       "      <td>no</td>\n",
       "      <td>telephone</td>\n",
       "      <td>jun</td>\n",
       "      <td>wed</td>\n",
       "      <td>1.0</td>\n",
       "      <td>999</td>\n",
       "      <td>0.0</td>\n",
       "      <td>nonexistent</td>\n",
       "      <td>1.4</td>\n",
       "      <td>94.465</td>\n",
       "      <td>-41.8</td>\n",
       "      <td>4.962</td>\n",
       "      <td>5228.1</td>\n",
       "      <td>no</td>\n",
       "    </tr>\n",
       "    <tr>\n",
       "      <th>3</th>\n",
       "      <td>38</td>\n",
       "      <td>services</td>\n",
       "      <td>married</td>\n",
       "      <td>basic.9y</td>\n",
       "      <td>no</td>\n",
       "      <td>unknown</td>\n",
       "      <td>unknown</td>\n",
       "      <td>telephone</td>\n",
       "      <td>jun</td>\n",
       "      <td>fri</td>\n",
       "      <td>3.0</td>\n",
       "      <td>999</td>\n",
       "      <td>0.0</td>\n",
       "      <td>nonexistent</td>\n",
       "      <td>1.4</td>\n",
       "      <td>94.465</td>\n",
       "      <td>-41.8</td>\n",
       "      <td>4.959</td>\n",
       "      <td>5228.1</td>\n",
       "      <td>no</td>\n",
       "    </tr>\n",
       "    <tr>\n",
       "      <th>4</th>\n",
       "      <td>47</td>\n",
       "      <td>admin.</td>\n",
       "      <td>married</td>\n",
       "      <td>university.degree</td>\n",
       "      <td>no</td>\n",
       "      <td>yes</td>\n",
       "      <td>no</td>\n",
       "      <td>cellular</td>\n",
       "      <td>nov</td>\n",
       "      <td>mon</td>\n",
       "      <td>1.0</td>\n",
       "      <td>999</td>\n",
       "      <td>0.0</td>\n",
       "      <td>nonexistent</td>\n",
       "      <td>-0.1</td>\n",
       "      <td>93.200</td>\n",
       "      <td>-42.0</td>\n",
       "      <td>4.191</td>\n",
       "      <td>5195.8</td>\n",
       "      <td>no</td>\n",
       "    </tr>\n",
       "  </tbody>\n",
       "</table>\n",
       "</div>"
      ],
      "text/plain": [
       "   godine    tip_posla bracni_status        obrazovanje kasni_sa_isplatom  \\\n",
       "0      30  blue-collar       married           basic.9y                no   \n",
       "1      39     services        single        high.school                no   \n",
       "2      25     services       married        high.school                no   \n",
       "3      38     services       married           basic.9y                no   \n",
       "4      47       admin.       married  university.degree                no   \n",
       "\n",
       "  stambeni_kredit licni_kredit/zajam vrsta_kontakta mesec_poslednjeg_poziva  \\\n",
       "0             yes                 no       cellular                     may   \n",
       "1              no                 no      telephone                     may   \n",
       "2             yes                 no      telephone                     jun   \n",
       "3         unknown            unknown      telephone                     jun   \n",
       "4             yes                 no       cellular                     nov   \n",
       "\n",
       "  dan_poslednjeg_poziva  puta_kontaktiran_u_kampanji  \\\n",
       "0                   fri                          2.0   \n",
       "1                   fri                          4.0   \n",
       "2                   wed                          1.0   \n",
       "3                   fri                          3.0   \n",
       "4                   mon                          1.0   \n",
       "\n",
       "   dana_od_poslednjeg_kontakta  puta_kontaktiran_u_proslosti  \\\n",
       "0                          999                           0.0   \n",
       "1                          999                           0.0   \n",
       "2                          999                           0.0   \n",
       "3                          999                           0.0   \n",
       "4                          999                           0.0   \n",
       "\n",
       "  ishod_prethodnih_kampanja  stopa_varijabiliteta_zaposlenosti  \\\n",
       "0               nonexistent                               -1.8   \n",
       "1               nonexistent                                1.1   \n",
       "2               nonexistent                                1.4   \n",
       "3               nonexistent                                1.4   \n",
       "4               nonexistent                               -0.1   \n",
       "\n",
       "   indeks_potrosackih_cena  indeks_poverenja_kupca  euribor  broj_zaposlenih  \\\n",
       "0                   92.893                   -46.2    1.313           5099.1   \n",
       "1                   93.994                   -36.4    4.855           5191.0   \n",
       "2                   94.465                   -41.8    4.962           5228.1   \n",
       "3                   94.465                   -41.8    4.959           5228.1   \n",
       "4                   93.200                   -42.0    4.191           5195.8   \n",
       "\n",
       "  orocio_depozit  \n",
       "0             no  \n",
       "1             no  \n",
       "2             no  \n",
       "3             no  \n",
       "4             no  "
      ]
     },
     "execution_count": 209,
     "metadata": {},
     "output_type": "execute_result"
    }
   ],
   "source": [
    "df.head()"
   ]
  },
  {
   "cell_type": "markdown",
   "id": "b36c40ab",
   "metadata": {},
   "source": [
    "Najpre cemo dopuniti nedostajuce vrednosti za kategoricke promenljive.Za njih je neko opste pravilo da se nedostajuce vrednosti zamene vrednoscu koja se najcesce pojavljuje za dati atribut(ukoliko nema previse nedostajucih vrednosti u odnosu na velicinu dataset-a u kom slucaju mozemo dati atribut izbaciti iz daljeg razmatranja kako bi se izbeglo da modeli koje kreirano budu pretrenirani)."
   ]
  },
  {
   "cell_type": "code",
   "execution_count": 210,
   "id": "a5e93903",
   "metadata": {},
   "outputs": [
    {
     "data": {
      "text/html": [
       "<div>\n",
       "<style scoped>\n",
       "    .dataframe tbody tr th:only-of-type {\n",
       "        vertical-align: middle;\n",
       "    }\n",
       "\n",
       "    .dataframe tbody tr th {\n",
       "        vertical-align: top;\n",
       "    }\n",
       "\n",
       "    .dataframe thead th {\n",
       "        text-align: right;\n",
       "    }\n",
       "</style>\n",
       "<table border=\"1\" class=\"dataframe\">\n",
       "  <thead>\n",
       "    <tr style=\"text-align: right;\">\n",
       "      <th></th>\n",
       "      <th>tip_posla</th>\n",
       "      <th>bracni_status</th>\n",
       "      <th>obrazovanje</th>\n",
       "      <th>kasni_sa_isplatom</th>\n",
       "      <th>stambeni_kredit</th>\n",
       "      <th>licni_kredit/zajam</th>\n",
       "      <th>vrsta_kontakta</th>\n",
       "      <th>mesec_poslednjeg_poziva</th>\n",
       "      <th>dan_poslednjeg_poziva</th>\n",
       "      <th>ishod_prethodnih_kampanja</th>\n",
       "      <th>orocio_depozit</th>\n",
       "    </tr>\n",
       "  </thead>\n",
       "  <tbody>\n",
       "    <tr>\n",
       "      <th>count</th>\n",
       "      <td>4119</td>\n",
       "      <td>4119</td>\n",
       "      <td>4119</td>\n",
       "      <td>4119</td>\n",
       "      <td>4119</td>\n",
       "      <td>4119</td>\n",
       "      <td>4119</td>\n",
       "      <td>4119</td>\n",
       "      <td>4119</td>\n",
       "      <td>4119</td>\n",
       "      <td>4119</td>\n",
       "    </tr>\n",
       "    <tr>\n",
       "      <th>unique</th>\n",
       "      <td>12</td>\n",
       "      <td>4</td>\n",
       "      <td>8</td>\n",
       "      <td>3</td>\n",
       "      <td>3</td>\n",
       "      <td>3</td>\n",
       "      <td>2</td>\n",
       "      <td>10</td>\n",
       "      <td>5</td>\n",
       "      <td>3</td>\n",
       "      <td>2</td>\n",
       "    </tr>\n",
       "    <tr>\n",
       "      <th>top</th>\n",
       "      <td>admin.</td>\n",
       "      <td>married</td>\n",
       "      <td>university.degree</td>\n",
       "      <td>no</td>\n",
       "      <td>yes</td>\n",
       "      <td>no</td>\n",
       "      <td>cellular</td>\n",
       "      <td>may</td>\n",
       "      <td>thu</td>\n",
       "      <td>nonexistent</td>\n",
       "      <td>no</td>\n",
       "    </tr>\n",
       "    <tr>\n",
       "      <th>freq</th>\n",
       "      <td>1012</td>\n",
       "      <td>2509</td>\n",
       "      <td>1264</td>\n",
       "      <td>3315</td>\n",
       "      <td>2175</td>\n",
       "      <td>3349</td>\n",
       "      <td>2652</td>\n",
       "      <td>1378</td>\n",
       "      <td>860</td>\n",
       "      <td>3523</td>\n",
       "      <td>3668</td>\n",
       "    </tr>\n",
       "  </tbody>\n",
       "</table>\n",
       "</div>"
      ],
      "text/plain": [
       "       tip_posla bracni_status        obrazovanje kasni_sa_isplatom  \\\n",
       "count       4119          4119               4119              4119   \n",
       "unique        12             4                  8                 3   \n",
       "top       admin.       married  university.degree                no   \n",
       "freq        1012          2509               1264              3315   \n",
       "\n",
       "       stambeni_kredit licni_kredit/zajam vrsta_kontakta  \\\n",
       "count             4119               4119           4119   \n",
       "unique               3                  3              2   \n",
       "top                yes                 no       cellular   \n",
       "freq              2175               3349           2652   \n",
       "\n",
       "       mesec_poslednjeg_poziva dan_poslednjeg_poziva  \\\n",
       "count                     4119                  4119   \n",
       "unique                      10                     5   \n",
       "top                        may                   thu   \n",
       "freq                      1378                   860   \n",
       "\n",
       "       ishod_prethodnih_kampanja orocio_depozit  \n",
       "count                       4119           4119  \n",
       "unique                         3              2  \n",
       "top                  nonexistent             no  \n",
       "freq                        3523           3668  "
      ]
     },
     "execution_count": 210,
     "metadata": {},
     "output_type": "execute_result"
    }
   ],
   "source": [
    "df.describe(include=['object'])"
   ]
  },
  {
   "cell_type": "code",
   "execution_count": 211,
   "id": "b919f996",
   "metadata": {},
   "outputs": [
    {
     "data": {
      "text/plain": [
       "godine                                 0\n",
       "tip_posla                             39\n",
       "bracni_status                         11\n",
       "obrazovanje                          167\n",
       "kasni_sa_isplatom                    803\n",
       "stambeni_kredit                      105\n",
       "licni_kredit/zajam                   105\n",
       "vrsta_kontakta                         0\n",
       "mesec_poslednjeg_poziva                0\n",
       "dan_poslednjeg_poziva                  0\n",
       "puta_kontaktiran_u_kampanji            0\n",
       "dana_od_poslednjeg_kontakta            0\n",
       "puta_kontaktiran_u_proslosti           0\n",
       "ishod_prethodnih_kampanja              0\n",
       "stopa_varijabiliteta_zaposlenosti      0\n",
       "indeks_potrosackih_cena                0\n",
       "indeks_poverenja_kupca                 0\n",
       "euribor                                0\n",
       "broj_zaposlenih                        0\n",
       "orocio_depozit                         0\n",
       "dtype: int64"
      ]
     },
     "execution_count": 211,
     "metadata": {},
     "output_type": "execute_result"
    }
   ],
   "source": [
    "df[df==\"unknown\"].count()"
   ]
  },
  {
   "cell_type": "code",
   "execution_count": 212,
   "id": "bd6f4bd1",
   "metadata": {},
   "outputs": [],
   "source": [
    "#Atribut tip_posla ima 39 nedostajucih vrednosti,a najcesca vrednost je admin.->1012 puta"
   ]
  },
  {
   "cell_type": "code",
   "execution_count": 213,
   "id": "613112e6",
   "metadata": {},
   "outputs": [],
   "source": [
    "df['tip_posla'] = df['tip_posla'].replace('unknown','admin.')"
   ]
  },
  {
   "cell_type": "code",
   "execution_count": 214,
   "id": "c4ef43b5",
   "metadata": {},
   "outputs": [],
   "source": [
    "#Atribut bracni_status ima 11 nedostajucih vrednosti,a najcesca vrednost je married->2509 puta"
   ]
  },
  {
   "cell_type": "code",
   "execution_count": 215,
   "id": "accf9225",
   "metadata": {},
   "outputs": [],
   "source": [
    "df['bracni_status'] = df['bracni_status'].replace('unknown','married')"
   ]
  },
  {
   "cell_type": "code",
   "execution_count": 216,
   "id": "36f19328",
   "metadata": {},
   "outputs": [],
   "source": [
    "#Atribut obrazovanje ima 167 nedostajucih vrednosti,a najcesca vrednost je university.degree->1264 puta"
   ]
  },
  {
   "cell_type": "code",
   "execution_count": 217,
   "id": "fe6044a2",
   "metadata": {},
   "outputs": [],
   "source": [
    "df['obrazovanje'] = df['obrazovanje'].replace('unknown','university.degree')"
   ]
  },
  {
   "cell_type": "code",
   "execution_count": 218,
   "id": "34248a0f",
   "metadata": {},
   "outputs": [],
   "source": [
    "#Atribut kasni_sa_isplatom ima 803 nedostajucih vrednosti,a najcesca vrednost je no->3315 puta"
   ]
  },
  {
   "cell_type": "code",
   "execution_count": 219,
   "id": "29052283",
   "metadata": {},
   "outputs": [],
   "source": [
    "df = df.drop('kasni_sa_isplatom', axis = 1)"
   ]
  },
  {
   "cell_type": "code",
   "execution_count": 220,
   "id": "a7dbc6e2",
   "metadata": {},
   "outputs": [],
   "source": [
    "#Atribut stambeni_kredit ima 105 nedostajucih vrednosti,a najcesca vrednost je yes->2175 puta"
   ]
  },
  {
   "cell_type": "code",
   "execution_count": 221,
   "id": "26dae2a7",
   "metadata": {},
   "outputs": [],
   "source": [
    "df['stambeni_kredit'] = df['stambeni_kredit'].replace('unknown','yes')"
   ]
  },
  {
   "cell_type": "code",
   "execution_count": 222,
   "id": "6e047348",
   "metadata": {},
   "outputs": [],
   "source": [
    "#Atribut licni_kredit/zajam ima 105 nedostajucih vrednosti,a najcesca vrednost je no->3349 puta"
   ]
  },
  {
   "cell_type": "code",
   "execution_count": 223,
   "id": "f522fbe3",
   "metadata": {},
   "outputs": [],
   "source": [
    "#df = df.drop('licni_kredit/zajam', axis = 1)"
   ]
  },
  {
   "cell_type": "markdown",
   "id": "4b01d054",
   "metadata": {},
   "source": [
    "Nakon sredjivanja kategorickih mozemo da predjemo na numericke varijable.Njihove nedostajuce vrednosti menjamo <b>medijanom</b> ukoliko varijabla nema normalnu raspodelu,a ako ih ima <b>modusom</b>(proveru raspodele radimo pomocu Sapirovog testa)."
   ]
  },
  {
   "cell_type": "code",
   "execution_count": 224,
   "id": "4b52a231",
   "metadata": {},
   "outputs": [
    {
     "data": {
      "text/plain": [
       "godine                               0\n",
       "tip_posla                            0\n",
       "bracni_status                        0\n",
       "obrazovanje                          0\n",
       "stambeni_kredit                      0\n",
       "licni_kredit/zajam                   0\n",
       "vrsta_kontakta                       0\n",
       "mesec_poslednjeg_poziva              0\n",
       "dan_poslednjeg_poziva                0\n",
       "puta_kontaktiran_u_kampanji          5\n",
       "dana_od_poslednjeg_kontakta          0\n",
       "puta_kontaktiran_u_proslosti         2\n",
       "ishod_prethodnih_kampanja            0\n",
       "stopa_varijabiliteta_zaposlenosti    3\n",
       "indeks_potrosackih_cena              2\n",
       "indeks_poverenja_kupca               3\n",
       "euribor                              2\n",
       "broj_zaposlenih                      1\n",
       "orocio_depozit                       0\n",
       "dtype: int64"
      ]
     },
     "execution_count": 224,
     "metadata": {},
     "output_type": "execute_result"
    }
   ],
   "source": [
    "df.isna().sum()"
   ]
  },
  {
   "cell_type": "code",
   "execution_count": 225,
   "id": "d72e402d",
   "metadata": {},
   "outputs": [],
   "source": [
    "#Atribut puta_kontaktiran_u_kampanji ima 5 nedostajucih vrednosti"
   ]
  },
  {
   "cell_type": "code",
   "execution_count": 226,
   "id": "fc613b1c",
   "metadata": {},
   "outputs": [
    {
     "data": {
      "text/plain": [
       "ShapiroResult(statistic=nan, pvalue=1.0)"
      ]
     },
     "execution_count": 226,
     "metadata": {},
     "output_type": "execute_result"
    }
   ],
   "source": [
    "sc.stats.shapiro(df['puta_kontaktiran_u_kampanji']) #Ima normalnu raspodelu"
   ]
  },
  {
   "cell_type": "code",
   "execution_count": 227,
   "id": "652a5109",
   "metadata": {},
   "outputs": [],
   "source": [
    "df['puta_kontaktiran_u_kampanji'] = df['puta_kontaktiran_u_kampanji'].fillna(df['puta_kontaktiran_u_kampanji'].median())"
   ]
  },
  {
   "cell_type": "code",
   "execution_count": 228,
   "id": "dd01f5cb",
   "metadata": {},
   "outputs": [],
   "source": [
    "#Atribut puta_kontaktiran_u_proslosti ima 2 nedostajuce vrednosti"
   ]
  },
  {
   "cell_type": "code",
   "execution_count": 229,
   "id": "716b5420",
   "metadata": {},
   "outputs": [
    {
     "data": {
      "text/plain": [
       "ShapiroResult(statistic=nan, pvalue=1.0)"
      ]
     },
     "execution_count": 229,
     "metadata": {},
     "output_type": "execute_result"
    }
   ],
   "source": [
    "sc.stats.shapiro(df['puta_kontaktiran_u_proslosti'])"
   ]
  },
  {
   "cell_type": "code",
   "execution_count": 230,
   "id": "173f8b5f",
   "metadata": {},
   "outputs": [],
   "source": [
    "df['puta_kontaktiran_u_proslosti'] = df['puta_kontaktiran_u_proslosti'].fillna(df['puta_kontaktiran_u_proslosti'].median())"
   ]
  },
  {
   "cell_type": "code",
   "execution_count": 231,
   "id": "ada39d18",
   "metadata": {},
   "outputs": [],
   "source": [
    "#Atribut stopa_varijabiliteta_zaposlenosti ima 3 nedostajuce vrednosti"
   ]
  },
  {
   "cell_type": "code",
   "execution_count": 232,
   "id": "f957768c",
   "metadata": {},
   "outputs": [
    {
     "data": {
      "text/plain": [
       "ShapiroResult(statistic=nan, pvalue=1.0)"
      ]
     },
     "execution_count": 232,
     "metadata": {},
     "output_type": "execute_result"
    }
   ],
   "source": [
    "sc.stats.shapiro(df['stopa_varijabiliteta_zaposlenosti'])"
   ]
  },
  {
   "cell_type": "code",
   "execution_count": 233,
   "id": "2c707372",
   "metadata": {},
   "outputs": [],
   "source": [
    "df['stopa_varijabiliteta_zaposlenosti'] = df['stopa_varijabiliteta_zaposlenosti'].fillna(df['stopa_varijabiliteta_zaposlenosti'].median())"
   ]
  },
  {
   "cell_type": "code",
   "execution_count": 234,
   "id": "6f6fa324",
   "metadata": {},
   "outputs": [],
   "source": [
    "#Atribut indeks_potrosackih_cena ima 2 nedostajuce vrednosti"
   ]
  },
  {
   "cell_type": "code",
   "execution_count": 235,
   "id": "2596c048",
   "metadata": {},
   "outputs": [
    {
     "data": {
      "text/plain": [
       "ShapiroResult(statistic=nan, pvalue=1.0)"
      ]
     },
     "execution_count": 235,
     "metadata": {},
     "output_type": "execute_result"
    }
   ],
   "source": [
    "sc.stats.shapiro(df['indeks_potrosackih_cena'])"
   ]
  },
  {
   "cell_type": "code",
   "execution_count": 236,
   "id": "2d8d2414",
   "metadata": {},
   "outputs": [],
   "source": [
    "df['indeks_potrosackih_cena'] = df['indeks_potrosackih_cena'].fillna(df['indeks_potrosackih_cena'].median())"
   ]
  },
  {
   "cell_type": "code",
   "execution_count": 237,
   "id": "5178d9e7",
   "metadata": {},
   "outputs": [],
   "source": [
    "#Atribut indeks_poverenja_kupca ima 3 nedostajuce vrednosti"
   ]
  },
  {
   "cell_type": "code",
   "execution_count": 238,
   "id": "cccf1927",
   "metadata": {},
   "outputs": [
    {
     "data": {
      "text/plain": [
       "ShapiroResult(statistic=nan, pvalue=1.0)"
      ]
     },
     "execution_count": 238,
     "metadata": {},
     "output_type": "execute_result"
    }
   ],
   "source": [
    "sc.stats.shapiro(df['indeks_poverenja_kupca'])"
   ]
  },
  {
   "cell_type": "code",
   "execution_count": 239,
   "id": "3ff529ed",
   "metadata": {},
   "outputs": [],
   "source": [
    "df['indeks_poverenja_kupca'] = df['indeks_poverenja_kupca'].fillna(df['indeks_poverenja_kupca'].median())"
   ]
  },
  {
   "cell_type": "code",
   "execution_count": 240,
   "id": "55da5dd9",
   "metadata": {},
   "outputs": [],
   "source": [
    "#Atribut euribor ima 2 nedostajuce vrednosti"
   ]
  },
  {
   "cell_type": "code",
   "execution_count": 241,
   "id": "9e8d0d6e",
   "metadata": {},
   "outputs": [
    {
     "data": {
      "text/plain": [
       "ShapiroResult(statistic=nan, pvalue=1.0)"
      ]
     },
     "execution_count": 241,
     "metadata": {},
     "output_type": "execute_result"
    }
   ],
   "source": [
    "sc.stats.shapiro(df['euribor'])"
   ]
  },
  {
   "cell_type": "code",
   "execution_count": 242,
   "id": "9ce552c4",
   "metadata": {},
   "outputs": [],
   "source": [
    "df['euribor'] = df['euribor'].fillna(df['euribor'].median())"
   ]
  },
  {
   "cell_type": "code",
   "execution_count": 243,
   "id": "efce0db2",
   "metadata": {},
   "outputs": [],
   "source": [
    "#Atribut broj_zaposlenih ima 1 nedostajucy vrednost"
   ]
  },
  {
   "cell_type": "code",
   "execution_count": 244,
   "id": "fdc7b7ae",
   "metadata": {},
   "outputs": [
    {
     "data": {
      "text/plain": [
       "ShapiroResult(statistic=nan, pvalue=1.0)"
      ]
     },
     "execution_count": 244,
     "metadata": {},
     "output_type": "execute_result"
    }
   ],
   "source": [
    "sc.stats.shapiro(df['broj_zaposlenih'])"
   ]
  },
  {
   "cell_type": "code",
   "execution_count": 245,
   "id": "304295cf",
   "metadata": {},
   "outputs": [],
   "source": [
    "df['broj_zaposlenih'] = df['broj_zaposlenih'].fillna(df['broj_zaposlenih'].median())"
   ]
  },
  {
   "cell_type": "markdown",
   "id": "7a182dec",
   "metadata": {},
   "source": [
    "<b>Kvantifikacija kategorickih atributa</b>"
   ]
  },
  {
   "cell_type": "code",
   "execution_count": 246,
   "id": "21c971c4",
   "metadata": {},
   "outputs": [
    {
     "data": {
      "text/plain": [
       "godine                                 int64\n",
       "tip_posla                             object\n",
       "bracni_status                         object\n",
       "obrazovanje                           object\n",
       "stambeni_kredit                       object\n",
       "licni_kredit/zajam                    object\n",
       "vrsta_kontakta                        object\n",
       "mesec_poslednjeg_poziva               object\n",
       "dan_poslednjeg_poziva                 object\n",
       "puta_kontaktiran_u_kampanji          float64\n",
       "dana_od_poslednjeg_kontakta            int64\n",
       "puta_kontaktiran_u_proslosti         float64\n",
       "ishod_prethodnih_kampanja             object\n",
       "stopa_varijabiliteta_zaposlenosti    float64\n",
       "indeks_potrosackih_cena              float64\n",
       "indeks_poverenja_kupca               float64\n",
       "euribor                              float64\n",
       "broj_zaposlenih                      float64\n",
       "orocio_depozit                        object\n",
       "dtype: object"
      ]
     },
     "execution_count": 246,
     "metadata": {},
     "output_type": "execute_result"
    }
   ],
   "source": [
    "df.dtypes"
   ]
  },
  {
   "cell_type": "code",
   "execution_count": 247,
   "id": "d8629775",
   "metadata": {},
   "outputs": [],
   "source": [
    "df= df.replace({'stambeni_kredit' : {'no':0, 'yes':1}})"
   ]
  },
  {
   "cell_type": "code",
   "execution_count": 248,
   "id": "bf029ab9",
   "metadata": {},
   "outputs": [],
   "source": [
    "df= df.replace({'vrsta_kontakta' : {'telephone':0, 'cellular':1}})"
   ]
  },
  {
   "cell_type": "code",
   "execution_count": 249,
   "id": "d4b2525a",
   "metadata": {},
   "outputs": [],
   "source": [
    "df= df.replace({'orocio_depozit' : {'no':0, 'yes':1}})"
   ]
  },
  {
   "cell_type": "code",
   "execution_count": 250,
   "id": "05db75c3",
   "metadata": {},
   "outputs": [],
   "source": [
    "df= df.replace({'bracni_status' : {'single':1, 'married':2,'divorced':3}})"
   ]
  },
  {
   "cell_type": "code",
   "execution_count": 251,
   "id": "0dd4b1ea",
   "metadata": {},
   "outputs": [],
   "source": [
    "df= df.replace({'dan_poslednjeg_poziva' : {'mon':1, 'tue':2,'wed':3,'thu':4,'fri':5}})"
   ]
  },
  {
   "cell_type": "code",
   "execution_count": 252,
   "id": "e813f218",
   "metadata": {},
   "outputs": [],
   "source": [
    "df= df.replace({'ishod_prethodnih_kampanja' : {'nonexistent':1, 'failure':2,'success':3}})"
   ]
  },
  {
   "cell_type": "code",
   "execution_count": 253,
   "id": "6945daa1",
   "metadata": {},
   "outputs": [
    {
     "data": {
      "text/plain": [
       "array(['no', 'unknown', 'yes'], dtype=object)"
      ]
     },
     "execution_count": 253,
     "metadata": {},
     "output_type": "execute_result"
    }
   ],
   "source": [
    "df['licni_kredit/zajam'].unique()"
   ]
  },
  {
   "cell_type": "code",
   "execution_count": 254,
   "id": "edee1bb2",
   "metadata": {},
   "outputs": [],
   "source": [
    "df= df.replace({'licni_kredit/zajam' : {'no':0, 'unknown':2,'yes':1}})"
   ]
  },
  {
   "cell_type": "code",
   "execution_count": 255,
   "id": "6b54247a",
   "metadata": {},
   "outputs": [
    {
     "data": {
      "text/plain": [
       "array(['blue-collar', 'services', 'admin.', 'entrepreneur',\n",
       "       'self-employed', 'technician', 'management', 'student', 'retired',\n",
       "       'housemaid', 'unemployed'], dtype=object)"
      ]
     },
     "execution_count": 255,
     "metadata": {},
     "output_type": "execute_result"
    }
   ],
   "source": [
    "df['tip_posla'].unique()"
   ]
  },
  {
   "cell_type": "code",
   "execution_count": 256,
   "id": "c5484677",
   "metadata": {},
   "outputs": [],
   "source": [
    "df= df.replace({'tip_posla' : {'blue-collar':0, 'services':1, 'admin.':2, 'entrepreneur':3,\n",
    "       'self-employed':4, 'technician':5, 'management':6, 'student':7, 'retired':8,\n",
    "       'housemaid':9, 'unemployed':10}})"
   ]
  },
  {
   "cell_type": "code",
   "execution_count": 257,
   "id": "adee6138",
   "metadata": {},
   "outputs": [
    {
     "data": {
      "text/plain": [
       "array(['basic.9y', 'high.school', 'university.degree',\n",
       "       'professional.course', 'basic.6y', 'basic.4y', 'illiterate'],\n",
       "      dtype=object)"
      ]
     },
     "execution_count": 257,
     "metadata": {},
     "output_type": "execute_result"
    }
   ],
   "source": [
    "df['obrazovanje'].unique()"
   ]
  },
  {
   "cell_type": "code",
   "execution_count": 258,
   "id": "bd75092c",
   "metadata": {},
   "outputs": [],
   "source": [
    "df= df.replace({'obrazovanje' : {'basic.9y':0, 'high.school':1, 'university.degree':2,\n",
    "       'professional.course':3, 'basic.6y':4, 'basic.4y':5, 'illiterate':6}})"
   ]
  },
  {
   "cell_type": "code",
   "execution_count": 259,
   "id": "dc436400",
   "metadata": {},
   "outputs": [
    {
     "data": {
      "text/plain": [
       "array(['may', 'jun', 'nov', 'sep', 'jul', 'aug', 'mar', 'oct', 'apr',\n",
       "       'dec'], dtype=object)"
      ]
     },
     "execution_count": 259,
     "metadata": {},
     "output_type": "execute_result"
    }
   ],
   "source": [
    "df['mesec_poslednjeg_poziva'].unique()"
   ]
  },
  {
   "cell_type": "code",
   "execution_count": 260,
   "id": "1c0702d5",
   "metadata": {},
   "outputs": [],
   "source": [
    "df= df.replace({'mesec_poslednjeg_poziva' : {'may':5, 'jun':6, 'nov':11, 'sep':9, 'jul':7, 'aug':8, 'mar':3, 'oct':10, 'apr':4,\n",
    "       'dec':12}})"
   ]
  },
  {
   "cell_type": "code",
   "execution_count": 261,
   "id": "9094554b",
   "metadata": {
    "scrolled": true
   },
   "outputs": [
    {
     "data": {
      "text/html": [
       "<div>\n",
       "<style scoped>\n",
       "    .dataframe tbody tr th:only-of-type {\n",
       "        vertical-align: middle;\n",
       "    }\n",
       "\n",
       "    .dataframe tbody tr th {\n",
       "        vertical-align: top;\n",
       "    }\n",
       "\n",
       "    .dataframe thead th {\n",
       "        text-align: right;\n",
       "    }\n",
       "</style>\n",
       "<table border=\"1\" class=\"dataframe\">\n",
       "  <thead>\n",
       "    <tr style=\"text-align: right;\">\n",
       "      <th></th>\n",
       "      <th>godine</th>\n",
       "      <th>tip_posla</th>\n",
       "      <th>bracni_status</th>\n",
       "      <th>obrazovanje</th>\n",
       "      <th>stambeni_kredit</th>\n",
       "      <th>licni_kredit/zajam</th>\n",
       "      <th>vrsta_kontakta</th>\n",
       "      <th>mesec_poslednjeg_poziva</th>\n",
       "      <th>dan_poslednjeg_poziva</th>\n",
       "      <th>puta_kontaktiran_u_kampanji</th>\n",
       "      <th>dana_od_poslednjeg_kontakta</th>\n",
       "      <th>puta_kontaktiran_u_proslosti</th>\n",
       "      <th>ishod_prethodnih_kampanja</th>\n",
       "      <th>stopa_varijabiliteta_zaposlenosti</th>\n",
       "      <th>indeks_potrosackih_cena</th>\n",
       "      <th>indeks_poverenja_kupca</th>\n",
       "      <th>euribor</th>\n",
       "      <th>broj_zaposlenih</th>\n",
       "      <th>orocio_depozit</th>\n",
       "    </tr>\n",
       "  </thead>\n",
       "  <tbody>\n",
       "    <tr>\n",
       "      <th>0</th>\n",
       "      <td>30</td>\n",
       "      <td>0</td>\n",
       "      <td>2</td>\n",
       "      <td>0</td>\n",
       "      <td>1</td>\n",
       "      <td>0</td>\n",
       "      <td>1</td>\n",
       "      <td>5</td>\n",
       "      <td>5</td>\n",
       "      <td>2.0</td>\n",
       "      <td>999</td>\n",
       "      <td>0.0</td>\n",
       "      <td>1</td>\n",
       "      <td>-1.8</td>\n",
       "      <td>92.893</td>\n",
       "      <td>-46.2</td>\n",
       "      <td>1.313</td>\n",
       "      <td>5099.1</td>\n",
       "      <td>0</td>\n",
       "    </tr>\n",
       "    <tr>\n",
       "      <th>1</th>\n",
       "      <td>39</td>\n",
       "      <td>1</td>\n",
       "      <td>1</td>\n",
       "      <td>1</td>\n",
       "      <td>0</td>\n",
       "      <td>0</td>\n",
       "      <td>0</td>\n",
       "      <td>5</td>\n",
       "      <td>5</td>\n",
       "      <td>4.0</td>\n",
       "      <td>999</td>\n",
       "      <td>0.0</td>\n",
       "      <td>1</td>\n",
       "      <td>1.1</td>\n",
       "      <td>93.994</td>\n",
       "      <td>-36.4</td>\n",
       "      <td>4.855</td>\n",
       "      <td>5191.0</td>\n",
       "      <td>0</td>\n",
       "    </tr>\n",
       "    <tr>\n",
       "      <th>2</th>\n",
       "      <td>25</td>\n",
       "      <td>1</td>\n",
       "      <td>2</td>\n",
       "      <td>1</td>\n",
       "      <td>1</td>\n",
       "      <td>0</td>\n",
       "      <td>0</td>\n",
       "      <td>6</td>\n",
       "      <td>3</td>\n",
       "      <td>1.0</td>\n",
       "      <td>999</td>\n",
       "      <td>0.0</td>\n",
       "      <td>1</td>\n",
       "      <td>1.4</td>\n",
       "      <td>94.465</td>\n",
       "      <td>-41.8</td>\n",
       "      <td>4.962</td>\n",
       "      <td>5228.1</td>\n",
       "      <td>0</td>\n",
       "    </tr>\n",
       "    <tr>\n",
       "      <th>3</th>\n",
       "      <td>38</td>\n",
       "      <td>1</td>\n",
       "      <td>2</td>\n",
       "      <td>0</td>\n",
       "      <td>1</td>\n",
       "      <td>2</td>\n",
       "      <td>0</td>\n",
       "      <td>6</td>\n",
       "      <td>5</td>\n",
       "      <td>3.0</td>\n",
       "      <td>999</td>\n",
       "      <td>0.0</td>\n",
       "      <td>1</td>\n",
       "      <td>1.4</td>\n",
       "      <td>94.465</td>\n",
       "      <td>-41.8</td>\n",
       "      <td>4.959</td>\n",
       "      <td>5228.1</td>\n",
       "      <td>0</td>\n",
       "    </tr>\n",
       "    <tr>\n",
       "      <th>4</th>\n",
       "      <td>47</td>\n",
       "      <td>2</td>\n",
       "      <td>2</td>\n",
       "      <td>2</td>\n",
       "      <td>1</td>\n",
       "      <td>0</td>\n",
       "      <td>1</td>\n",
       "      <td>11</td>\n",
       "      <td>1</td>\n",
       "      <td>1.0</td>\n",
       "      <td>999</td>\n",
       "      <td>0.0</td>\n",
       "      <td>1</td>\n",
       "      <td>-0.1</td>\n",
       "      <td>93.200</td>\n",
       "      <td>-42.0</td>\n",
       "      <td>4.191</td>\n",
       "      <td>5195.8</td>\n",
       "      <td>0</td>\n",
       "    </tr>\n",
       "  </tbody>\n",
       "</table>\n",
       "</div>"
      ],
      "text/plain": [
       "   godine  tip_posla  bracni_status  obrazovanje  stambeni_kredit  \\\n",
       "0      30          0              2            0                1   \n",
       "1      39          1              1            1                0   \n",
       "2      25          1              2            1                1   \n",
       "3      38          1              2            0                1   \n",
       "4      47          2              2            2                1   \n",
       "\n",
       "   licni_kredit/zajam  vrsta_kontakta  mesec_poslednjeg_poziva  \\\n",
       "0                   0               1                        5   \n",
       "1                   0               0                        5   \n",
       "2                   0               0                        6   \n",
       "3                   2               0                        6   \n",
       "4                   0               1                       11   \n",
       "\n",
       "   dan_poslednjeg_poziva  puta_kontaktiran_u_kampanji  \\\n",
       "0                      5                          2.0   \n",
       "1                      5                          4.0   \n",
       "2                      3                          1.0   \n",
       "3                      5                          3.0   \n",
       "4                      1                          1.0   \n",
       "\n",
       "   dana_od_poslednjeg_kontakta  puta_kontaktiran_u_proslosti  \\\n",
       "0                          999                           0.0   \n",
       "1                          999                           0.0   \n",
       "2                          999                           0.0   \n",
       "3                          999                           0.0   \n",
       "4                          999                           0.0   \n",
       "\n",
       "   ishod_prethodnih_kampanja  stopa_varijabiliteta_zaposlenosti  \\\n",
       "0                          1                               -1.8   \n",
       "1                          1                                1.1   \n",
       "2                          1                                1.4   \n",
       "3                          1                                1.4   \n",
       "4                          1                               -0.1   \n",
       "\n",
       "   indeks_potrosackih_cena  indeks_poverenja_kupca  euribor  broj_zaposlenih  \\\n",
       "0                   92.893                   -46.2    1.313           5099.1   \n",
       "1                   93.994                   -36.4    4.855           5191.0   \n",
       "2                   94.465                   -41.8    4.962           5228.1   \n",
       "3                   94.465                   -41.8    4.959           5228.1   \n",
       "4                   93.200                   -42.0    4.191           5195.8   \n",
       "\n",
       "   orocio_depozit  \n",
       "0               0  \n",
       "1               0  \n",
       "2               0  \n",
       "3               0  \n",
       "4               0  "
      ]
     },
     "execution_count": 261,
     "metadata": {},
     "output_type": "execute_result"
    }
   ],
   "source": [
    "df.head()"
   ]
  },
  {
   "cell_type": "code",
   "execution_count": 92,
   "id": "218e03a8",
   "metadata": {},
   "outputs": [
    {
     "data": {
      "text/plain": [
       "0       1\n",
       "1       1\n",
       "2       1\n",
       "3       1\n",
       "4       1\n",
       "       ..\n",
       "4114    1\n",
       "4115    1\n",
       "4116    2\n",
       "4117    1\n",
       "4118    1\n",
       "Name: ishod_prethodnih_kampanja, Length: 4119, dtype: int64"
      ]
     },
     "execution_count": 92,
     "metadata": {},
     "output_type": "execute_result"
    }
   ],
   "source": [
    "df['ishod_prethodnih_kampanja']"
   ]
  },
  {
   "cell_type": "code",
   "execution_count": 93,
   "id": "1821c420",
   "metadata": {},
   "outputs": [
    {
     "data": {
      "text/plain": [
       "godine                                 int64\n",
       "tip_posla                             object\n",
       "bracni_status                          int64\n",
       "obrazovanje                           object\n",
       "stambeni_kredit                        int64\n",
       "licni_kredit/zajam                    object\n",
       "vrsta_kontakta                         int64\n",
       "mesec_poslednjeg_poziva               object\n",
       "dan_poslednjeg_poziva                  int64\n",
       "puta_kontaktiran_u_kampanji          float64\n",
       "dana_od_poslednjeg_kontakta            int64\n",
       "puta_kontaktiran_u_proslosti         float64\n",
       "ishod_prethodnih_kampanja              int64\n",
       "stopa_varijabiliteta_zaposlenosti    float64\n",
       "indeks_potrosackih_cena              float64\n",
       "indeks_poverenja_kupca               float64\n",
       "euribor                              float64\n",
       "broj_zaposlenih                      float64\n",
       "orocio_depozit                         int64\n",
       "dtype: object"
      ]
     },
     "execution_count": 93,
     "metadata": {},
     "output_type": "execute_result"
    }
   ],
   "source": [
    "df.dtypes #Tip posla,obrazovanje,mesec treba proveriti kako da se kvantifikuju zbog broja vrednosi i da li da se izbaci licni kredit"
   ]
  },
  {
   "cell_type": "markdown",
   "id": "6fe1931f",
   "metadata": {},
   "source": [
    "<b>Kreiranje izvedenih atributa</b>"
   ]
  },
  {
   "cell_type": "code",
   "execution_count": 94,
   "id": "9e8aab44",
   "metadata": {},
   "outputs": [],
   "source": [
    "# KLASTEROVANJE"
   ]
  },
  {
   "cell_type": "code",
   "execution_count": 95,
   "id": "4241b1e9",
   "metadata": {},
   "outputs": [],
   "source": [
    "#Klasterovanje je postupak podele skupa na klastere(grupe) u kojima su elementi u istoj grupi slicni a izmedju njih razliciti. \n",
    "#Da bi imalo smisla deliti elemente treba da se svedu na istu meru(NORMALIZACIJA)"
   ]
  },
  {
   "cell_type": "code",
   "execution_count": 96,
   "id": "b562d548",
   "metadata": {},
   "outputs": [],
   "source": [
    "#Postoji vise nacina za normalizaciju podataka npr: RobustScaler"
   ]
  },
  {
   "cell_type": "code",
   "execution_count": 97,
   "id": "94da78b6",
   "metadata": {},
   "outputs": [],
   "source": [
    "#Prvo uklanjamo suvisne kolone: Loan i housing jer imamo izvedenu za njih 2"
   ]
  },
  {
   "cell_type": "code",
   "execution_count": 99,
   "id": "f63e5b99",
   "metadata": {},
   "outputs": [],
   "source": [
    "df.drop(['licni_kredit/zajam','stambeni_kredit'], axis = 1, inplace = True)"
   ]
  },
  {
   "cell_type": "code",
   "execution_count": 100,
   "id": "c1709986",
   "metadata": {},
   "outputs": [],
   "source": [
    "kolone = df.columns"
   ]
  },
  {
   "cell_type": "code",
   "execution_count": 101,
   "id": "ad0ea33e",
   "metadata": {},
   "outputs": [
    {
     "data": {
      "text/plain": [
       "Index(['godine', 'tip_posla', 'bracni_status', 'obrazovanje', 'vrsta_kontakta',\n",
       "       'mesec_poslednjeg_poziva', 'dan_poslednjeg_poziva',\n",
       "       'puta_kontaktiran_u_kampanji', 'dana_od_poslednjeg_kontakta',\n",
       "       'puta_kontaktiran_u_proslosti', 'ishod_prethodnih_kampanja',\n",
       "       'stopa_varijabiliteta_zaposlenosti', 'indeks_potrosackih_cena',\n",
       "       'indeks_poverenja_kupca', 'euribor', 'broj_zaposlenih',\n",
       "       'orocio_depozit'],\n",
       "      dtype='object')"
      ]
     },
     "execution_count": 101,
     "metadata": {},
     "output_type": "execute_result"
    }
   ],
   "source": [
    "kolone"
   ]
  },
  {
   "cell_type": "code",
   "execution_count": 102,
   "id": "7cacb5f2",
   "metadata": {},
   "outputs": [],
   "source": [
    "df['dana_od_poslednjeg_kontakta'] = df['dana_od_poslednjeg_kontakta'].replace(999, -1)"
   ]
  },
  {
   "cell_type": "code",
   "execution_count": 103,
   "id": "d93d74e4",
   "metadata": {},
   "outputs": [],
   "source": [
    "#Zbog nerealne slike koja se stvarala vrednoscu 999, zamenili smo je sa vrednoscu -1, zbog bolje vizualizacije ekstremnih vrednosti"
   ]
  },
  {
   "cell_type": "code",
   "execution_count": 108,
   "id": "6d501aa9",
   "metadata": {},
   "outputs": [],
   "source": [
    "from sklearn.preprocessing import RobustScaler"
   ]
  },
  {
   "cell_type": "code",
   "execution_count": 109,
   "id": "b681d42b",
   "metadata": {},
   "outputs": [],
   "source": [
    "scaler = RobustScaler()"
   ]
  },
  {
   "cell_type": "code",
   "execution_count": 152,
   "id": "1e20f1df",
   "metadata": {},
   "outputs": [
    {
     "data": {
      "text/html": [
       "<div>\n",
       "<style scoped>\n",
       "    .dataframe tbody tr th:only-of-type {\n",
       "        vertical-align: middle;\n",
       "    }\n",
       "\n",
       "    .dataframe tbody tr th {\n",
       "        vertical-align: top;\n",
       "    }\n",
       "\n",
       "    .dataframe thead th {\n",
       "        text-align: right;\n",
       "    }\n",
       "</style>\n",
       "<table border=\"1\" class=\"dataframe\">\n",
       "  <thead>\n",
       "    <tr style=\"text-align: right;\">\n",
       "      <th></th>\n",
       "      <th>godine</th>\n",
       "      <th>tip_posla</th>\n",
       "      <th>bracni_status</th>\n",
       "      <th>obrazovanje</th>\n",
       "      <th>vrsta_kontakta</th>\n",
       "      <th>mesec_poslednjeg_poziva</th>\n",
       "      <th>dan_poslednjeg_poziva</th>\n",
       "      <th>puta_kontaktiran_u_kampanji</th>\n",
       "      <th>dana_od_poslednjeg_kontakta</th>\n",
       "      <th>puta_kontaktiran_u_proslosti</th>\n",
       "      <th>ishod_prethodnih_kampanja</th>\n",
       "      <th>stopa_varijabiliteta_zaposlenosti</th>\n",
       "      <th>indeks_potrosackih_cena</th>\n",
       "      <th>indeks_poverenja_kupca</th>\n",
       "      <th>euribor</th>\n",
       "      <th>broj_zaposlenih</th>\n",
       "      <th>orocio_depozit</th>\n",
       "    </tr>\n",
       "  </thead>\n",
       "  <tbody>\n",
       "    <tr>\n",
       "      <th>0</th>\n",
       "      <td>30</td>\n",
       "      <td>blue-collar</td>\n",
       "      <td>2</td>\n",
       "      <td>basic.9y</td>\n",
       "      <td>1</td>\n",
       "      <td>may</td>\n",
       "      <td>5</td>\n",
       "      <td>2.0</td>\n",
       "      <td>-1</td>\n",
       "      <td>0.0</td>\n",
       "      <td>1</td>\n",
       "      <td>-1.8</td>\n",
       "      <td>92.893</td>\n",
       "      <td>-46.2</td>\n",
       "      <td>1.313</td>\n",
       "      <td>5099.1</td>\n",
       "      <td>0</td>\n",
       "    </tr>\n",
       "    <tr>\n",
       "      <th>1</th>\n",
       "      <td>39</td>\n",
       "      <td>services</td>\n",
       "      <td>1</td>\n",
       "      <td>high.school</td>\n",
       "      <td>0</td>\n",
       "      <td>may</td>\n",
       "      <td>5</td>\n",
       "      <td>4.0</td>\n",
       "      <td>-1</td>\n",
       "      <td>0.0</td>\n",
       "      <td>1</td>\n",
       "      <td>1.1</td>\n",
       "      <td>93.994</td>\n",
       "      <td>-36.4</td>\n",
       "      <td>4.855</td>\n",
       "      <td>5191.0</td>\n",
       "      <td>0</td>\n",
       "    </tr>\n",
       "    <tr>\n",
       "      <th>2</th>\n",
       "      <td>25</td>\n",
       "      <td>services</td>\n",
       "      <td>2</td>\n",
       "      <td>high.school</td>\n",
       "      <td>0</td>\n",
       "      <td>jun</td>\n",
       "      <td>3</td>\n",
       "      <td>1.0</td>\n",
       "      <td>-1</td>\n",
       "      <td>0.0</td>\n",
       "      <td>1</td>\n",
       "      <td>1.4</td>\n",
       "      <td>94.465</td>\n",
       "      <td>-41.8</td>\n",
       "      <td>4.962</td>\n",
       "      <td>5228.1</td>\n",
       "      <td>0</td>\n",
       "    </tr>\n",
       "    <tr>\n",
       "      <th>3</th>\n",
       "      <td>38</td>\n",
       "      <td>services</td>\n",
       "      <td>2</td>\n",
       "      <td>basic.9y</td>\n",
       "      <td>0</td>\n",
       "      <td>jun</td>\n",
       "      <td>5</td>\n",
       "      <td>3.0</td>\n",
       "      <td>-1</td>\n",
       "      <td>0.0</td>\n",
       "      <td>1</td>\n",
       "      <td>1.4</td>\n",
       "      <td>94.465</td>\n",
       "      <td>-41.8</td>\n",
       "      <td>4.959</td>\n",
       "      <td>5228.1</td>\n",
       "      <td>0</td>\n",
       "    </tr>\n",
       "    <tr>\n",
       "      <th>4</th>\n",
       "      <td>47</td>\n",
       "      <td>admin.</td>\n",
       "      <td>2</td>\n",
       "      <td>university.degree</td>\n",
       "      <td>1</td>\n",
       "      <td>nov</td>\n",
       "      <td>1</td>\n",
       "      <td>1.0</td>\n",
       "      <td>-1</td>\n",
       "      <td>0.0</td>\n",
       "      <td>1</td>\n",
       "      <td>-0.1</td>\n",
       "      <td>93.200</td>\n",
       "      <td>-42.0</td>\n",
       "      <td>4.191</td>\n",
       "      <td>5195.8</td>\n",
       "      <td>0</td>\n",
       "    </tr>\n",
       "  </tbody>\n",
       "</table>\n",
       "</div>"
      ],
      "text/plain": [
       "   godine    tip_posla  bracni_status        obrazovanje  vrsta_kontakta  \\\n",
       "0      30  blue-collar              2           basic.9y               1   \n",
       "1      39     services              1        high.school               0   \n",
       "2      25     services              2        high.school               0   \n",
       "3      38     services              2           basic.9y               0   \n",
       "4      47       admin.              2  university.degree               1   \n",
       "\n",
       "  mesec_poslednjeg_poziva  dan_poslednjeg_poziva  puta_kontaktiran_u_kampanji  \\\n",
       "0                     may                      5                          2.0   \n",
       "1                     may                      5                          4.0   \n",
       "2                     jun                      3                          1.0   \n",
       "3                     jun                      5                          3.0   \n",
       "4                     nov                      1                          1.0   \n",
       "\n",
       "   dana_od_poslednjeg_kontakta  puta_kontaktiran_u_proslosti  \\\n",
       "0                           -1                           0.0   \n",
       "1                           -1                           0.0   \n",
       "2                           -1                           0.0   \n",
       "3                           -1                           0.0   \n",
       "4                           -1                           0.0   \n",
       "\n",
       "   ishod_prethodnih_kampanja  stopa_varijabiliteta_zaposlenosti  \\\n",
       "0                          1                               -1.8   \n",
       "1                          1                                1.1   \n",
       "2                          1                                1.4   \n",
       "3                          1                                1.4   \n",
       "4                          1                               -0.1   \n",
       "\n",
       "   indeks_potrosackih_cena  indeks_poverenja_kupca  euribor  broj_zaposlenih  \\\n",
       "0                   92.893                   -46.2    1.313           5099.1   \n",
       "1                   93.994                   -36.4    4.855           5191.0   \n",
       "2                   94.465                   -41.8    4.962           5228.1   \n",
       "3                   94.465                   -41.8    4.959           5228.1   \n",
       "4                   93.200                   -42.0    4.191           5195.8   \n",
       "\n",
       "   orocio_depozit  \n",
       "0               0  \n",
       "1               0  \n",
       "2               0  \n",
       "3               0  \n",
       "4               0  "
      ]
     },
     "execution_count": 152,
     "metadata": {},
     "output_type": "execute_result"
    }
   ],
   "source": [
    "df.head()"
   ]
  },
  {
   "cell_type": "code",
   "execution_count": 153,
   "id": "3a988fb2",
   "metadata": {},
   "outputs": [
    {
     "ename": "ValueError",
     "evalue": "could not convert string to float: 'blue-collar'",
     "output_type": "error",
     "traceback": [
      "\u001b[1;31m---------------------------------------------------------------------------\u001b[0m",
      "\u001b[1;31mValueError\u001b[0m                                Traceback (most recent call last)",
      "Cell \u001b[1;32mIn[153], line 1\u001b[0m\n\u001b[1;32m----> 1\u001b[0m df_normalizovani \u001b[38;5;241m=\u001b[39m \u001b[43mscaler\u001b[49m\u001b[38;5;241;43m.\u001b[39;49m\u001b[43mfit_transform\u001b[49m\u001b[43m(\u001b[49m\u001b[43mdf\u001b[49m\u001b[43m)\u001b[49m\n",
      "File \u001b[1;32m~\\anaconda3\\lib\\site-packages\\sklearn\\utils\\_set_output.py:142\u001b[0m, in \u001b[0;36m_wrap_method_output.<locals>.wrapped\u001b[1;34m(self, X, *args, **kwargs)\u001b[0m\n\u001b[0;32m    140\u001b[0m \u001b[38;5;129m@wraps\u001b[39m(f)\n\u001b[0;32m    141\u001b[0m \u001b[38;5;28;01mdef\u001b[39;00m \u001b[38;5;21mwrapped\u001b[39m(\u001b[38;5;28mself\u001b[39m, X, \u001b[38;5;241m*\u001b[39margs, \u001b[38;5;241m*\u001b[39m\u001b[38;5;241m*\u001b[39mkwargs):\n\u001b[1;32m--> 142\u001b[0m     data_to_wrap \u001b[38;5;241m=\u001b[39m f(\u001b[38;5;28mself\u001b[39m, X, \u001b[38;5;241m*\u001b[39margs, \u001b[38;5;241m*\u001b[39m\u001b[38;5;241m*\u001b[39mkwargs)\n\u001b[0;32m    143\u001b[0m     \u001b[38;5;28;01mif\u001b[39;00m \u001b[38;5;28misinstance\u001b[39m(data_to_wrap, \u001b[38;5;28mtuple\u001b[39m):\n\u001b[0;32m    144\u001b[0m         \u001b[38;5;66;03m# only wrap the first output for cross decomposition\u001b[39;00m\n\u001b[0;32m    145\u001b[0m         \u001b[38;5;28;01mreturn\u001b[39;00m (\n\u001b[0;32m    146\u001b[0m             _wrap_data_with_container(method, data_to_wrap[\u001b[38;5;241m0\u001b[39m], X, \u001b[38;5;28mself\u001b[39m),\n\u001b[0;32m    147\u001b[0m             \u001b[38;5;241m*\u001b[39mdata_to_wrap[\u001b[38;5;241m1\u001b[39m:],\n\u001b[0;32m    148\u001b[0m         )\n",
      "File \u001b[1;32m~\\anaconda3\\lib\\site-packages\\sklearn\\base.py:859\u001b[0m, in \u001b[0;36mTransformerMixin.fit_transform\u001b[1;34m(self, X, y, **fit_params)\u001b[0m\n\u001b[0;32m    855\u001b[0m \u001b[38;5;66;03m# non-optimized default implementation; override when a better\u001b[39;00m\n\u001b[0;32m    856\u001b[0m \u001b[38;5;66;03m# method is possible for a given clustering algorithm\u001b[39;00m\n\u001b[0;32m    857\u001b[0m \u001b[38;5;28;01mif\u001b[39;00m y \u001b[38;5;129;01mis\u001b[39;00m \u001b[38;5;28;01mNone\u001b[39;00m:\n\u001b[0;32m    858\u001b[0m     \u001b[38;5;66;03m# fit method of arity 1 (unsupervised transformation)\u001b[39;00m\n\u001b[1;32m--> 859\u001b[0m     \u001b[38;5;28;01mreturn\u001b[39;00m \u001b[38;5;28mself\u001b[39m\u001b[38;5;241m.\u001b[39mfit(X, \u001b[38;5;241m*\u001b[39m\u001b[38;5;241m*\u001b[39mfit_params)\u001b[38;5;241m.\u001b[39mtransform(X)\n\u001b[0;32m    860\u001b[0m \u001b[38;5;28;01melse\u001b[39;00m:\n\u001b[0;32m    861\u001b[0m     \u001b[38;5;66;03m# fit method of arity 2 (supervised transformation)\u001b[39;00m\n\u001b[0;32m    862\u001b[0m     \u001b[38;5;28;01mreturn\u001b[39;00m \u001b[38;5;28mself\u001b[39m\u001b[38;5;241m.\u001b[39mfit(X, y, \u001b[38;5;241m*\u001b[39m\u001b[38;5;241m*\u001b[39mfit_params)\u001b[38;5;241m.\u001b[39mtransform(X)\n",
      "File \u001b[1;32m~\\anaconda3\\lib\\site-packages\\sklearn\\preprocessing\\_data.py:1516\u001b[0m, in \u001b[0;36mRobustScaler.fit\u001b[1;34m(self, X, y)\u001b[0m\n\u001b[0;32m   1512\u001b[0m \u001b[38;5;28mself\u001b[39m\u001b[38;5;241m.\u001b[39m_validate_params()\n\u001b[0;32m   1514\u001b[0m \u001b[38;5;66;03m# at fit, convert sparse matrices to csc for optimized computation of\u001b[39;00m\n\u001b[0;32m   1515\u001b[0m \u001b[38;5;66;03m# the quantiles\u001b[39;00m\n\u001b[1;32m-> 1516\u001b[0m X \u001b[38;5;241m=\u001b[39m \u001b[38;5;28;43mself\u001b[39;49m\u001b[38;5;241;43m.\u001b[39;49m\u001b[43m_validate_data\u001b[49m\u001b[43m(\u001b[49m\n\u001b[0;32m   1517\u001b[0m \u001b[43m    \u001b[49m\u001b[43mX\u001b[49m\u001b[43m,\u001b[49m\n\u001b[0;32m   1518\u001b[0m \u001b[43m    \u001b[49m\u001b[43maccept_sparse\u001b[49m\u001b[38;5;241;43m=\u001b[39;49m\u001b[38;5;124;43m\"\u001b[39;49m\u001b[38;5;124;43mcsc\u001b[39;49m\u001b[38;5;124;43m\"\u001b[39;49m\u001b[43m,\u001b[49m\n\u001b[0;32m   1519\u001b[0m \u001b[43m    \u001b[49m\u001b[43mdtype\u001b[49m\u001b[38;5;241;43m=\u001b[39;49m\u001b[43mFLOAT_DTYPES\u001b[49m\u001b[43m,\u001b[49m\n\u001b[0;32m   1520\u001b[0m \u001b[43m    \u001b[49m\u001b[43mforce_all_finite\u001b[49m\u001b[38;5;241;43m=\u001b[39;49m\u001b[38;5;124;43m\"\u001b[39;49m\u001b[38;5;124;43mallow-nan\u001b[39;49m\u001b[38;5;124;43m\"\u001b[39;49m\u001b[43m,\u001b[49m\n\u001b[0;32m   1521\u001b[0m \u001b[43m\u001b[49m\u001b[43m)\u001b[49m\n\u001b[0;32m   1523\u001b[0m q_min, q_max \u001b[38;5;241m=\u001b[39m \u001b[38;5;28mself\u001b[39m\u001b[38;5;241m.\u001b[39mquantile_range\n\u001b[0;32m   1524\u001b[0m \u001b[38;5;28;01mif\u001b[39;00m \u001b[38;5;129;01mnot\u001b[39;00m \u001b[38;5;241m0\u001b[39m \u001b[38;5;241m<\u001b[39m\u001b[38;5;241m=\u001b[39m q_min \u001b[38;5;241m<\u001b[39m\u001b[38;5;241m=\u001b[39m q_max \u001b[38;5;241m<\u001b[39m\u001b[38;5;241m=\u001b[39m \u001b[38;5;241m100\u001b[39m:\n",
      "File \u001b[1;32m~\\anaconda3\\lib\\site-packages\\sklearn\\base.py:546\u001b[0m, in \u001b[0;36mBaseEstimator._validate_data\u001b[1;34m(self, X, y, reset, validate_separately, **check_params)\u001b[0m\n\u001b[0;32m    544\u001b[0m     \u001b[38;5;28;01mraise\u001b[39;00m \u001b[38;5;167;01mValueError\u001b[39;00m(\u001b[38;5;124m\"\u001b[39m\u001b[38;5;124mValidation should be done on X, y or both.\u001b[39m\u001b[38;5;124m\"\u001b[39m)\n\u001b[0;32m    545\u001b[0m \u001b[38;5;28;01melif\u001b[39;00m \u001b[38;5;129;01mnot\u001b[39;00m no_val_X \u001b[38;5;129;01mand\u001b[39;00m no_val_y:\n\u001b[1;32m--> 546\u001b[0m     X \u001b[38;5;241m=\u001b[39m check_array(X, input_name\u001b[38;5;241m=\u001b[39m\u001b[38;5;124m\"\u001b[39m\u001b[38;5;124mX\u001b[39m\u001b[38;5;124m\"\u001b[39m, \u001b[38;5;241m*\u001b[39m\u001b[38;5;241m*\u001b[39mcheck_params)\n\u001b[0;32m    547\u001b[0m     out \u001b[38;5;241m=\u001b[39m X\n\u001b[0;32m    548\u001b[0m \u001b[38;5;28;01melif\u001b[39;00m no_val_X \u001b[38;5;129;01mand\u001b[39;00m \u001b[38;5;129;01mnot\u001b[39;00m no_val_y:\n",
      "File \u001b[1;32m~\\anaconda3\\lib\\site-packages\\sklearn\\utils\\validation.py:879\u001b[0m, in \u001b[0;36mcheck_array\u001b[1;34m(array, accept_sparse, accept_large_sparse, dtype, order, copy, force_all_finite, ensure_2d, allow_nd, ensure_min_samples, ensure_min_features, estimator, input_name)\u001b[0m\n\u001b[0;32m    877\u001b[0m         array \u001b[38;5;241m=\u001b[39m xp\u001b[38;5;241m.\u001b[39mastype(array, dtype, copy\u001b[38;5;241m=\u001b[39m\u001b[38;5;28;01mFalse\u001b[39;00m)\n\u001b[0;32m    878\u001b[0m     \u001b[38;5;28;01melse\u001b[39;00m:\n\u001b[1;32m--> 879\u001b[0m         array \u001b[38;5;241m=\u001b[39m \u001b[43m_asarray_with_order\u001b[49m\u001b[43m(\u001b[49m\u001b[43marray\u001b[49m\u001b[43m,\u001b[49m\u001b[43m \u001b[49m\u001b[43morder\u001b[49m\u001b[38;5;241;43m=\u001b[39;49m\u001b[43morder\u001b[49m\u001b[43m,\u001b[49m\u001b[43m \u001b[49m\u001b[43mdtype\u001b[49m\u001b[38;5;241;43m=\u001b[39;49m\u001b[43mdtype\u001b[49m\u001b[43m,\u001b[49m\u001b[43m \u001b[49m\u001b[43mxp\u001b[49m\u001b[38;5;241;43m=\u001b[39;49m\u001b[43mxp\u001b[49m\u001b[43m)\u001b[49m\n\u001b[0;32m    880\u001b[0m \u001b[38;5;28;01mexcept\u001b[39;00m ComplexWarning \u001b[38;5;28;01mas\u001b[39;00m complex_warning:\n\u001b[0;32m    881\u001b[0m     \u001b[38;5;28;01mraise\u001b[39;00m \u001b[38;5;167;01mValueError\u001b[39;00m(\n\u001b[0;32m    882\u001b[0m         \u001b[38;5;124m\"\u001b[39m\u001b[38;5;124mComplex data not supported\u001b[39m\u001b[38;5;130;01m\\n\u001b[39;00m\u001b[38;5;132;01m{}\u001b[39;00m\u001b[38;5;130;01m\\n\u001b[39;00m\u001b[38;5;124m\"\u001b[39m\u001b[38;5;241m.\u001b[39mformat(array)\n\u001b[0;32m    883\u001b[0m     ) \u001b[38;5;28;01mfrom\u001b[39;00m \u001b[38;5;21;01mcomplex_warning\u001b[39;00m\n",
      "File \u001b[1;32m~\\anaconda3\\lib\\site-packages\\sklearn\\utils\\_array_api.py:185\u001b[0m, in \u001b[0;36m_asarray_with_order\u001b[1;34m(array, dtype, order, copy, xp)\u001b[0m\n\u001b[0;32m    182\u001b[0m     xp, _ \u001b[38;5;241m=\u001b[39m get_namespace(array)\n\u001b[0;32m    183\u001b[0m \u001b[38;5;28;01mif\u001b[39;00m xp\u001b[38;5;241m.\u001b[39m\u001b[38;5;18m__name__\u001b[39m \u001b[38;5;129;01min\u001b[39;00m {\u001b[38;5;124m\"\u001b[39m\u001b[38;5;124mnumpy\u001b[39m\u001b[38;5;124m\"\u001b[39m, \u001b[38;5;124m\"\u001b[39m\u001b[38;5;124mnumpy.array_api\u001b[39m\u001b[38;5;124m\"\u001b[39m}:\n\u001b[0;32m    184\u001b[0m     \u001b[38;5;66;03m# Use NumPy API to support order\u001b[39;00m\n\u001b[1;32m--> 185\u001b[0m     array \u001b[38;5;241m=\u001b[39m \u001b[43mnumpy\u001b[49m\u001b[38;5;241;43m.\u001b[39;49m\u001b[43masarray\u001b[49m\u001b[43m(\u001b[49m\u001b[43marray\u001b[49m\u001b[43m,\u001b[49m\u001b[43m \u001b[49m\u001b[43morder\u001b[49m\u001b[38;5;241;43m=\u001b[39;49m\u001b[43morder\u001b[49m\u001b[43m,\u001b[49m\u001b[43m \u001b[49m\u001b[43mdtype\u001b[49m\u001b[38;5;241;43m=\u001b[39;49m\u001b[43mdtype\u001b[49m\u001b[43m)\u001b[49m\n\u001b[0;32m    186\u001b[0m     \u001b[38;5;28;01mreturn\u001b[39;00m xp\u001b[38;5;241m.\u001b[39masarray(array, copy\u001b[38;5;241m=\u001b[39mcopy)\n\u001b[0;32m    187\u001b[0m \u001b[38;5;28;01melse\u001b[39;00m:\n",
      "File \u001b[1;32m~\\anaconda3\\lib\\site-packages\\pandas\\core\\generic.py:2070\u001b[0m, in \u001b[0;36mNDFrame.__array__\u001b[1;34m(self, dtype)\u001b[0m\n\u001b[0;32m   2069\u001b[0m \u001b[38;5;28;01mdef\u001b[39;00m \u001b[38;5;21m__array__\u001b[39m(\u001b[38;5;28mself\u001b[39m, dtype: npt\u001b[38;5;241m.\u001b[39mDTypeLike \u001b[38;5;241m|\u001b[39m \u001b[38;5;28;01mNone\u001b[39;00m \u001b[38;5;241m=\u001b[39m \u001b[38;5;28;01mNone\u001b[39;00m) \u001b[38;5;241m-\u001b[39m\u001b[38;5;241m>\u001b[39m np\u001b[38;5;241m.\u001b[39mndarray:\n\u001b[1;32m-> 2070\u001b[0m     \u001b[38;5;28;01mreturn\u001b[39;00m \u001b[43mnp\u001b[49m\u001b[38;5;241;43m.\u001b[39;49m\u001b[43masarray\u001b[49m\u001b[43m(\u001b[49m\u001b[38;5;28;43mself\u001b[39;49m\u001b[38;5;241;43m.\u001b[39;49m\u001b[43m_values\u001b[49m\u001b[43m,\u001b[49m\u001b[43m \u001b[49m\u001b[43mdtype\u001b[49m\u001b[38;5;241;43m=\u001b[39;49m\u001b[43mdtype\u001b[49m\u001b[43m)\u001b[49m\n",
      "\u001b[1;31mValueError\u001b[0m: could not convert string to float: 'blue-collar'"
     ]
    }
   ],
   "source": [
    "df_normalizovani = scaler.fit_transform(df)"
   ]
  },
  {
   "cell_type": "code",
   "execution_count": 111,
   "id": "15402965",
   "metadata": {},
   "outputs": [
    {
     "ename": "NameError",
     "evalue": "name 'df_normalizovani' is not defined",
     "output_type": "error",
     "traceback": [
      "\u001b[1;31m---------------------------------------------------------------------------\u001b[0m",
      "\u001b[1;31mNameError\u001b[0m                                 Traceback (most recent call last)",
      "Cell \u001b[1;32mIn[111], line 1\u001b[0m\n\u001b[1;32m----> 1\u001b[0m df_normalizovani \u001b[38;5;241m=\u001b[39m pd\u001b[38;5;241m.\u001b[39mDataFrame(\u001b[43mdf_normalizovani\u001b[49m, columns \u001b[38;5;241m=\u001b[39m df\u001b[38;5;241m.\u001b[39mcolumns)\n",
      "\u001b[1;31mNameError\u001b[0m: name 'df_normalizovani' is not defined"
     ]
    }
   ],
   "source": [
    "df_normalizovani = pd.DataFrame(df_normalizovani, columns = df.columns)"
   ]
  },
  {
   "cell_type": "code",
   "execution_count": 112,
   "id": "cf5e1192",
   "metadata": {},
   "outputs": [
    {
     "ename": "NameError",
     "evalue": "name 'df_normalizovani' is not defined",
     "output_type": "error",
     "traceback": [
      "\u001b[1;31m---------------------------------------------------------------------------\u001b[0m",
      "\u001b[1;31mNameError\u001b[0m                                 Traceback (most recent call last)",
      "Cell \u001b[1;32mIn[112], line 1\u001b[0m\n\u001b[1;32m----> 1\u001b[0m \u001b[43mdf_normalizovani\u001b[49m\n",
      "\u001b[1;31mNameError\u001b[0m: name 'df_normalizovani' is not defined"
     ]
    }
   ],
   "source": [
    "df_normalizovani"
   ]
  },
  {
   "cell_type": "code",
   "execution_count": 113,
   "id": "c74aa632",
   "metadata": {},
   "outputs": [
    {
     "ename": "NameError",
     "evalue": "name 'df_normalizovani' is not defined",
     "output_type": "error",
     "traceback": [
      "\u001b[1;31m---------------------------------------------------------------------------\u001b[0m",
      "\u001b[1;31mNameError\u001b[0m                                 Traceback (most recent call last)",
      "Cell \u001b[1;32mIn[113], line 1\u001b[0m\n\u001b[1;32m----> 1\u001b[0m kol \u001b[38;5;241m=\u001b[39m \u001b[43mdf_normalizovani\u001b[49m\u001b[38;5;241m.\u001b[39mcolumns\n",
      "\u001b[1;31mNameError\u001b[0m: name 'df_normalizovani' is not defined"
     ]
    }
   ],
   "source": [
    "kol = df_normalizovani.columns"
   ]
  },
  {
   "cell_type": "code",
   "execution_count": 114,
   "id": "2729add9",
   "metadata": {},
   "outputs": [
    {
     "ename": "NameError",
     "evalue": "name 'df_normalizovani' is not defined",
     "output_type": "error",
     "traceback": [
      "\u001b[1;31m---------------------------------------------------------------------------\u001b[0m",
      "\u001b[1;31mNameError\u001b[0m                                 Traceback (most recent call last)",
      "Cell \u001b[1;32mIn[114], line 2\u001b[0m\n\u001b[0;32m      1\u001b[0m plt\u001b[38;5;241m.\u001b[39mrcParams[\u001b[38;5;124m'\u001b[39m\u001b[38;5;124mfigure.figsize\u001b[39m\u001b[38;5;124m'\u001b[39m]\u001b[38;5;241m=\u001b[39m[\u001b[38;5;241m20\u001b[39m,\u001b[38;5;241m10\u001b[39m]\n\u001b[1;32m----> 2\u001b[0m plt\u001b[38;5;241m.\u001b[39mboxplot(\u001b[43mdf_normalizovani\u001b[49m[kol]\u001b[38;5;241m.\u001b[39mT)\n\u001b[0;32m      3\u001b[0m plt\u001b[38;5;241m.\u001b[39mshow()\n",
      "\u001b[1;31mNameError\u001b[0m: name 'df_normalizovani' is not defined"
     ]
    }
   ],
   "source": [
    "plt.rcParams['figure.figsize']=[20,10]\n",
    "plt.boxplot(df_normalizovani[kol].T)\n",
    "plt.show()"
   ]
  },
  {
   "cell_type": "code",
   "execution_count": 115,
   "id": "36c9d523",
   "metadata": {},
   "outputs": [
    {
     "ename": "NameError",
     "evalue": "name 'df_normalizovani' is not defined",
     "output_type": "error",
     "traceback": [
      "\u001b[1;31m---------------------------------------------------------------------------\u001b[0m",
      "\u001b[1;31mNameError\u001b[0m                                 Traceback (most recent call last)",
      "Cell \u001b[1;32mIn[115], line 1\u001b[0m\n\u001b[1;32m----> 1\u001b[0m \u001b[43mdf_normalizovani\u001b[49m\u001b[38;5;241m.\u001b[39mcolumns\n",
      "\u001b[1;31mNameError\u001b[0m: name 'df_normalizovani' is not defined"
     ]
    }
   ],
   "source": [
    "df_normalizovani.columns "
   ]
  },
  {
   "cell_type": "code",
   "execution_count": 116,
   "id": "1416aded",
   "metadata": {},
   "outputs": [],
   "source": [
    "#Sa slike uocavamo da godine, puta_kontaktiran_u_kampanji, dana_od_poslednjeg_kontakta, puta_kontaktiran_u_proslosti, indeks_poverenja_kupca imaju ekstremne vrednosti, pa cemo ih ukloniti"
   ]
  },
  {
   "cell_type": "code",
   "execution_count": 117,
   "id": "98d2d80e",
   "metadata": {},
   "outputs": [],
   "source": [
    "#Naredni korak je odredjivanje i otklanjanje ekstremnih vrednosti."
   ]
  },
  {
   "cell_type": "code",
   "execution_count": 118,
   "id": "3d6bd6f4",
   "metadata": {},
   "outputs": [],
   "source": [
    "#Otklonicemo ih tako sto cemo postaviti granice preko odgovarajucih formula, i one van granica cemo otkloniti"
   ]
  },
  {
   "cell_type": "code",
   "execution_count": 119,
   "id": "a5b5e9c7",
   "metadata": {},
   "outputs": [],
   "source": [
    "#Izracunavamo kvartile koji su potrebni za formulu sa interkvartilnim granicama IQR"
   ]
  },
  {
   "cell_type": "code",
   "execution_count": 120,
   "id": "34988c5b",
   "metadata": {},
   "outputs": [
    {
     "ename": "NameError",
     "evalue": "name 'df_normalizovani' is not defined",
     "output_type": "error",
     "traceback": [
      "\u001b[1;31m---------------------------------------------------------------------------\u001b[0m",
      "\u001b[1;31mNameError\u001b[0m                                 Traceback (most recent call last)",
      "Cell \u001b[1;32mIn[120], line 1\u001b[0m\n\u001b[1;32m----> 1\u001b[0m kvGodine25 \u001b[38;5;241m=\u001b[39m \u001b[43mdf_normalizovani\u001b[49m[\u001b[38;5;124m'\u001b[39m\u001b[38;5;124mgodine\u001b[39m\u001b[38;5;124m'\u001b[39m]\u001b[38;5;241m.\u001b[39mquantile(\u001b[38;5;241m0.25\u001b[39m)\n\u001b[0;32m      2\u001b[0m kvIndeks_poverenja_kupca25 \u001b[38;5;241m=\u001b[39m df_normalizovani[\u001b[38;5;124m'\u001b[39m\u001b[38;5;124mindeks_poverenja_kupca\u001b[39m\u001b[38;5;124m'\u001b[39m]\u001b[38;5;241m.\u001b[39mquantile(\u001b[38;5;241m0.25\u001b[39m)\n\u001b[0;32m      3\u001b[0m kvPuta_kontaktiran_u_kampanji25 \u001b[38;5;241m=\u001b[39m df_normalizovani[\u001b[38;5;124m'\u001b[39m\u001b[38;5;124mputa_kontaktiran_u_kampanji\u001b[39m\u001b[38;5;124m'\u001b[39m]\u001b[38;5;241m.\u001b[39mquantile(\u001b[38;5;241m0.25\u001b[39m)\n",
      "\u001b[1;31mNameError\u001b[0m: name 'df_normalizovani' is not defined"
     ]
    }
   ],
   "source": [
    "kvGodine25 = df_normalizovani['godine'].quantile(0.25)\n",
    "kvIndeks_poverenja_kupca25 = df_normalizovani['indeks_poverenja_kupca'].quantile(0.25)\n",
    "kvPuta_kontaktiran_u_kampanji25 = df_normalizovani['puta_kontaktiran_u_kampanji'].quantile(0.25)\n",
    "kvPuta_kontaktiran_u_proslosti25 = df_normalizovani['puta_kontaktiran_u_proslosti'].quantile(0.25)\n",
    "kvDana_od_poslednjeg_kontakta25 = df_normalizovani['dana_od_poslednjeg_kontakta'].quantile(0.25)\n",
    "\n",
    "kvGodine75 = df_normalizovani['godine'].quantile(0.75)\n",
    "kvIndeks_poverenja_kupca75 = df_normalizovani['indeks_poverenja_kupca'].quantile(0.75)\n",
    "kvPuta_kontaktiran_u_kampanji75 = df_normalizovani['puta_kontaktiran_u_kampanji'].quantile(0.75)\n",
    "kvPuta_kontaktiran_u_proslosti75 = df_normalizovani['puta_kontaktiran_u_proslosti'].quantile(0.75)\n",
    "kvDana_od_poslednjeg_kontakta75 = df_normalizovani['dana_od_poslednjeg_kontakta'].quantile(0.75)"
   ]
  },
  {
   "cell_type": "code",
   "execution_count": 121,
   "id": "78ffcb18",
   "metadata": {},
   "outputs": [],
   "source": [
    "#Izracunavanjе IQR"
   ]
  },
  {
   "cell_type": "code",
   "execution_count": 122,
   "id": "340fc7a1",
   "metadata": {},
   "outputs": [
    {
     "ename": "NameError",
     "evalue": "name 'kvGodine75' is not defined",
     "output_type": "error",
     "traceback": [
      "\u001b[1;31m---------------------------------------------------------------------------\u001b[0m",
      "\u001b[1;31mNameError\u001b[0m                                 Traceback (most recent call last)",
      "Cell \u001b[1;32mIn[122], line 1\u001b[0m\n\u001b[1;32m----> 1\u001b[0m iqrGodine \u001b[38;5;241m=\u001b[39m \u001b[43mkvGodine75\u001b[49m \u001b[38;5;241m-\u001b[39m kvGodine25\n\u001b[0;32m      2\u001b[0m iqrIndeks_poverenja_kupca \u001b[38;5;241m=\u001b[39m kvIndeks_poverenja_kupca75 \u001b[38;5;241m-\u001b[39m kvIndeks_poverenja_kupca25\n\u001b[0;32m      3\u001b[0m iqrPuta_kontaktiran_u_kampanji \u001b[38;5;241m=\u001b[39m kvPuta_kontaktiran_u_kampanji75 \u001b[38;5;241m-\u001b[39m kvPuta_kontaktiran_u_kampanji25\n",
      "\u001b[1;31mNameError\u001b[0m: name 'kvGodine75' is not defined"
     ]
    }
   ],
   "source": [
    "iqrGodine = kvGodine75 - kvGodine25\n",
    "iqrIndeks_poverenja_kupca = kvIndeks_poverenja_kupca75 - kvIndeks_poverenja_kupca25\n",
    "iqrPuta_kontaktiran_u_kampanji = kvPuta_kontaktiran_u_kampanji75 - kvPuta_kontaktiran_u_kampanji25\n",
    "iqrPuta_kontaktiran_u_proslosti = kvPuta_kontaktiran_u_proslosti75 - kvPuta_kontaktiran_u_proslosti25\n",
    "iqrDana_od_poslednjeg_kontakta = kvDana_od_poslednjeg_kontakta75 - kvDana_od_poslednjeg_kontakta25"
   ]
  },
  {
   "cell_type": "code",
   "execution_count": 123,
   "id": "a9be1cdb",
   "metadata": {},
   "outputs": [],
   "source": [
    "#Utvrdjivanje granica i odstranjivanje ekstremnih vrednosti"
   ]
  },
  {
   "cell_type": "code",
   "execution_count": 125,
   "id": "6bd2e5c8",
   "metadata": {},
   "outputs": [
    {
     "ename": "NameError",
     "evalue": "name 'kvGodine75' is not defined",
     "output_type": "error",
     "traceback": [
      "\u001b[1;31m---------------------------------------------------------------------------\u001b[0m",
      "\u001b[1;31mNameError\u001b[0m                                 Traceback (most recent call last)",
      "Cell \u001b[1;32mIn[125], line 1\u001b[0m\n\u001b[1;32m----> 1\u001b[0m granicaGodine \u001b[38;5;241m=\u001b[39m \u001b[43mkvGodine75\u001b[49m \u001b[38;5;241m+\u001b[39m \u001b[38;5;241m1.5\u001b[39m \u001b[38;5;241m*\u001b[39m iqrGodine\n\u001b[0;32m      2\u001b[0m granicaIndeks_poverenja_kupca \u001b[38;5;241m=\u001b[39m kvIndeks_poverenja_kupca75 \u001b[38;5;241m+\u001b[39m \u001b[38;5;241m1.5\u001b[39m\u001b[38;5;241m*\u001b[39m iqrIndeks_poverenja_kupca\n\u001b[0;32m      3\u001b[0m granicaPuta_kontaktiran_u_kampanji \u001b[38;5;241m=\u001b[39m kvPuta_kontaktiran_u_kampanji75 \u001b[38;5;241m+\u001b[39m \u001b[38;5;241m1.5\u001b[39m \u001b[38;5;241m*\u001b[39m iqrPuta_kontaktiran_u_kampanji\n",
      "\u001b[1;31mNameError\u001b[0m: name 'kvGodine75' is not defined"
     ]
    }
   ],
   "source": [
    "granicaGodine = kvGodine75 + 1.5 * iqrGodine\n",
    "granicaIndeks_poverenja_kupca = kvIndeks_poverenja_kupca75 + 1.5* iqrIndeks_poverenja_kupca\n",
    "granicaPuta_kontaktiran_u_kampanji = kvPuta_kontaktiran_u_kampanji75 + 1.5 * iqrPuta_kontaktiran_u_kampanji\n",
    "granicaPuta_kontaktiran_u_proslosti = kvPuta_kontaktiran_u_proslosti75 + 1.5 * iqrPuta_kontaktiran_u_proslosti\n",
    "granicaDana_od_poslednjeg_kontakta = kvDana_od_poslednjeg_kontakta75 + 1.5 * iqrDana_od_poslednjeg_kontakta"
   ]
  },
  {
   "cell_type": "code",
   "execution_count": 126,
   "id": "44c8cb31",
   "metadata": {},
   "outputs": [
    {
     "ename": "NameError",
     "evalue": "name 'df_normalizovani' is not defined",
     "output_type": "error",
     "traceback": [
      "\u001b[1;31m---------------------------------------------------------------------------\u001b[0m",
      "\u001b[1;31mNameError\u001b[0m                                 Traceback (most recent call last)",
      "Cell \u001b[1;32mIn[126], line 1\u001b[0m\n\u001b[1;32m----> 1\u001b[0m df_normalizovani \u001b[38;5;241m=\u001b[39m \u001b[43mdf_normalizovani\u001b[49m\u001b[38;5;241m.\u001b[39mloc[df_normalizovani[\u001b[38;5;124m'\u001b[39m\u001b[38;5;124mgodine\u001b[39m\u001b[38;5;124m'\u001b[39m]\u001b[38;5;241m<\u001b[39mgranicaGodine]\n\u001b[0;32m      2\u001b[0m df_normalizovani \u001b[38;5;241m=\u001b[39m df_normalizovani\u001b[38;5;241m.\u001b[39mloc[df_normalizovani[\u001b[38;5;124m'\u001b[39m\u001b[38;5;124mindeks_poverenja_kupca\u001b[39m\u001b[38;5;124m'\u001b[39m]\u001b[38;5;241m<\u001b[39mgranicaIndeks_poverenja_kupca]\n\u001b[0;32m      3\u001b[0m df_normalizovani \u001b[38;5;241m=\u001b[39m df_normalizovani\u001b[38;5;241m.\u001b[39mloc[df_normalizovani[\u001b[38;5;124m'\u001b[39m\u001b[38;5;124mputa_kontaktiran_u_kampanji\u001b[39m\u001b[38;5;124m'\u001b[39m]\u001b[38;5;241m<\u001b[39mgranicaPuta_kontaktiran_u_kampanji]\n",
      "\u001b[1;31mNameError\u001b[0m: name 'df_normalizovani' is not defined"
     ]
    }
   ],
   "source": [
    "df_normalizovani = df_normalizovani.loc[df_normalizovani['godine']<granicaGodine]\n",
    "df_normalizovani = df_normalizovani.loc[df_normalizovani['indeks_poverenja_kupca']<granicaIndeks_poverenja_kupca]\n",
    "df_normalizovani = df_normalizovani.loc[df_normalizovani['puta_kontaktiran_u_kampanji']<granicaPuta_kontaktiran_u_kampanji]\n",
    "#df_normalizovani = df_normalizovani.loc[df_normalizovani['puta_kontaktiran_u_proslosti']<granicaPuta_kontaktiran_u_proslosti]\n",
    "#df_normalizovani = df_normalizovani.loc[df_normalizovani['dana_od_poslednjeg_kontakta']<granicaDana_od_poslednjeg_kontakta]"
   ]
  },
  {
   "cell_type": "code",
   "execution_count": 127,
   "id": "1c14827f",
   "metadata": {},
   "outputs": [
    {
     "ename": "NameError",
     "evalue": "name 'df_normalizovani' is not defined",
     "output_type": "error",
     "traceback": [
      "\u001b[1;31m---------------------------------------------------------------------------\u001b[0m",
      "\u001b[1;31mNameError\u001b[0m                                 Traceback (most recent call last)",
      "Cell \u001b[1;32mIn[127], line 2\u001b[0m\n\u001b[0;32m      1\u001b[0m plt\u001b[38;5;241m.\u001b[39mrcParams[\u001b[38;5;124m'\u001b[39m\u001b[38;5;124mfigure.figsize\u001b[39m\u001b[38;5;124m'\u001b[39m]\u001b[38;5;241m=\u001b[39m[\u001b[38;5;241m20\u001b[39m,\u001b[38;5;241m10\u001b[39m]\n\u001b[1;32m----> 2\u001b[0m plt\u001b[38;5;241m.\u001b[39mboxplot(\u001b[43mdf_normalizovani\u001b[49m[kolone]\u001b[38;5;241m.\u001b[39mT)\n\u001b[0;32m      3\u001b[0m plt\u001b[38;5;241m.\u001b[39mshow()\n",
      "\u001b[1;31mNameError\u001b[0m: name 'df_normalizovani' is not defined"
     ]
    }
   ],
   "source": [
    "plt.rcParams['figure.figsize']=[20,10]\n",
    "plt.boxplot(df_normalizovani[kolone].T)\n",
    "plt.show()"
   ]
  },
  {
   "cell_type": "code",
   "execution_count": 128,
   "id": "6da88c93",
   "metadata": {},
   "outputs": [
    {
     "ename": "NameError",
     "evalue": "name 'df_normalizovani' is not defined",
     "output_type": "error",
     "traceback": [
      "\u001b[1;31m---------------------------------------------------------------------------\u001b[0m",
      "\u001b[1;31mNameError\u001b[0m                                 Traceback (most recent call last)",
      "Cell \u001b[1;32mIn[128], line 1\u001b[0m\n\u001b[1;32m----> 1\u001b[0m \u001b[43mdf_normalizovani\u001b[49m\u001b[38;5;241m.\u001b[39mcolumns\n",
      "\u001b[1;31mNameError\u001b[0m: name 'df_normalizovani' is not defined"
     ]
    }
   ],
   "source": [
    "df_normalizovani.columns"
   ]
  },
  {
   "cell_type": "code",
   "execution_count": 130,
   "id": "565d646e",
   "metadata": {},
   "outputs": [
    {
     "ename": "NameError",
     "evalue": "name 'df_normalizovani' is not defined",
     "output_type": "error",
     "traceback": [
      "\u001b[1;31m---------------------------------------------------------------------------\u001b[0m",
      "\u001b[1;31mNameError\u001b[0m                                 Traceback (most recent call last)",
      "Cell \u001b[1;32mIn[130], line 1\u001b[0m\n\u001b[1;32m----> 1\u001b[0m \u001b[43mdf_normalizovani\u001b[49m[\u001b[38;5;124m'\u001b[39m\u001b[38;5;124mdana_od_poslednjeg_kontakta\u001b[39m\u001b[38;5;124m'\u001b[39m]\u001b[38;5;241m.\u001b[39mvalue_counts()\n",
      "\u001b[1;31mNameError\u001b[0m: name 'df_normalizovani' is not defined"
     ]
    }
   ],
   "source": [
    "df_normalizovani['dana_od_poslednjeg_kontakta'].value_counts()"
   ]
  },
  {
   "cell_type": "code",
   "execution_count": 131,
   "id": "702d115c",
   "metadata": {},
   "outputs": [
    {
     "ename": "NameError",
     "evalue": "name 'df_normalizovani' is not defined",
     "output_type": "error",
     "traceback": [
      "\u001b[1;31m---------------------------------------------------------------------------\u001b[0m",
      "\u001b[1;31mNameError\u001b[0m                                 Traceback (most recent call last)",
      "Cell \u001b[1;32mIn[131], line 1\u001b[0m\n\u001b[1;32m----> 1\u001b[0m \u001b[43mdf_normalizovani\u001b[49m[\u001b[38;5;124m'\u001b[39m\u001b[38;5;124mputa_kontaktiran_u_proslosti\u001b[39m\u001b[38;5;124m'\u001b[39m]\u001b[38;5;241m.\u001b[39mvalue_counts()\n",
      "\u001b[1;31mNameError\u001b[0m: name 'df_normalizovani' is not defined"
     ]
    }
   ],
   "source": [
    "df_normalizovani['puta_kontaktiran_u_proslosti'].value_counts()"
   ]
  },
  {
   "cell_type": "code",
   "execution_count": 132,
   "id": "38302669",
   "metadata": {},
   "outputs": [],
   "source": [
    "#Atributi dana_od_poslednjeg_kontakta i puta_kontaktiran_u_proslosti nisu pogodni za otklanjanje ekstremnih vrednosti, pa ni za klasteroanje. Zato ih odstranjujemo."
   ]
  },
  {
   "cell_type": "code",
   "execution_count": 133,
   "id": "b4c30948",
   "metadata": {},
   "outputs": [
    {
     "ename": "NameError",
     "evalue": "name 'df_normalizovani' is not defined",
     "output_type": "error",
     "traceback": [
      "\u001b[1;31m---------------------------------------------------------------------------\u001b[0m",
      "\u001b[1;31mNameError\u001b[0m                                 Traceback (most recent call last)",
      "Cell \u001b[1;32mIn[133], line 1\u001b[0m\n\u001b[1;32m----> 1\u001b[0m \u001b[43mdf_normalizovani\u001b[49m\u001b[38;5;241m.\u001b[39mdrop([\u001b[38;5;124m'\u001b[39m\u001b[38;5;124mdana_od_poslednjeg_kontakta\u001b[39m\u001b[38;5;124m'\u001b[39m,\u001b[38;5;124m'\u001b[39m\u001b[38;5;124mputa_kontaktiran_u_proslosti\u001b[39m\u001b[38;5;124m'\u001b[39m], axis \u001b[38;5;241m=\u001b[39m \u001b[38;5;241m1\u001b[39m, inplace \u001b[38;5;241m=\u001b[39m \u001b[38;5;28;01mTrue\u001b[39;00m)\n",
      "\u001b[1;31mNameError\u001b[0m: name 'df_normalizovani' is not defined"
     ]
    }
   ],
   "source": [
    "df_normalizovani.drop(['dana_od_poslednjeg_kontakta','puta_kontaktiran_u_proslosti'], axis = 1, inplace = True)"
   ]
  },
  {
   "cell_type": "code",
   "execution_count": 134,
   "id": "2b3bb52f",
   "metadata": {},
   "outputs": [
    {
     "ename": "NameError",
     "evalue": "name 'df_normalizovani' is not defined",
     "output_type": "error",
     "traceback": [
      "\u001b[1;31m---------------------------------------------------------------------------\u001b[0m",
      "\u001b[1;31mNameError\u001b[0m                                 Traceback (most recent call last)",
      "Cell \u001b[1;32mIn[134], line 1\u001b[0m\n\u001b[1;32m----> 1\u001b[0m kolone \u001b[38;5;241m=\u001b[39m \u001b[43mdf_normalizovani\u001b[49m\u001b[38;5;241m.\u001b[39mcolumns\n",
      "\u001b[1;31mNameError\u001b[0m: name 'df_normalizovani' is not defined"
     ]
    }
   ],
   "source": [
    "kolone = df_normalizovani.columns"
   ]
  },
  {
   "cell_type": "code",
   "execution_count": 135,
   "id": "7e16c209",
   "metadata": {},
   "outputs": [
    {
     "ename": "NameError",
     "evalue": "name 'df_normalizovani' is not defined",
     "output_type": "error",
     "traceback": [
      "\u001b[1;31m---------------------------------------------------------------------------\u001b[0m",
      "\u001b[1;31mNameError\u001b[0m                                 Traceback (most recent call last)",
      "Cell \u001b[1;32mIn[135], line 2\u001b[0m\n\u001b[0;32m      1\u001b[0m plt\u001b[38;5;241m.\u001b[39mrcParams[\u001b[38;5;124m'\u001b[39m\u001b[38;5;124mfigure.figsize\u001b[39m\u001b[38;5;124m'\u001b[39m]\u001b[38;5;241m=\u001b[39m[\u001b[38;5;241m20\u001b[39m,\u001b[38;5;241m10\u001b[39m]\n\u001b[1;32m----> 2\u001b[0m plt\u001b[38;5;241m.\u001b[39mboxplot(\u001b[43mdf_normalizovani\u001b[49m[df_normalizovani\u001b[38;5;241m.\u001b[39mcolumns]\u001b[38;5;241m.\u001b[39mT)\n\u001b[0;32m      3\u001b[0m plt\u001b[38;5;241m.\u001b[39mshow()\n",
      "\u001b[1;31mNameError\u001b[0m: name 'df_normalizovani' is not defined"
     ]
    }
   ],
   "source": [
    "plt.rcParams['figure.figsize']=[20,10]\n",
    "plt.boxplot(df_normalizovani[df_normalizovani.columns].T)\n",
    "plt.show()"
   ]
  },
  {
   "cell_type": "code",
   "execution_count": 136,
   "id": "60e63968",
   "metadata": {},
   "outputs": [],
   "source": [
    "#Sada cemo raditi normalizaciju bez ekstremnih vrednosti."
   ]
  },
  {
   "cell_type": "code",
   "execution_count": 138,
   "id": "184eeaa1",
   "metadata": {},
   "outputs": [
    {
     "ename": "NameError",
     "evalue": "name 'df_normalizovani' is not defined",
     "output_type": "error",
     "traceback": [
      "\u001b[1;31m---------------------------------------------------------------------------\u001b[0m",
      "\u001b[1;31mNameError\u001b[0m                                 Traceback (most recent call last)",
      "Cell \u001b[1;32mIn[138], line 1\u001b[0m\n\u001b[1;32m----> 1\u001b[0m df_normalizovani \u001b[38;5;241m=\u001b[39m scaler\u001b[38;5;241m.\u001b[39mfit_transform(\u001b[43mdf_normalizovani\u001b[49m)\n",
      "\u001b[1;31mNameError\u001b[0m: name 'df_normalizovani' is not defined"
     ]
    }
   ],
   "source": [
    "df_normalizovani = scaler.fit_transform(df_normalizovani)"
   ]
  },
  {
   "cell_type": "code",
   "execution_count": 139,
   "id": "05d49249",
   "metadata": {},
   "outputs": [
    {
     "ename": "NameError",
     "evalue": "name 'df_normalizovani' is not defined",
     "output_type": "error",
     "traceback": [
      "\u001b[1;31m---------------------------------------------------------------------------\u001b[0m",
      "\u001b[1;31mNameError\u001b[0m                                 Traceback (most recent call last)",
      "Cell \u001b[1;32mIn[139], line 1\u001b[0m\n\u001b[1;32m----> 1\u001b[0m df_normalizovani \u001b[38;5;241m=\u001b[39m pd\u001b[38;5;241m.\u001b[39mDataFrame(\u001b[43mdf_normalizovani\u001b[49m, columns \u001b[38;5;241m=\u001b[39m kolone)\n",
      "\u001b[1;31mNameError\u001b[0m: name 'df_normalizovani' is not defined"
     ]
    }
   ],
   "source": [
    "df_normalizovani = pd.DataFrame(df_normalizovani, columns = kolone)"
   ]
  },
  {
   "cell_type": "code",
   "execution_count": 140,
   "id": "4b6a5e94",
   "metadata": {},
   "outputs": [
    {
     "ename": "NameError",
     "evalue": "name 'df_normalizovani' is not defined",
     "output_type": "error",
     "traceback": [
      "\u001b[1;31m---------------------------------------------------------------------------\u001b[0m",
      "\u001b[1;31mNameError\u001b[0m                                 Traceback (most recent call last)",
      "Cell \u001b[1;32mIn[140], line 2\u001b[0m\n\u001b[0;32m      1\u001b[0m plt\u001b[38;5;241m.\u001b[39mrcParams[\u001b[38;5;124m'\u001b[39m\u001b[38;5;124mfigure.figsize\u001b[39m\u001b[38;5;124m'\u001b[39m]\u001b[38;5;241m=\u001b[39m[\u001b[38;5;241m20\u001b[39m,\u001b[38;5;241m10\u001b[39m]\n\u001b[1;32m----> 2\u001b[0m plt\u001b[38;5;241m.\u001b[39mboxplot(\u001b[43mdf_normalizovani\u001b[49m[kolone]\u001b[38;5;241m.\u001b[39mT)\n\u001b[0;32m      3\u001b[0m plt\u001b[38;5;241m.\u001b[39mshow()\n",
      "\u001b[1;31mNameError\u001b[0m: name 'df_normalizovani' is not defined"
     ]
    }
   ],
   "source": [
    "plt.rcParams['figure.figsize']=[20,10]\n",
    "plt.boxplot(df_normalizovani[kolone].T)\n",
    "plt.show()"
   ]
  },
  {
   "cell_type": "code",
   "execution_count": 141,
   "id": "8a677a60",
   "metadata": {},
   "outputs": [],
   "source": [
    "# К means"
   ]
  },
  {
   "cell_type": "code",
   "execution_count": 142,
   "id": "3a0981d0",
   "metadata": {},
   "outputs": [],
   "source": [
    "from sklearn.cluster import KMeans"
   ]
  },
  {
   "cell_type": "code",
   "execution_count": 143,
   "id": "35bc4002",
   "metadata": {},
   "outputs": [
    {
     "ename": "NameError",
     "evalue": "name 'df_normalizovani' is not defined",
     "output_type": "error",
     "traceback": [
      "\u001b[1;31m---------------------------------------------------------------------------\u001b[0m",
      "\u001b[1;31mNameError\u001b[0m                                 Traceback (most recent call last)",
      "Cell \u001b[1;32mIn[143], line 2\u001b[0m\n\u001b[0;32m      1\u001b[0m algoritam \u001b[38;5;241m=\u001b[39m KMeans(n_clusters \u001b[38;5;241m=\u001b[39m \u001b[38;5;241m3\u001b[39m, max_iter \u001b[38;5;241m=\u001b[39m \u001b[38;5;241m100\u001b[39m, random_state\u001b[38;5;241m=\u001b[39m\u001b[38;5;241m13\u001b[39m)\n\u001b[1;32m----> 2\u001b[0m df_bez_y \u001b[38;5;241m=\u001b[39m \u001b[43mdf_normalizovani\u001b[49m\u001b[38;5;241m.\u001b[39miloc[:, :\u001b[38;5;241m-\u001b[39m\u001b[38;5;241m1\u001b[39m] \n\u001b[0;32m      3\u001b[0m klaster_model \u001b[38;5;241m=\u001b[39m algoritam\u001b[38;5;241m.\u001b[39mfit(df_bez_y)\n\u001b[0;32m      4\u001b[0m centroidi \u001b[38;5;241m=\u001b[39m klaster_model\u001b[38;5;241m.\u001b[39mcluster_centers_\n",
      "\u001b[1;31mNameError\u001b[0m: name 'df_normalizovani' is not defined"
     ]
    }
   ],
   "source": [
    "algoritam = KMeans(n_clusters = 3, max_iter = 100, random_state=13)\n",
    "df_bez_y = df_normalizovani.iloc[:, :-1] \n",
    "klaster_model = algoritam.fit(df_bez_y)\n",
    "centroidi = klaster_model.cluster_centers_\n",
    "klasteri = klaster_model.predict(df_bez_y)\n",
    "df_bez_y['Cluster'] = klasteri\n",
    "df_normalizovani['Cluster'] = klasteri"
   ]
  },
  {
   "cell_type": "code",
   "execution_count": 144,
   "id": "c00c45f5",
   "metadata": {},
   "outputs": [
    {
     "ename": "NameError",
     "evalue": "name 'df_bez_y' is not defined",
     "output_type": "error",
     "traceback": [
      "\u001b[1;31m---------------------------------------------------------------------------\u001b[0m",
      "\u001b[1;31mNameError\u001b[0m                                 Traceback (most recent call last)",
      "Cell \u001b[1;32mIn[144], line 1\u001b[0m\n\u001b[1;32m----> 1\u001b[0m kolone1 \u001b[38;5;241m=\u001b[39m \u001b[43mdf_bez_y\u001b[49m\u001b[38;5;241m.\u001b[39mcolumns\n\u001b[0;32m      2\u001b[0m kolone1\n",
      "\u001b[1;31mNameError\u001b[0m: name 'df_bez_y' is not defined"
     ]
    }
   ],
   "source": [
    "kolone1 = df_bez_y.columns\n",
    "kolone1"
   ]
  },
  {
   "cell_type": "code",
   "execution_count": 145,
   "id": "1417d388",
   "metadata": {},
   "outputs": [
    {
     "ename": "NameError",
     "evalue": "name 'centroidi' is not defined",
     "output_type": "error",
     "traceback": [
      "\u001b[1;31m---------------------------------------------------------------------------\u001b[0m",
      "\u001b[1;31mNameError\u001b[0m                                 Traceback (most recent call last)",
      "Cell \u001b[1;32mIn[145], line 2\u001b[0m\n\u001b[0;32m      1\u001b[0m plt\u001b[38;5;241m.\u001b[39mrcParams[\u001b[38;5;124m'\u001b[39m\u001b[38;5;124mfigure.figsize\u001b[39m\u001b[38;5;124m'\u001b[39m]\u001b[38;5;241m=\u001b[39m[\u001b[38;5;241m20\u001b[39m,\u001b[38;5;241m10\u001b[39m]\n\u001b[1;32m----> 2\u001b[0m plt\u001b[38;5;241m.\u001b[39mplot(\u001b[43mcentroidi\u001b[49m[\u001b[38;5;241m0\u001b[39m,:], c \u001b[38;5;241m=\u001b[39m \u001b[38;5;124m'\u001b[39m\u001b[38;5;124mr\u001b[39m\u001b[38;5;124m'\u001b[39m)\n\u001b[0;32m      3\u001b[0m plt\u001b[38;5;241m.\u001b[39mplot(centroidi[\u001b[38;5;241m1\u001b[39m,:], c \u001b[38;5;241m=\u001b[39m \u001b[38;5;124m'\u001b[39m\u001b[38;5;124mb\u001b[39m\u001b[38;5;124m'\u001b[39m)\n\u001b[0;32m      4\u001b[0m plt\u001b[38;5;241m.\u001b[39mplot(centroidi[\u001b[38;5;241m2\u001b[39m,:], c \u001b[38;5;241m=\u001b[39m \u001b[38;5;124m'\u001b[39m\u001b[38;5;124mg\u001b[39m\u001b[38;5;124m'\u001b[39m)\n",
      "\u001b[1;31mNameError\u001b[0m: name 'centroidi' is not defined"
     ]
    }
   ],
   "source": [
    "plt.rcParams['figure.figsize']=[20,10]\n",
    "plt.plot(centroidi[0,:], c = 'r')\n",
    "plt.plot(centroidi[1,:], c = 'b')\n",
    "plt.plot(centroidi[2,:], c = 'g')\n",
    "plt.xticks(list(range(45)), kolone1, rotation='vertical')\n",
    "plt.show()"
   ]
  },
  {
   "cell_type": "code",
   "execution_count": 146,
   "id": "f56bd08e",
   "metadata": {},
   "outputs": [],
   "source": [
    "#Klasteri su oznaceni crvenom, plavom i zelenom bojom."
   ]
  },
  {
   "cell_type": "code",
   "execution_count": 147,
   "id": "bbbe49ef",
   "metadata": {},
   "outputs": [],
   "source": [
    "#Dobili smo vrednosti za 3 razlicita klastera koji se po nekim atributima podudaraju, a negde i nemamo mnogo poklapanja \n",
    "#na primer za atribut vrsta kontakta i mesec u kome su kontaktirani\n"
   ]
  },
  {
   "cell_type": "code",
   "execution_count": 148,
   "id": "0bf449fb",
   "metadata": {},
   "outputs": [],
   "source": [
    "# OCENA MODELA"
   ]
  },
  {
   "cell_type": "code",
   "execution_count": 149,
   "id": "b8e306f1",
   "metadata": {},
   "outputs": [
    {
     "ename": "NameError",
     "evalue": "name 'df_bez_y' is not defined",
     "output_type": "error",
     "traceback": [
      "\u001b[1;31m---------------------------------------------------------------------------\u001b[0m",
      "\u001b[1;31mNameError\u001b[0m                                 Traceback (most recent call last)",
      "Cell \u001b[1;32mIn[149], line 2\u001b[0m\n\u001b[0;32m      1\u001b[0m \u001b[38;5;28;01mfrom\u001b[39;00m \u001b[38;5;21;01msklearn\u001b[39;00m\u001b[38;5;21;01m.\u001b[39;00m\u001b[38;5;21;01mmetrics\u001b[39;00m \u001b[38;5;28;01mimport\u001b[39;00m silhouette_score\n\u001b[1;32m----> 2\u001b[0m silhouette_score(\u001b[43mdf_bez_y\u001b[49m , klaster_model\u001b[38;5;241m.\u001b[39mlabels_)\n",
      "\u001b[1;31mNameError\u001b[0m: name 'df_bez_y' is not defined"
     ]
    }
   ],
   "source": [
    "from sklearn.metrics import silhouette_score\n",
    "silhouette_score(df_bez_y , klaster_model.labels_)"
   ]
  },
  {
   "cell_type": "code",
   "execution_count": 150,
   "id": "0cc3bc79",
   "metadata": {},
   "outputs": [],
   "source": [
    "#Jako niska ocena, stoga treba odraditi odredjene izmene na nasem modelu"
   ]
  },
  {
   "cell_type": "code",
   "execution_count": 151,
   "id": "fae17b65",
   "metadata": {},
   "outputs": [],
   "source": [
    "#Da bismo promenili rezultate klasterovanja moramo da odstranmo pojedine atribute koji generisu te rezultate\n",
    "#Odabracemo one cije su vrednosti slicne za sve klastere jer je cilj klasterovanja da vrednosti u razlicitim klasterima budu\n",
    "#sto razlicitije"
   ]
  },
  {
   "cell_type": "code",
   "execution_count": null,
   "id": "81d6c02e",
   "metadata": {},
   "outputs": [],
   "source": [
    "#Kolone koje cemo odstraniti su: age, campaign, izvedena, job_admin.,job_entrepreneur,job_housemaid,job_management,job_retired,\n",
    "#job_self-employed,job_services,marital_divorced,education_illiterate"
   ]
  }
 ],
 "metadata": {
  "kernelspec": {
   "display_name": "Python 3 (ipykernel)",
   "language": "python",
   "name": "python3"
  },
  "language_info": {
   "codemirror_mode": {
    "name": "ipython",
    "version": 3
   },
   "file_extension": ".py",
   "mimetype": "text/x-python",
   "name": "python",
   "nbconvert_exporter": "python",
   "pygments_lexer": "ipython3",
   "version": "3.10.9"
  }
 },
 "nbformat": 4,
 "nbformat_minor": 5
}
